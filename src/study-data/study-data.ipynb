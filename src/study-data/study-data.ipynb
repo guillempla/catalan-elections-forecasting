{
 "cells": [
  {
   "cell_type": "markdown",
   "metadata": {},
   "source": [
    "# Study Catalan Elections Dataset"
   ]
  },
  {
   "cell_type": "markdown",
   "metadata": {},
   "source": [
    "Load libraries:"
   ]
  },
  {
   "cell_type": "code",
   "execution_count": 10,
   "metadata": {},
   "outputs": [],
   "source": [
    "import pandas as pd"
   ]
  },
  {
   "cell_type": "markdown",
   "metadata": {},
   "source": [
    "Load the dataset:"
   ]
  },
  {
   "cell_type": "code",
   "execution_count": 11,
   "metadata": {},
   "outputs": [
    {
     "name": "stderr",
     "output_type": "stream",
     "text": [
      "C:\\Users\\guill\\AppData\\Local\\Temp\\ipykernel_31604\\501433994.py:1: DtypeWarning: Columns (5,13,14,16,19,20) have mixed types. Specify dtype option on import or set low_memory=False.\n",
      "  df = pd.read_csv('../../data/raw/catalan-elections-data.csv')\n"
     ]
    }
   ],
   "source": [
    "df = pd.read_csv('../../data/raw/catalan-elections-data.csv')"
   ]
  },
  {
   "cell_type": "markdown",
   "metadata": {},
   "source": [
    "## Dataset Structure"
   ]
  },
  {
   "cell_type": "markdown",
   "metadata": {},
   "source": [
    "Visualize the structure of the dataset:"
   ]
  },
  {
   "cell_type": "code",
   "execution_count": 12,
   "metadata": {},
   "outputs": [
    {
     "name": "stdout",
     "output_type": "stream",
     "text": [
      "<class 'pandas.core.frame.DataFrame'>\n",
      "RangeIndex: 19751196 entries, 0 to 19751195\n",
      "Data columns (total 21 columns):\n",
      " #   Column                   Dtype  \n",
      "---  ------                   -----  \n",
      " 0   index_autonumeric        int64  \n",
      " 1   id_eleccio               object \n",
      " 2   nom_eleccio              object \n",
      " 3   id_nivell_territorial    object \n",
      " 4   nom_nivell_territorial   object \n",
      " 5   territori_codi           object \n",
      " 6   territori_nom            object \n",
      " 7   secci_                   float64\n",
      " 8   candidatura_codi         int64  \n",
      " 9   candidatura_denominacio  object \n",
      " 10  candidatura_sigles       object \n",
      " 11  vots                     int64  \n",
      " 12  escons                   float64\n",
      " 13  candidatura_color        object \n",
      " 14  candidatura_logotip      object \n",
      " 15  districte                float64\n",
      " 16  mesa                     object \n",
      " 17  candidat_posicio         float64\n",
      " 18  agrupacio_codi           float64\n",
      " 19  agrupacio_denominacio    object \n",
      " 20  agrupacio_sigles         object \n",
      "dtypes: float64(5), int64(3), object(13)\n",
      "memory usage: 3.1+ GB\n"
     ]
    }
   ],
   "source": [
    "df.info()"
   ]
  },
  {
   "cell_type": "markdown",
   "metadata": {},
   "source": [
    "| Column name               | Description                                            | Type      |\n",
    "|---------------------------|--------------------------------------------------------|-----------|\n",
    "| INDEX_AUTONUMERIC         | Autonumeric index identifier for the row               | Plain Text|\n",
    "| ID_ELECCIO                | Identifier of the election (Type+Year+Sequential)      | Plain Text|\n",
    "| NOM_ELECCIO               | Name of the electoral process                          | Plain Text|\n",
    "| ID_NIVELL_TERRITORIAL     | Identifier of the territorial level (Municipality, Vegueria, County...) | Plain Text|\n",
    "| NOM_NIVELL_TERRITORIAL    | Name of the territorial level of the record (Municipality, County...) | Plain Text|\n",
    "| TERRITORI_CODI            | Territory code                                         | Plain Text|\n",
    "| TERRITORI_NOM             | Name of the territory                                  | Plain Text|\n",
    "| DISTRICTE                 | Electoral district                                     | Plain Text|\n",
    "| SECCIÓ                    | Electoral section                                      | Plain Text|\n",
    "| MESA                      | Electoral table                                        | Plain Text|\n",
    "| CANDIDATURA_CODI          | Code of the candidacy                                  | Plain Text|\n",
    "| CANDIDATURA_DENOMINACIO   | Name of the candidacy                                  | Plain Text|\n",
    "| CANDIDATURA_SIGLES        | Acronym of the candidacy                               | Plain Text|\n",
    "| CANDIDAT_POSICIO          | Position of the candidate in the list                  | Plain Text|\n",
    "| AGRUPACIO_CODI            | Code of the group of candidacies                       | Plain Text|\n",
    "| AGRUPACIO_DENOMINACIO     | Name of the group of candidacies                       | Plain Text|\n",
    "| AGRUPACIO_SIGLES          | Acronym of the group of candidacies                    | Plain Text|\n",
    "| VOTS                      | Votes of the candidacy                                 | Number    |\n",
    "| ESCONS                    | Seats of the candidacy                                 | Number    |\n",
    "| CANDIDATURA_COLOR         | Color of the candidacy                                 | Plain Text|\n",
    "| CANDIDATURA_LOGOTIP       | Logo of the candidacy                                  | Plain Text|"
   ]
  },
  {
   "cell_type": "markdown",
   "metadata": {},
   "source": [
    "## Types of Elections"
   ]
  },
  {
   "cell_type": "markdown",
   "metadata": {},
   "source": [
    "Divide `id_eleccio` into `type`, `year` and `sequential`:"
   ]
  },
  {
   "cell_type": "code",
   "execution_count": 13,
   "metadata": {},
   "outputs": [],
   "source": [
    "df['type'] = df['id_eleccio'].str[:1]\n",
    "df['year'] = df['id_eleccio'].str[1:5].astype(int)\n",
    "df['sequential'] = df['id_eleccio'].str[5:]"
   ]
  },
  {
   "cell_type": "markdown",
   "metadata": {},
   "source": [
    "Show the types of elections:"
   ]
  },
  {
   "cell_type": "code",
   "execution_count": 14,
   "metadata": {},
   "outputs": [
    {
     "name": "stdout",
     "output_type": "stream",
     "text": [
      "                                   nom_eleccio\n",
      "type                                          \n",
      "A     Eleccions al Parlament de Catalunya 1980\n",
      "C          Eleccions a Consells Comarcals 1987\n",
      "D     Eleccions a Diputacions Provincials 2007\n",
      "E          Eleccions al Parlament Europeu 1987\n",
      "G                    Eleccions al Congrés 1979\n",
      "M                    Eleccions Municipals 1979\n",
      "S                      Eleccions al Senat 1993\n",
      "V     Eleccions al Consell General d'Aran 1991\n",
      "8\n"
     ]
    }
   ],
   "source": [
    "types = df[['type', 'nom_eleccio']].groupby(['type']).first()\n",
    "print(types)\n",
    "print(len(types))"
   ]
  },
  {
   "cell_type": "markdown",
   "metadata": {},
   "source": [
    "Now we know that the dataset contains data from 8 different types of elections:\n",
    "\n",
    "| Type | Election Type Name                          |\n",
    "|------|---------------------------------------------|\n",
    "| A    | Elections to the Parliament of Catalonia    |\n",
    "| C    | Elections to the County Councils            |\n",
    "| D    | Elections to the Provincial Councils        |\n",
    "| E    | Elections to the European Parliament        |\n",
    "| G    | Elections to the Congress                   |\n",
    "| M    | Municipal Elections                         |\n",
    "| S    | Elections to the Senate                     |\n",
    "| V    | Elections to the General Council of Aran    |"
   ]
  },
  {
   "cell_type": "markdown",
   "metadata": {},
   "source": [
    "We only want data from the elections to the Parliament of Catalonia ('A'), municipal elections ('M'), elections to the European Parliament ('E') and elections to the Congress ('G'), so we filter the dataset:"
   ]
  },
  {
   "cell_type": "code",
   "execution_count": 15,
   "metadata": {},
   "outputs": [
    {
     "name": "stdout",
     "output_type": "stream",
     "text": [
      "<class 'pandas.core.frame.DataFrame'>\n",
      "Index: 12339340 entries, 0 to 19750961\n",
      "Data columns (total 24 columns):\n",
      " #   Column                   Dtype  \n",
      "---  ------                   -----  \n",
      " 0   index_autonumeric        int64  \n",
      " 1   id_eleccio               object \n",
      " 2   nom_eleccio              object \n",
      " 3   id_nivell_territorial    object \n",
      " 4   nom_nivell_territorial   object \n",
      " 5   territori_codi           object \n",
      " 6   territori_nom            object \n",
      " 7   secci_                   float64\n",
      " 8   candidatura_codi         int64  \n",
      " 9   candidatura_denominacio  object \n",
      " 10  candidatura_sigles       object \n",
      " 11  vots                     int64  \n",
      " 12  escons                   float64\n",
      " 13  candidatura_color        object \n",
      " 14  candidatura_logotip      object \n",
      " 15  districte                float64\n",
      " 16  mesa                     object \n",
      " 17  candidat_posicio         float64\n",
      " 18  agrupacio_codi           float64\n",
      " 19  agrupacio_denominacio    object \n",
      " 20  agrupacio_sigles         object \n",
      " 21  type                     object \n",
      " 22  year                     int32  \n",
      " 23  sequential               object \n",
      "dtypes: float64(5), int32(1), int64(3), object(15)\n",
      "memory usage: 2.3+ GB\n"
     ]
    }
   ],
   "source": [
    "df = df[df['type'].isin(['M', 'E', 'A', 'G'])]\n",
    "\n",
    "df.info()"
   ]
  },
  {
   "cell_type": "markdown",
   "metadata": {},
   "source": [
    "## Number of elections"
   ]
  },
  {
   "cell_type": "markdown",
   "metadata": {},
   "source": [
    "Display the different elections in the dataset and count them:"
   ]
  },
  {
   "cell_type": "code",
   "execution_count": 16,
   "metadata": {},
   "outputs": [
    {
     "name": "stdout",
     "output_type": "stream",
     "text": [
      "         type  year sequential                               nom_eleccio\n",
      "5765157     G  1977          1                 Eleccions al Congrés 1977\n",
      "10920114    M  1979          1                 Eleccions Municipals 1979\n",
      "2266502     G  1979          1                 Eleccions al Congrés 1979\n",
      "0           A  1980          1  Eleccions al Parlament de Catalunya 1980\n",
      "2849748     G  1982          1                 Eleccions al Congrés 1982\n",
      "11078000    M  1983          1                 Eleccions Municipals 1983\n",
      "172580      A  1984          1  Eleccions al Parlament de Catalunya 1984\n",
      "7842303     G  1986          1                 Eleccions al Congrés 1986\n",
      "1544        E  1987          1       Eleccions al Parlament Europeu 1987\n",
      "11114132    M  1987          1                 Eleccions Municipals 1987\n",
      "388258      A  1988          1  Eleccions al Parlament de Catalunya 1988\n",
      "762184      E  1989          1       Eleccions al Parlament Europeu 1989\n",
      "8111467     G  1989          1                 Eleccions al Congrés 1989\n",
      "11258320    M  1991          1                 Eleccions Municipals 1991\n",
      "702503      A  1992          1  Eleccions al Parlament de Catalunya 1992\n",
      "6291385     G  1993          1                 Eleccions al Congrés 1993\n",
      "4104077     E  1994          1       Eleccions al Parlament Europeu 1994\n",
      "944294      A  1995          1  Eleccions al Parlament de Catalunya 1995\n",
      "11384568    M  1995          1                 Eleccions Municipals 1995\n",
      "6768085     G  1996          1                 Eleccions al Congrés 1996\n",
      "4613242     E  1999          1       Eleccions al Parlament Europeu 1999\n",
      "11482932    M  1999          1                 Eleccions Municipals 1999\n",
      "1099805     A  1999          1  Eleccions al Parlament de Catalunya 1999\n",
      "8889622     G  2000          1                 Eleccions al Congrés 2000\n",
      "11599210    M  2003          1                 Eleccions Municipals 2003\n",
      "1337374     A  2003          1  Eleccions al Parlament de Catalunya 2003\n",
      "9202703     G  2004          1                 Eleccions al Congrés 2004\n",
      "5150990     E  2004          1       Eleccions al Parlament Europeu 2004\n",
      "1543345     A  2006          1  Eleccions al Parlament de Catalunya 2006\n",
      "11651436    M  2007          1                 Eleccions Municipals 2007\n",
      "9549395     G  2008          1                 Eleccions al Congrés 2008\n",
      "5637317     E  2009          1       Eleccions al Parlament Europeu 2009\n",
      "1890108     A  2010          1  Eleccions al Parlament de Catalunya 2010\n",
      "11762757    M  2011          1                 Eleccions Municipals 2011\n",
      "10046927    G  2011          1                 Eleccions al Congrés 2011\n",
      "2336398     A  2012          1  Eleccions al Parlament de Catalunya 2012\n",
      "4109190     E  2014          1       Eleccions al Parlament Europeu 2014\n",
      "1892940     A  2015          1  Eleccions al Parlament de Catalunya 2015\n",
      "10185960    G  2015          1                 Eleccions al Congrés 2015\n",
      "12030351    M  2015          1                 Eleccions Municipals 2015\n",
      "10410830    G  2016          1                 Eleccions al Congrés 2016\n",
      "1889888     A  2017          1  Eleccions al Parlament de Catalunya 2017\n",
      "8655758     G  2019          1           Eleccions al Congrés 2019 abril\n",
      "6737353     E  2019          1       Eleccions al Parlament Europeu 2019\n",
      "10778194    G  2019          2        Eleccions al Congrés 2019 novembre\n",
      "12168777    M  2019          1                 Eleccions Municipals 2019\n",
      "108621      A  2021          1  Eleccions al Parlament de Catalunya 2021\n",
      "47\n"
     ]
    }
   ],
   "source": [
    "elections = df[['type', 'year', 'sequential', 'nom_eleccio']] \\\n",
    "    .drop_duplicates() \\\n",
    "    .sort_values(['year'])\n",
    "print(elections)\n",
    "\n",
    "print(len(elections))"
   ]
  },
  {
   "cell_type": "markdown",
   "metadata": {},
   "source": [
    "## Number of Candidatures"
   ]
  },
  {
   "cell_type": "markdown",
   "metadata": {},
   "source": [
    "Count the number of candidatures:"
   ]
  },
  {
   "cell_type": "code",
   "execution_count": 17,
   "metadata": {},
   "outputs": [
    {
     "name": "stdout",
     "output_type": "stream",
     "text": [
      "['Conservadors de Catalunya' 'Partit Socialista Unificat de Catalunya'\n",
      " 'Partit dels Socialistes de Catalunya (PSC-PSOE)' ...\n",
      " 'ASSEMBLEA PER TARRAGONA-SALOU' 'SOM POBLE- ALTERNATIVA MUNICIPALISTA'\n",
      " 'JUNTS PER LA CANONJA']\n",
      "7351\n"
     ]
    }
   ],
   "source": [
    "candidatures = df.candidatura_denominacio.unique()\n",
    "print(candidatures)\n",
    "\n",
    "print(len(candidatures))"
   ]
  },
  {
   "cell_type": "code",
   "execution_count": 19,
   "metadata": {},
   "outputs": [
    {
     "name": "stdout",
     "output_type": "stream",
     "text": [
      "['C.i.C.' 'PSUC' 'PSC' ... 'AeP - ERC - AM' 'SXS-C' 'SP-AMUNT']\n",
      "5041\n"
     ]
    }
   ],
   "source": [
    "candidatures_abbr = df['candidatura_sigles'].unique()\n",
    "print(candidatures_abbr)\n",
    "\n",
    "print(len(candidatures_abbr))"
   ]
  },
  {
   "cell_type": "code",
   "execution_count": 27,
   "metadata": {},
   "outputs": [
    {
     "name": "stdout",
     "output_type": "stream",
     "text": [
      "[        1         4         6 ... 439054196 439074190 439074191]\n",
      "8617\n"
     ]
    }
   ],
   "source": [
    "candidatures_code = df['candidatura_codi'].unique()\n",
    "print(candidatures_code)\n",
    "\n",
    "print(len(candidatures_code))"
   ]
  },
  {
   "cell_type": "markdown",
   "metadata": {},
   "source": [
    "We can see that when grouping by the candidature abreviature (`candidatura_sigles`) we get less candidatures than when grouping by the candidature name (`candidatura_denominacio`). This is because some candidatures have different names in different elections, but the same abreviature.\n",
    "\n",
    "This will be important when we want to group the candidatures by political party."
   ]
  },
  {
   "cell_type": "markdown",
   "metadata": {},
   "source": [
    "## Number of Candidatures per Election"
   ]
  },
  {
   "cell_type": "markdown",
   "metadata": {},
   "source": [
    "Check the number of candidatures per election:"
   ]
  },
  {
   "cell_type": "code",
   "execution_count": 29,
   "metadata": {},
   "outputs": [
    {
     "name": "stdout",
     "output_type": "stream",
     "text": [
      "nom_eleccio\n",
      "Eleccions Municipals 2019                   2228\n",
      "Eleccions Municipals 2015                   1095\n",
      "Eleccions Municipals 2011                    940\n",
      "Eleccions Municipals 2007                    818\n",
      "Eleccions Municipals 1979                    665\n",
      "                                            ... \n",
      "Eleccions al Consell General d'Aran 1995       5\n",
      "Eleccions al Consell General d'Aran 2015       5\n",
      "Eleccions al Consell General d'Aran 2007       4\n",
      "Eleccions al Consell General d'Aran 2011       4\n",
      "Eleccions al Consell General d'Aran 1991       4\n",
      "Name: candidatura_denominacio, Length: 85, dtype: int64\n"
     ]
    }
   ],
   "source": [
    "elections_num_candidatures = df.groupby('nom_eleccio').candidatura_denominacio.nunique().sort_values(ascending=False)\n",
    "print(elections_num_candidatures)"
   ]
  },
  {
   "cell_type": "markdown",
   "metadata": {},
   "source": [
    "## Important Candidatures"
   ]
  },
  {
   "cell_type": "markdown",
   "metadata": {},
   "source": [
    "Check the number of votes of each candidature and the number of seats obtained:"
   ]
  },
  {
   "cell_type": "code",
   "execution_count": 26,
   "metadata": {},
   "outputs": [
    {
     "data": {
      "text/html": [
       "<div>\n",
       "<style scoped>\n",
       "    .dataframe tbody tr th:only-of-type {\n",
       "        vertical-align: middle;\n",
       "    }\n",
       "\n",
       "    .dataframe tbody tr th {\n",
       "        vertical-align: top;\n",
       "    }\n",
       "\n",
       "    .dataframe thead th {\n",
       "        text-align: right;\n",
       "    }\n",
       "</style>\n",
       "<table border=\"1\" class=\"dataframe\">\n",
       "  <thead>\n",
       "    <tr style=\"text-align: right;\">\n",
       "      <th></th>\n",
       "      <th>num_elections</th>\n",
       "      <th>num_votes</th>\n",
       "      <th>num_seats</th>\n",
       "    </tr>\n",
       "    <tr>\n",
       "      <th>candidatura_sigles</th>\n",
       "      <th></th>\n",
       "      <th></th>\n",
       "      <th></th>\n",
       "    </tr>\n",
       "  </thead>\n",
       "  <tbody>\n",
       "    <tr>\n",
       "      <th>PSC</th>\n",
       "      <td>40</td>\n",
       "      <td>246372873</td>\n",
       "      <td>32841.000</td>\n",
       "    </tr>\n",
       "    <tr>\n",
       "      <th>CiU</th>\n",
       "      <td>36</td>\n",
       "      <td>222876214</td>\n",
       "      <td>136637.907</td>\n",
       "    </tr>\n",
       "    <tr>\n",
       "      <th>PP</th>\n",
       "      <td>36</td>\n",
       "      <td>97218357</td>\n",
       "      <td>11321.000</td>\n",
       "    </tr>\n",
       "    <tr>\n",
       "      <th>PH</th>\n",
       "      <td>26</td>\n",
       "      <td>262863</td>\n",
       "      <td>0.000</td>\n",
       "    </tr>\n",
       "    <tr>\n",
       "      <th>ERC</th>\n",
       "      <td>25</td>\n",
       "      <td>40151434</td>\n",
       "      <td>7441.000</td>\n",
       "    </tr>\n",
       "    <tr>\n",
       "      <th>FE-JONS</th>\n",
       "      <td>22</td>\n",
       "      <td>255627</td>\n",
       "      <td>0.000</td>\n",
       "    </tr>\n",
       "    <tr>\n",
       "      <th>PACMA</th>\n",
       "      <td>18</td>\n",
       "      <td>3682278</td>\n",
       "      <td>0.000</td>\n",
       "    </tr>\n",
       "    <tr>\n",
       "      <th>C.D.S.</th>\n",
       "      <td>18</td>\n",
       "      <td>6198038</td>\n",
       "      <td>458.000</td>\n",
       "    </tr>\n",
       "    <tr>\n",
       "      <th>POSI</th>\n",
       "      <td>14</td>\n",
       "      <td>317026</td>\n",
       "      <td>0.000</td>\n",
       "    </tr>\n",
       "    <tr>\n",
       "      <th>PUM+J</th>\n",
       "      <td>14</td>\n",
       "      <td>143901</td>\n",
       "      <td>0.000</td>\n",
       "    </tr>\n",
       "    <tr>\n",
       "      <th>PCPC</th>\n",
       "      <td>14</td>\n",
       "      <td>285402</td>\n",
       "      <td>0.000</td>\n",
       "    </tr>\n",
       "    <tr>\n",
       "      <th>C's</th>\n",
       "      <td>13</td>\n",
       "      <td>28976819</td>\n",
       "      <td>1137.000</td>\n",
       "    </tr>\n",
       "    <tr>\n",
       "      <th>U.C.E.</th>\n",
       "      <td>12</td>\n",
       "      <td>219724</td>\n",
       "      <td>0.000</td>\n",
       "    </tr>\n",
       "    <tr>\n",
       "      <th>P.S.T.</th>\n",
       "      <td>11</td>\n",
       "      <td>684191</td>\n",
       "      <td>0.000</td>\n",
       "    </tr>\n",
       "    <tr>\n",
       "      <th>ALTRES</th>\n",
       "      <td>10</td>\n",
       "      <td>1658279</td>\n",
       "      <td>2636.000</td>\n",
       "    </tr>\n",
       "    <tr>\n",
       "      <th>IND.</th>\n",
       "      <td>10</td>\n",
       "      <td>3286939</td>\n",
       "      <td>29661.000</td>\n",
       "    </tr>\n",
       "    <tr>\n",
       "      <th>IC</th>\n",
       "      <td>10</td>\n",
       "      <td>10216467</td>\n",
       "      <td>2320.000</td>\n",
       "    </tr>\n",
       "    <tr>\n",
       "      <th>PFiV</th>\n",
       "      <td>10</td>\n",
       "      <td>105661</td>\n",
       "      <td>0.000</td>\n",
       "    </tr>\n",
       "    <tr>\n",
       "      <th>MSR</th>\n",
       "      <td>10</td>\n",
       "      <td>39860</td>\n",
       "      <td>0.000</td>\n",
       "    </tr>\n",
       "    <tr>\n",
       "      <th>C.U.P.</th>\n",
       "      <td>10</td>\n",
       "      <td>222451</td>\n",
       "      <td>122.000</td>\n",
       "    </tr>\n",
       "    <tr>\n",
       "      <th>IF</th>\n",
       "      <td>9</td>\n",
       "      <td>62134</td>\n",
       "      <td>156.000</td>\n",
       "    </tr>\n",
       "    <tr>\n",
       "      <th>PxC</th>\n",
       "      <td>9</td>\n",
       "      <td>2233042</td>\n",
       "      <td>451.000</td>\n",
       "    </tr>\n",
       "    <tr>\n",
       "      <th>VOX</th>\n",
       "      <td>9</td>\n",
       "      <td>5788797</td>\n",
       "      <td>41.000</td>\n",
       "    </tr>\n",
       "    <tr>\n",
       "      <th>ICB</th>\n",
       "      <td>9</td>\n",
       "      <td>10051</td>\n",
       "      <td>126.000</td>\n",
       "    </tr>\n",
       "    <tr>\n",
       "      <th>UPyD</th>\n",
       "      <td>9</td>\n",
       "      <td>900328</td>\n",
       "      <td>0.000</td>\n",
       "    </tr>\n",
       "    <tr>\n",
       "      <th>P.O.R.E.</th>\n",
       "      <td>9</td>\n",
       "      <td>155101</td>\n",
       "      <td>0.000</td>\n",
       "    </tr>\n",
       "    <tr>\n",
       "      <th>UIP</th>\n",
       "      <td>8</td>\n",
       "      <td>14046</td>\n",
       "      <td>54.000</td>\n",
       "    </tr>\n",
       "    <tr>\n",
       "      <th>P.C.O.de C.</th>\n",
       "      <td>8</td>\n",
       "      <td>135050</td>\n",
       "      <td>2.000</td>\n",
       "    </tr>\n",
       "    <tr>\n",
       "      <th>EV-AV</th>\n",
       "      <td>8</td>\n",
       "      <td>215429</td>\n",
       "      <td>0.000</td>\n",
       "    </tr>\n",
       "    <tr>\n",
       "      <th>PCC</th>\n",
       "      <td>8</td>\n",
       "      <td>2162101</td>\n",
       "      <td>244.000</td>\n",
       "    </tr>\n",
       "  </tbody>\n",
       "</table>\n",
       "</div>"
      ],
      "text/plain": [
       "                    num_elections  num_votes   num_seats\n",
       "candidatura_sigles                                      \n",
       "PSC                            40  246372873   32841.000\n",
       "CiU                            36  222876214  136637.907\n",
       "PP                             36   97218357   11321.000\n",
       "PH                             26     262863       0.000\n",
       "ERC                            25   40151434    7441.000\n",
       "FE-JONS                        22     255627       0.000\n",
       "PACMA                          18    3682278       0.000\n",
       "C.D.S.                         18    6198038     458.000\n",
       "POSI                           14     317026       0.000\n",
       "PUM+J                          14     143901       0.000\n",
       "PCPC                           14     285402       0.000\n",
       "C's                            13   28976819    1137.000\n",
       "U.C.E.                         12     219724       0.000\n",
       "P.S.T.                         11     684191       0.000\n",
       "ALTRES                         10    1658279    2636.000\n",
       "IND.                           10    3286939   29661.000\n",
       "IC                             10   10216467    2320.000\n",
       "PFiV                           10     105661       0.000\n",
       "MSR                            10      39860       0.000\n",
       "C.U.P.                         10     222451     122.000\n",
       "IF                              9      62134     156.000\n",
       "PxC                             9    2233042     451.000\n",
       "VOX                             9    5788797      41.000\n",
       "ICB                             9      10051     126.000\n",
       "UPyD                            9     900328       0.000\n",
       "P.O.R.E.                        9     155101       0.000\n",
       "UIP                             8      14046      54.000\n",
       "P.C.O.de C.                     8     135050       2.000\n",
       "EV-AV                           8     215429       0.000\n",
       "PCC                             8    2162101     244.000"
      ]
     },
     "execution_count": 26,
     "metadata": {},
     "output_type": "execute_result"
    }
   ],
   "source": [
    "# Group candidatures by abreviation, count the number of elections in which they have participated and sort them\n",
    "candidatures_num_elections = df.groupby('candidatura_sigles').nom_eleccio.nunique().sort_values(ascending=False)\n",
    "candidatures_num_elections\n",
    "\n",
    "# Count the total number of votes per candidature\n",
    "candidatures_votes = df.groupby('candidatura_sigles').vots.sum().sort_values(ascending=False)\n",
    "candidatures_votes\n",
    "\n",
    "# Count the total number of seats per candidature\n",
    "candidatures_seats = df.groupby('candidatura_sigles').escons.sum().sort_values(ascending=False)\n",
    "candidatures_seats\n",
    "\n",
    "# Join the previous dataframes\n",
    "candidatures_info = pd.concat([candidatures_num_elections, candidatures_votes, candidatures_seats], axis=1)\n",
    "\n",
    "# Change the column names\n",
    "candidatures_info.columns = ['num_elections', 'num_votes', 'num_seats']\n",
    "candidatures_info.head(30)"
   ]
  },
  {
   "cell_type": "markdown",
   "metadata": {},
   "source": [
    "These are the most important parties in Catalonia."
   ]
  }
 ],
 "metadata": {
  "kernelspec": {
   "display_name": "download-data-g7wH2McT-py3.11",
   "language": "python",
   "name": "python3"
  },
  "language_info": {
   "codemirror_mode": {
    "name": "ipython",
    "version": 3
   },
   "file_extension": ".py",
   "mimetype": "text/x-python",
   "name": "python",
   "nbconvert_exporter": "python",
   "pygments_lexer": "ipython3",
   "version": "3.11.2"
  }
 },
 "nbformat": 4,
 "nbformat_minor": 2
}
