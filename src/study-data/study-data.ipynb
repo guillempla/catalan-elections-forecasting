{
 "cells": [
  {
   "cell_type": "markdown",
   "metadata": {},
   "source": [
    "# Study Catalan Elections Dataset"
   ]
  },
  {
   "cell_type": "markdown",
   "metadata": {},
   "source": [
    "Load libraries:"
   ]
  },
  {
   "cell_type": "code",
   "execution_count": 22,
   "metadata": {},
   "outputs": [],
   "source": [
    "import pandas as pd"
   ]
  },
  {
   "cell_type": "markdown",
   "metadata": {},
   "source": [
    "Load the dataset:"
   ]
  },
  {
   "cell_type": "code",
   "execution_count": 23,
   "metadata": {},
   "outputs": [
    {
     "name": "stderr",
     "output_type": "stream",
     "text": [
      "C:\\Users\\guill\\AppData\\Local\\Temp\\ipykernel_12972\\3749213599.py:1: DtypeWarning: Columns (5,13,14,16,19,20) have mixed types. Specify dtype option on import or set low_memory=False.\n",
      "  df = pd.read_csv('../../data/data.csv')\n"
     ]
    }
   ],
   "source": [
    "df = pd.read_csv('../../data/catalan-elections-data.csv')"
   ]
  },
  {
   "cell_type": "markdown",
   "metadata": {},
   "source": [
    "Visualize the structure of the dataset:"
   ]
  },
  {
   "cell_type": "code",
   "execution_count": 28,
   "metadata": {},
   "outputs": [
    {
     "name": "stdout",
     "output_type": "stream",
     "text": [
      "<class 'pandas.core.frame.DataFrame'>\n",
      "RangeIndex: 17518284 entries, 0 to 17518283\n",
      "Data columns (total 21 columns):\n",
      " #   Column                   Dtype  \n",
      "---  ------                   -----  \n",
      " 0   index_autonumeric        int64  \n",
      " 1   id_eleccio               object \n",
      " 2   nom_eleccio              object \n",
      " 3   id_nivell_territorial    object \n",
      " 4   nom_nivell_territorial   object \n",
      " 5   territori_codi           object \n",
      " 6   territori_nom            object \n",
      " 7   secci_                   float64\n",
      " 8   candidatura_codi         int64  \n",
      " 9   candidatura_denominacio  object \n",
      " 10  candidatura_sigles       object \n",
      " 11  vots                     int64  \n",
      " 12  escons                   float64\n",
      " 13  candidatura_color        object \n",
      " 14  candidatura_logotip      object \n",
      " 15  districte                float64\n",
      " 16  mesa                     object \n",
      " 17  candidat_posicio         float64\n",
      " 18  agrupacio_codi           float64\n",
      " 19  agrupacio_denominacio    object \n",
      " 20  agrupacio_sigles         object \n",
      "dtypes: float64(5), int64(3), object(13)\n",
      "memory usage: 2.7+ GB\n"
     ]
    }
   ],
   "source": [
    "df.info()"
   ]
  },
  {
   "cell_type": "markdown",
   "metadata": {},
   "source": [
    "| Column name               | Description                                            | Type      |\n",
    "|---------------------------|--------------------------------------------------------|-----------|\n",
    "| INDEX_AUTONUMERIC         | Autonumeric index identifier for the row               | Plain Text|\n",
    "| ID_ELECCIO                | Identifier of the election (Type+Year+Sequential)      | Plain Text|\n",
    "| NOM_ELECCIO               | Name of the electoral process                          | Plain Text|\n",
    "| ID_NIVELL_TERRITORIAL     | Identifier of the territorial level (Municipality, Vegueria, County...) | Plain Text|\n",
    "| NOM_NIVELL_TERRITORIAL    | Name of the territorial level of the record (Municipality, County...) | Plain Text|\n",
    "| TERRITORI_CODI            | Territory code                                         | Plain Text|\n",
    "| TERRITORI_NOM             | Name of the territory                                  | Plain Text|\n",
    "| DISTRICTE                 | Electoral district                                     | Plain Text|\n",
    "| SECCIÓ                    | Electoral section                                      | Plain Text|\n",
    "| MESA                      | Electoral table                                        | Plain Text|\n",
    "| CANDIDATURA_CODI          | Code of the candidacy                                  | Plain Text|\n",
    "| CANDIDATURA_DENOMINACIO   | Name of the candidacy                                  | Plain Text|\n",
    "| CANDIDATURA_SIGLES        | Acronym of the candidacy                               | Plain Text|\n",
    "| CANDIDAT_POSICIO          | Position of the candidate in the list                  | Plain Text|\n",
    "| AGRUPACIO_CODI            | Code of the group of candidacies                       | Plain Text|\n",
    "| AGRUPACIO_DENOMINACIO     | Name of the group of candidacies                       | Plain Text|\n",
    "| AGRUPACIO_SIGLES          | Acronym of the group of candidacies                    | Plain Text|\n",
    "| VOTS                      | Votes of the candidacy                                 | Number    |\n",
    "| ESCONS                    | Seats of the candidacy                                 | Number    |\n",
    "| CANDIDATURA_COLOR         | Color of the candidacy                                 | Plain Text|\n",
    "| CANDIDATURA_LOGOTIP       | Logo of the candidacy                                  | Plain Text|"
   ]
  },
  {
   "cell_type": "markdown",
   "metadata": {},
   "source": [
    "Divide `id_eleccio` into `type`, `year` and `sequential`:"
   ]
  },
  {
   "cell_type": "code",
   "execution_count": 36,
   "metadata": {},
   "outputs": [],
   "source": [
    "df['type'] = df['id_eleccio'].str[:1]\n",
    "df['year'] = df['id_eleccio'].str[1:5].astype(int)\n",
    "df['sequential'] = df['id_eleccio'].str[5:]"
   ]
  },
  {
   "cell_type": "markdown",
   "metadata": {},
   "source": [
    "Show the types of elections:"
   ]
  },
  {
   "cell_type": "code",
   "execution_count": 43,
   "metadata": {},
   "outputs": [
    {
     "name": "stdout",
     "output_type": "stream",
     "text": [
      "                                   nom_eleccio\n",
      "type                                          \n",
      "A     Eleccions al Parlament de Catalunya 1980\n",
      "C          Eleccions a Consells Comarcals 1987\n",
      "D     Eleccions a Diputacions Provincials 2007\n",
      "E          Eleccions al Parlament Europeu 1987\n",
      "G                    Eleccions al Congrés 1979\n",
      "M                    Eleccions Municipals 1979\n",
      "S                      Eleccions al Senat 1993\n",
      "V     Eleccions al Consell General d'Aran 1991\n",
      "8\n"
     ]
    }
   ],
   "source": [
    "types = df[['type', 'nom_eleccio']].groupby(['type']).first()\n",
    "print(types)\n",
    "print(len(types))"
   ]
  },
  {
   "cell_type": "markdown",
   "metadata": {},
   "source": [
    "Now we know that the dataset contains data from 8 different types of elections:\n",
    "\n",
    "| Type | Election Type Name                          |\n",
    "|------|---------------------------------------------|\n",
    "| A    | Elections to the Parliament of Catalonia    |\n",
    "| C    | Elections to the County Councils            |\n",
    "| D    | Elections to the Provincial Councils        |\n",
    "| E    | Elections to the European Parliament        |\n",
    "| G    | Elections to the Congress                   |\n",
    "| M    | Municipal Elections                         |\n",
    "| S    | Elections to the Senate                     |\n",
    "| V    | Elections to the General Council of Aran    |"
   ]
  },
  {
   "cell_type": "markdown",
   "metadata": {},
   "source": [
    "We only want data from the elections to the Parliament of Catalonia ('A'), municipal elections ('M'), elections to the European Parliament ('E') and elections to the Congress ('G'), so we filter the dataset:"
   ]
  },
  {
   "cell_type": "code",
   "execution_count": 45,
   "metadata": {},
   "outputs": [
    {
     "name": "stdout",
     "output_type": "stream",
     "text": [
      "<class 'pandas.core.frame.DataFrame'>\n",
      "Index: 12339330 entries, 0 to 12359469\n",
      "Data columns (total 24 columns):\n",
      " #   Column                   Dtype  \n",
      "---  ------                   -----  \n",
      " 0   index_autonumeric        int64  \n",
      " 1   id_eleccio               object \n",
      " 2   nom_eleccio              object \n",
      " 3   id_nivell_territorial    object \n",
      " 4   nom_nivell_territorial   object \n",
      " 5   territori_codi           object \n",
      " 6   territori_nom            object \n",
      " 7   secci_                   float64\n",
      " 8   candidatura_codi         int64  \n",
      " 9   candidatura_denominacio  object \n",
      " 10  candidatura_sigles       object \n",
      " 11  vots                     int64  \n",
      " 12  escons                   float64\n",
      " 13  candidatura_color        object \n",
      " 14  candidatura_logotip      object \n",
      " 15  districte                float64\n",
      " 16  mesa                     object \n",
      " 17  candidat_posicio         float64\n",
      " 18  agrupacio_codi           float64\n",
      " 19  agrupacio_denominacio    object \n",
      " 20  agrupacio_sigles         object \n",
      " 21  type                     object \n",
      " 22  year                     object \n",
      " 23  sequential               object \n",
      "dtypes: float64(5), int64(3), object(16)\n",
      "memory usage: 2.3+ GB\n"
     ]
    }
   ],
   "source": [
    "df = df[df['type'].isin(['M', 'E', 'A', 'G'])]\n",
    "\n",
    "df.info()"
   ]
  },
  {
   "cell_type": "markdown",
   "metadata": {},
   "source": [
    "Display the different elections in the dataset and count them:"
   ]
  },
  {
   "cell_type": "code",
   "execution_count": 48,
   "metadata": {},
   "outputs": [
    {
     "name": "stdout",
     "output_type": "stream",
     "text": [
      "         type  year sequential                               nom_eleccio\n",
      "5765157     G  1977          1                 Eleccions al Congrés 1977\n",
      "10920114    M  1979          1                 Eleccions Municipals 1979\n",
      "2266502     G  1979          1                 Eleccions al Congrés 1979\n",
      "0           A  1980          1  Eleccions al Parlament de Catalunya 1980\n",
      "2849748     G  1982          1                 Eleccions al Congrés 1982\n",
      "11078000    M  1983          1                 Eleccions Municipals 1983\n",
      "172580      A  1984          1  Eleccions al Parlament de Catalunya 1984\n",
      "7842303     G  1986          1                 Eleccions al Congrés 1986\n",
      "1544        E  1987          1       Eleccions al Parlament Europeu 1987\n",
      "11114132    M  1987          1                 Eleccions Municipals 1987\n",
      "388258      A  1988          1  Eleccions al Parlament de Catalunya 1988\n",
      "762184      E  1989          1       Eleccions al Parlament Europeu 1989\n",
      "8111467     G  1989          1                 Eleccions al Congrés 1989\n",
      "11258320    M  1991          1                 Eleccions Municipals 1991\n",
      "702503      A  1992          1  Eleccions al Parlament de Catalunya 1992\n",
      "6291385     G  1993          1                 Eleccions al Congrés 1993\n",
      "4104077     E  1994          1       Eleccions al Parlament Europeu 1994\n",
      "944294      A  1995          1  Eleccions al Parlament de Catalunya 1995\n",
      "11384568    M  1995          1                 Eleccions Municipals 1995\n",
      "6768085     G  1996          1                 Eleccions al Congrés 1996\n",
      "4613242     E  1999          1       Eleccions al Parlament Europeu 1999\n",
      "11482932    M  1999          1                 Eleccions Municipals 1999\n",
      "1099805     A  1999          1  Eleccions al Parlament de Catalunya 1999\n",
      "8889622     G  2000          1                 Eleccions al Congrés 2000\n",
      "11599210    M  2003          1                 Eleccions Municipals 2003\n",
      "1337374     A  2003          1  Eleccions al Parlament de Catalunya 2003\n",
      "9202703     G  2004          1                 Eleccions al Congrés 2004\n",
      "5150990     E  2004          1       Eleccions al Parlament Europeu 2004\n",
      "1543345     A  2006          1  Eleccions al Parlament de Catalunya 2006\n",
      "11651436    M  2007          1                 Eleccions Municipals 2007\n",
      "9549395     G  2008          1                 Eleccions al Congrés 2008\n",
      "5637317     E  2009          1       Eleccions al Parlament Europeu 2009\n",
      "1890108     A  2010          1  Eleccions al Parlament de Catalunya 2010\n",
      "11762757    M  2011          1                 Eleccions Municipals 2011\n",
      "10046927    G  2011          1                 Eleccions al Congrés 2011\n",
      "2336398     A  2012          1  Eleccions al Parlament de Catalunya 2012\n",
      "4109190     E  2014          1       Eleccions al Parlament Europeu 2014\n",
      "1892940     A  2015          1  Eleccions al Parlament de Catalunya 2015\n",
      "10185960    G  2015          1                 Eleccions al Congrés 2015\n",
      "12030351    M  2015          1                 Eleccions Municipals 2015\n",
      "10410830    G  2016          1                 Eleccions al Congrés 2016\n",
      "1889888     A  2017          1  Eleccions al Parlament de Catalunya 2017\n",
      "8655758     G  2019          1           Eleccions al Congrés 2019 abril\n",
      "6737353     E  2019          1       Eleccions al Parlament Europeu 2019\n",
      "10778194    G  2019          2        Eleccions al Congrés 2019 novembre\n",
      "12168777    M  2019          1                 Eleccions Municipals 2019\n",
      "108621      A  2021          1  Eleccions al Parlament de Catalunya 2021\n",
      "47\n"
     ]
    }
   ],
   "source": [
    "elections = df[['type', 'year', 'sequential', 'nom_eleccio']].drop_duplicates().sort_values(['year'])\n",
    "print(elections)\n",
    "\n",
    "print(len(elections))"
   ]
  },
  {
   "cell_type": "markdown",
   "metadata": {},
   "source": [
    "Count the number of candidatures:"
   ]
  },
  {
   "cell_type": "code",
   "execution_count": 26,
   "metadata": {},
   "outputs": [
    {
     "name": "stdout",
     "output_type": "stream",
     "text": [
      "['Conservadors de Catalunya' 'Partit Socialista Unificat de Catalunya'\n",
      " 'Partit dels Socialistes de Catalunya (PSC-PSOE)' ...\n",
      " 'Coalició Republicano Socialista' 'Nación y Revolución'\n",
      " 'Entesa Catalana de Progrés (PSC-ERC-ICV-EUiA)']\n",
      "7441\n"
     ]
    }
   ],
   "source": [
    "candidatures = df.candidatura_denominacio.unique()\n",
    "print(candidatures)\n",
    "\n",
    "print(len(candidatures))"
   ]
  },
  {
   "cell_type": "markdown",
   "metadata": {},
   "source": [
    "Check the number of candidatures per election:"
   ]
  },
  {
   "cell_type": "code",
   "execution_count": 29,
   "metadata": {},
   "outputs": [
    {
     "name": "stdout",
     "output_type": "stream",
     "text": [
      "nom_eleccio\n",
      "Eleccions Municipals 2019                   2228\n",
      "Eleccions Municipals 2015                   1095\n",
      "Eleccions Municipals 2011                    940\n",
      "Eleccions Municipals 2007                    818\n",
      "Eleccions Municipals 1979                    665\n",
      "                                            ... \n",
      "Eleccions al Consell General d'Aran 1995       5\n",
      "Eleccions al Consell General d'Aran 2015       5\n",
      "Eleccions al Consell General d'Aran 2007       4\n",
      "Eleccions al Consell General d'Aran 2011       4\n",
      "Eleccions al Consell General d'Aran 1991       4\n",
      "Name: candidatura_denominacio, Length: 85, dtype: int64\n"
     ]
    }
   ],
   "source": [
    "elections_num_candidatures = df.groupby('nom_eleccio').candidatura_denominacio.nunique().sort_values(ascending=False)\n",
    "print(elections_num_candidatures)"
   ]
  }
 ],
 "metadata": {
  "kernelspec": {
   "display_name": "download-data-g7wH2McT-py3.11",
   "language": "python",
   "name": "python3"
  },
  "language_info": {
   "codemirror_mode": {
    "name": "ipython",
    "version": 3
   },
   "file_extension": ".py",
   "mimetype": "text/x-python",
   "name": "python",
   "nbconvert_exporter": "python",
   "pygments_lexer": "ipython3",
   "version": "3.11.2"
  }
 },
 "nbformat": 4,
 "nbformat_minor": 2
}
