{
 "cells": [
  {
   "cell_type": "markdown",
   "metadata": {},
   "source": [
    "# Study Clean Catalan Elections Dataset"
   ]
  },
  {
   "cell_type": "markdown",
   "metadata": {},
   "source": [
    "Load libraries:"
   ]
  },
  {
   "cell_type": "code",
   "execution_count": 11,
   "metadata": {},
   "outputs": [],
   "source": [
    "import pandas as pd\n",
    "import pprint\n",
    "import matplotlib.pyplot as plt\n",
    "import seaborn as sns\n",
    "\n",
    "pp = pprint.PrettyPrinter(indent=2)"
   ]
  },
  {
   "cell_type": "markdown",
   "metadata": {},
   "source": [
    "Load the clean dataset:"
   ]
  },
  {
   "cell_type": "code",
   "execution_count": 12,
   "metadata": {},
   "outputs": [],
   "source": [
    "df = pd.read_pickle('../../data/processed/catalan-elections-clean-data.pkl')\n",
    "df_original = df.copy()"
   ]
  },
  {
   "cell_type": "markdown",
   "metadata": {},
   "source": [
    "## Dataset Structure "
   ]
  },
  {
   "cell_type": "markdown",
   "metadata": {},
   "source": [
    "Visualize the structure of the dataset:"
   ]
  },
  {
   "cell_type": "code",
   "execution_count": 13,
   "metadata": {},
   "outputs": [
    {
     "name": "stdout",
     "output_type": "stream",
     "text": [
      "<class 'pandas.core.frame.DataFrame'>\n",
      "RangeIndex: 12339340 entries, 0 to 12339339\n",
      "Data columns (total 21 columns):\n",
      " #   Column                  Dtype         \n",
      "---  ------                  -----         \n",
      " 0   index_autonumeric       int64         \n",
      " 1   nom_eleccio             object        \n",
      " 2   id_nivell_territorial   object        \n",
      " 3   nom_nivell_territorial  object        \n",
      " 4   territori_codi          object        \n",
      " 5   territori_nom           object        \n",
      " 6   seccio                  float64       \n",
      " 7   vots                    int64         \n",
      " 8   escons                  float64       \n",
      " 9   districte               float64       \n",
      " 10  mesa                    object        \n",
      " 11  party_code              float64       \n",
      " 12  party_name              object        \n",
      " 13  party_abbr              object        \n",
      " 14  party_color             object        \n",
      " 15  type                    object        \n",
      " 16  year                    int32         \n",
      " 17  sequential              object        \n",
      " 18  month                   int64         \n",
      " 19  day                     int64         \n",
      " 20  date                    datetime64[ns]\n",
      "dtypes: datetime64[ns](1), float64(4), int32(1), int64(4), object(11)\n",
      "memory usage: 1.9+ GB\n"
     ]
    }
   ],
   "source": [
    "df.info()"
   ]
  },
  {
   "cell_type": "markdown",
   "metadata": {},
   "source": [
    "| Column name               | Description                                            | Type      |\n",
    "|---------------------------|--------------------------------------------------------|-----------|\n",
    "| INDEX_AUTONUMERIC         | Autonumeric index identifier for the row               | Number    |\n",
    "| NOM_ELECCIO               | Name of the electoral process                          | Plain Text|\n",
    "| ID_NIVELL_TERRITORIAL     | Identifier of the territorial level (Municipality, Vegueria, County...) | Plain Text|\n",
    "| NOM_NIVELL_TERRITORIAL    | Name of the territorial level of the record (Municipality, County...) | Plain Text|\n",
    "| TERRITORI_CODI            | Territory code                                         | Plain Text|\n",
    "| TERRITORI_NOM             | Name of the territory                                  | Plain Text|\n",
    "| DISTRICTE                 | Electoral district                                     | Plain Text|\n",
    "| SECCIÓ                    | Electoral section                                      | Plain Text|\n",
    "| MESA                      | Electoral table                                        | Plain Text|\n",
    "| PARTY_CODE                | Code of the party                                      | Number    |\n",
    "| PARTY_NAME                | Name of the party                                      | Plain Text|\n",
    "| PARTY_ABBR                | Acronym of the party                                   | Plain Text|\n",
    "| PARTY_COLOR               | Color of the party                                     | Plain Text|\n",
    "| VOTS                      | Votes of the party                                     | Number    |\n",
    "| ESCONS                    | Seats of the party                                     | Number    |\n",
    "| TYPE                      | Type of election                                       | Plain Text|\n",
    "| YEAR                      | Year when the election took place                      | Number    |\n",
    "| MONTH                     | Month when the election took place                     | Number    |\n",
    "| DAY                       | Day when the election took place                       | Number    |\n",
    "| DATE                      | Date when the election took place                      | Datetime  |"
   ]
  },
  {
   "cell_type": "markdown",
   "metadata": {},
   "source": [
    "## Group candidatures"
   ]
  },
  {
   "cell_type": "markdown",
   "metadata": {},
   "source": [
    "One of the challenges of forecasting elections is the large number of candidatures. Most of the candidatures belong to a big party, but there are also many small parties and independent candidatures. We need to group the candidatures that belong to the same party in order to get the historical data of the biggest parties.\n",
    "\n",
    "We will try to group the candidatures automatically, but this will only be useful when the candidatures have a similar name. When the candidatures have a different name (for example parties that have merged, or parties that have changed their name), we will need to group them manually.\n",
    "\n",
    "There are many ways to group the candidatures. We could use the code, the acronym, the name or the columns ``AGRUPACIO_*``, but we need to keep in mind that these columns have 77% of empty values. We will start by grouping the candidatures by the code.\n",
    "\n",
    "The small parties or independent candidatures could be grouped in a single category called \"Others\"."
   ]
  },
  {
   "cell_type": "markdown",
   "metadata": {},
   "source": [
    "### Group party by code"
   ]
  },
  {
   "cell_type": "markdown",
   "metadata": {},
   "source": [
    "The first step is to analyze the number of individual candidatures. This will help us to know whether the groping is useful or not."
   ]
  },
  {
   "cell_type": "code",
   "execution_count": 8,
   "metadata": {},
   "outputs": [
    {
     "data": {
      "text/plain": [
       "8617"
      ]
     },
     "execution_count": 8,
     "metadata": {},
     "output_type": "execute_result"
    }
   ],
   "source": [
    "# Show the number of unique parties by code\n",
    "candidatures = len(df['party_code'].unique())\n",
    "candidatures"
   ]
  },
  {
   "cell_type": "code",
   "execution_count": 27,
   "metadata": {},
   "outputs": [
    {
     "data": {
      "text/html": [
       "<div>\n",
       "<style scoped>\n",
       "    .dataframe tbody tr th:only-of-type {\n",
       "        vertical-align: middle;\n",
       "    }\n",
       "\n",
       "    .dataframe tbody tr th {\n",
       "        vertical-align: top;\n",
       "    }\n",
       "\n",
       "    .dataframe thead th {\n",
       "        text-align: right;\n",
       "    }\n",
       "</style>\n",
       "<table border=\"1\" class=\"dataframe\">\n",
       "  <thead>\n",
       "    <tr style=\"text-align: right;\">\n",
       "      <th></th>\n",
       "      <th>candidatura_codi</th>\n",
       "      <th>candidatura_denominacio</th>\n",
       "      <th>candidatura_sigles</th>\n",
       "    </tr>\n",
       "  </thead>\n",
       "  <tbody>\n",
       "    <tr>\n",
       "      <th>0</th>\n",
       "      <td>1</td>\n",
       "      <td>Conservadors de Catalunya</td>\n",
       "      <td>C.i.C.</td>\n",
       "    </tr>\n",
       "    <tr>\n",
       "      <th>171727</th>\n",
       "      <td>2</td>\n",
       "      <td>Partit dels Comunistes de Catalunya</td>\n",
       "      <td>PCC</td>\n",
       "    </tr>\n",
       "    <tr>\n",
       "      <th>226225</th>\n",
       "      <td>3</td>\n",
       "      <td>Unificació Comunista d'Espanya</td>\n",
       "      <td>U.C.E.</td>\n",
       "    </tr>\n",
       "    <tr>\n",
       "      <th>1</th>\n",
       "      <td>4</td>\n",
       "      <td>Partit Socialista Unificat de Catalunya</td>\n",
       "      <td>PSUC</td>\n",
       "    </tr>\n",
       "    <tr>\n",
       "      <th>2835068</th>\n",
       "      <td>5</td>\n",
       "      <td>C.E. Front Comunista de Catalunya</td>\n",
       "      <td>C.E.-FCC</td>\n",
       "    </tr>\n",
       "    <tr>\n",
       "      <th>...</th>\n",
       "      <td>...</td>\n",
       "      <td>...</td>\n",
       "      <td>...</td>\n",
       "    </tr>\n",
       "    <tr>\n",
       "      <th>12181272</th>\n",
       "      <td>439064190</td>\n",
       "      <td>JUNTS PER L'AMPOLLA</td>\n",
       "      <td>JUNTS</td>\n",
       "    </tr>\n",
       "    <tr>\n",
       "      <th>11244646</th>\n",
       "      <td>439064910</td>\n",
       "      <td>Candidatura Independent per l'Ampolla</td>\n",
       "      <td>C.IND/1</td>\n",
       "    </tr>\n",
       "    <tr>\n",
       "      <th>12181366</th>\n",
       "      <td>439074190</td>\n",
       "      <td>SOM POBLE- ALTERNATIVA MUNICIPALISTA</td>\n",
       "      <td>SP-AMUNT</td>\n",
       "    </tr>\n",
       "    <tr>\n",
       "      <th>12181367</th>\n",
       "      <td>439074191</td>\n",
       "      <td>JUNTS PER LA CANONJA</td>\n",
       "      <td>JUNTS</td>\n",
       "    </tr>\n",
       "    <tr>\n",
       "      <th>12174323</th>\n",
       "      <td>20190504007499</td>\n",
       "      <td>BARCELONA ETS TÚ</td>\n",
       "      <td>BCN ETS TÚ</td>\n",
       "    </tr>\n",
       "  </tbody>\n",
       "</table>\n",
       "<p>8846 rows × 3 columns</p>\n",
       "</div>"
      ],
      "text/plain": [
       "          candidatura_codi                  candidatura_denominacio  \\\n",
       "0                        1                Conservadors de Catalunya   \n",
       "171727                   2      Partit dels Comunistes de Catalunya   \n",
       "226225                   3           Unificació Comunista d'Espanya   \n",
       "1                        4  Partit Socialista Unificat de Catalunya   \n",
       "2835068                  5        C.E. Front Comunista de Catalunya   \n",
       "...                    ...                                      ...   \n",
       "12181272         439064190                      JUNTS PER L'AMPOLLA   \n",
       "11244646         439064910    Candidatura Independent per l'Ampolla   \n",
       "12181366         439074190     SOM POBLE- ALTERNATIVA MUNICIPALISTA   \n",
       "12181367         439074191                     JUNTS PER LA CANONJA   \n",
       "12174323    20190504007499                         BARCELONA ETS TÚ   \n",
       "\n",
       "         candidatura_sigles  \n",
       "0                    C.i.C.  \n",
       "171727                  PCC  \n",
       "226225               U.C.E.  \n",
       "1                      PSUC  \n",
       "2835068            C.E.-FCC  \n",
       "...                     ...  \n",
       "12181272              JUNTS  \n",
       "11244646            C.IND/1  \n",
       "12181366           SP-AMUNT  \n",
       "12181367              JUNTS  \n",
       "12174323         BCN ETS TÚ  \n",
       "\n",
       "[8846 rows x 3 columns]"
      ]
     },
     "execution_count": 27,
     "metadata": {},
     "output_type": "execute_result"
    }
   ],
   "source": [
    "unique_df = df[['party_code', 'party_name', 'party_abbr']].drop_duplicates()\n",
    "sorted_unique_df = unique_df.sort_values(by='party_code')\n",
    "sorted_unique_df"
   ]
  },
  {
   "cell_type": "code",
   "execution_count": 36,
   "metadata": {},
   "outputs": [
    {
     "data": {
      "text/html": [
       "<div>\n",
       "<style scoped>\n",
       "    .dataframe tbody tr th:only-of-type {\n",
       "        vertical-align: middle;\n",
       "    }\n",
       "\n",
       "    .dataframe tbody tr th {\n",
       "        vertical-align: top;\n",
       "    }\n",
       "\n",
       "    .dataframe thead th {\n",
       "        text-align: right;\n",
       "    }\n",
       "</style>\n",
       "<table border=\"1\" class=\"dataframe\">\n",
       "  <thead>\n",
       "    <tr style=\"text-align: right;\">\n",
       "      <th></th>\n",
       "      <th>candidatura_codi</th>\n",
       "      <th>count</th>\n",
       "      <th>first_candidatura_denominacio</th>\n",
       "    </tr>\n",
       "  </thead>\n",
       "  <tbody>\n",
       "    <tr>\n",
       "      <th>0</th>\n",
       "      <td>193</td>\n",
       "      <td>47</td>\n",
       "      <td>Esquerra Republicana de Catalunya-Acord Municipal</td>\n",
       "    </tr>\n",
       "    <tr>\n",
       "      <th>1</th>\n",
       "      <td>842</td>\n",
       "      <td>36</td>\n",
       "      <td>Partit dels Socialistes de Catalunya-Candidatu...</td>\n",
       "    </tr>\n",
       "    <tr>\n",
       "      <th>2</th>\n",
       "      <td>1039</td>\n",
       "      <td>30</td>\n",
       "      <td>CANDIDATURA  D'UNITAT  POPULAR-ALTERNATIVA  MU...</td>\n",
       "    </tr>\n",
       "    <tr>\n",
       "      <th>3</th>\n",
       "      <td>301</td>\n",
       "      <td>29</td>\n",
       "      <td>Ciutadans-Partido de la Ciudadanía</td>\n",
       "    </tr>\n",
       "    <tr>\n",
       "      <th>4</th>\n",
       "      <td>86</td>\n",
       "      <td>13</td>\n",
       "      <td>Partit Popular</td>\n",
       "    </tr>\n",
       "    <tr>\n",
       "      <th>...</th>\n",
       "      <td>...</td>\n",
       "      <td>...</td>\n",
       "      <td>...</td>\n",
       "    </tr>\n",
       "    <tr>\n",
       "      <th>8612</th>\n",
       "      <td>82054110</td>\n",
       "      <td>1</td>\n",
       "      <td>Esquerra Republicana de Catalunya -Reagrupamen...</td>\n",
       "    </tr>\n",
       "    <tr>\n",
       "      <th>8613</th>\n",
       "      <td>82054072</td>\n",
       "      <td>1</td>\n",
       "      <td>Candidatura d Unitat Popular-CAV</td>\n",
       "    </tr>\n",
       "    <tr>\n",
       "      <th>8614</th>\n",
       "      <td>82054071</td>\n",
       "      <td>1</td>\n",
       "      <td>Unió d'Independents de Sant Cugat</td>\n",
       "    </tr>\n",
       "    <tr>\n",
       "      <th>8615</th>\n",
       "      <td>82054036</td>\n",
       "      <td>1</td>\n",
       "      <td>Una Altra Democràcia és Possible</td>\n",
       "    </tr>\n",
       "    <tr>\n",
       "      <th>8616</th>\n",
       "      <td>20190504007499</td>\n",
       "      <td>1</td>\n",
       "      <td>BARCELONA ETS TÚ</td>\n",
       "    </tr>\n",
       "  </tbody>\n",
       "</table>\n",
       "<p>8617 rows × 3 columns</p>\n",
       "</div>"
      ],
      "text/plain": [
       "      candidatura_codi  count  \\\n",
       "0                  193     47   \n",
       "1                  842     36   \n",
       "2                 1039     30   \n",
       "3                  301     29   \n",
       "4                   86     13   \n",
       "...                ...    ...   \n",
       "8612          82054110      1   \n",
       "8613          82054072      1   \n",
       "8614          82054071      1   \n",
       "8615          82054036      1   \n",
       "8616    20190504007499      1   \n",
       "\n",
       "                          first_candidatura_denominacio  \n",
       "0     Esquerra Republicana de Catalunya-Acord Municipal  \n",
       "1     Partit dels Socialistes de Catalunya-Candidatu...  \n",
       "2     CANDIDATURA  D'UNITAT  POPULAR-ALTERNATIVA  MU...  \n",
       "3                    Ciutadans-Partido de la Ciudadanía  \n",
       "4                                        Partit Popular  \n",
       "...                                                 ...  \n",
       "8612  Esquerra Republicana de Catalunya -Reagrupamen...  \n",
       "8613                   Candidatura d Unitat Popular-CAV  \n",
       "8614                  Unió d'Independents de Sant Cugat  \n",
       "8615                   Una Altra Democràcia és Possible  \n",
       "8616                                   BARCELONA ETS TÚ  \n",
       "\n",
       "[8617 rows x 3 columns]"
      ]
     },
     "execution_count": 36,
     "metadata": {},
     "output_type": "execute_result"
    }
   ],
   "source": [
    "# Group by 'party_code', then aggregate to get the count and the first 'party_name'\n",
    "count_df = (\n",
    "    unique_df.groupby(\"party_code\")\n",
    "    .agg(\n",
    "        count=(\"party_code\", \"size\"),  # Count the number of occurrences\n",
    "        first_party_name=(\n",
    "            \"party_name\",\n",
    "            \"first\",\n",
    "        ),  # Get the first 'party_name'\n",
    "    )\n",
    "    .reset_index()\n",
    ")\n",
    "sorted_count_df = count_df.sort_values(by=\"count\", ascending=False).reset_index(\n",
    "    drop=True\n",
    ")\n",
    "sorted_count_df"
   ]
  },
  {
   "cell_type": "code",
   "execution_count": 37,
   "metadata": {},
   "outputs": [
    {
     "data": {
      "text/html": [
       "<div>\n",
       "<style scoped>\n",
       "    .dataframe tbody tr th:only-of-type {\n",
       "        vertical-align: middle;\n",
       "    }\n",
       "\n",
       "    .dataframe tbody tr th {\n",
       "        vertical-align: top;\n",
       "    }\n",
       "\n",
       "    .dataframe thead th {\n",
       "        text-align: right;\n",
       "    }\n",
       "</style>\n",
       "<table border=\"1\" class=\"dataframe\">\n",
       "  <thead>\n",
       "    <tr style=\"text-align: right;\">\n",
       "      <th></th>\n",
       "      <th>candidatura_codi</th>\n",
       "      <th>count</th>\n",
       "      <th>first_candidatura_denominacio</th>\n",
       "      <th>candidatura_denominacio</th>\n",
       "      <th>candidatura_sigles</th>\n",
       "    </tr>\n",
       "  </thead>\n",
       "  <tbody>\n",
       "    <tr>\n",
       "      <th>0</th>\n",
       "      <td>193</td>\n",
       "      <td>47</td>\n",
       "      <td>Esquerra Republicana de Catalunya-Acord Municipal</td>\n",
       "      <td>Esquerra Republicana de Catalunya-Acord Municipal</td>\n",
       "      <td>ERC-AM</td>\n",
       "    </tr>\n",
       "    <tr>\n",
       "      <th>1</th>\n",
       "      <td>193</td>\n",
       "      <td>47</td>\n",
       "      <td>Esquerra Republicana de Catalunya-Acord Municipal</td>\n",
       "      <td>ESQUERRA REPUBLICANA DE CATALUNYA - Acord Muni...</td>\n",
       "      <td>ERC - AM</td>\n",
       "    </tr>\n",
       "    <tr>\n",
       "      <th>2</th>\n",
       "      <td>193</td>\n",
       "      <td>47</td>\n",
       "      <td>Esquerra Republicana de Catalunya-Acord Municipal</td>\n",
       "      <td>ESQUERRA REPUBLICANA DE CATALUNYA-ACORD MUNICIPAL</td>\n",
       "      <td>ERC-AM</td>\n",
       "    </tr>\n",
       "    <tr>\n",
       "      <th>3</th>\n",
       "      <td>193</td>\n",
       "      <td>47</td>\n",
       "      <td>Esquerra Republicana de Catalunya-Acord Municipal</td>\n",
       "      <td>ESQUERRA REPUBLICANA DE CATALUNYA - ACORD MUNI...</td>\n",
       "      <td>ERC- AM</td>\n",
       "    </tr>\n",
       "    <tr>\n",
       "      <th>4</th>\n",
       "      <td>193</td>\n",
       "      <td>47</td>\n",
       "      <td>Esquerra Republicana de Catalunya-Acord Municipal</td>\n",
       "      <td>ESQUERRA REPUBLICANA DE CATALUNYA - ACORD MUNI...</td>\n",
       "      <td>ERC - AM</td>\n",
       "    </tr>\n",
       "    <tr>\n",
       "      <th>...</th>\n",
       "      <td>...</td>\n",
       "      <td>...</td>\n",
       "      <td>...</td>\n",
       "      <td>...</td>\n",
       "      <td>...</td>\n",
       "    </tr>\n",
       "    <tr>\n",
       "      <th>8841</th>\n",
       "      <td>439064190</td>\n",
       "      <td>1</td>\n",
       "      <td>JUNTS PER L'AMPOLLA</td>\n",
       "      <td>JUNTS PER L'AMPOLLA</td>\n",
       "      <td>JUNTS</td>\n",
       "    </tr>\n",
       "    <tr>\n",
       "      <th>8842</th>\n",
       "      <td>439064910</td>\n",
       "      <td>1</td>\n",
       "      <td>Candidatura Independent per l'Ampolla</td>\n",
       "      <td>Candidatura Independent per l'Ampolla</td>\n",
       "      <td>C.IND/1</td>\n",
       "    </tr>\n",
       "    <tr>\n",
       "      <th>8843</th>\n",
       "      <td>439074190</td>\n",
       "      <td>1</td>\n",
       "      <td>SOM POBLE- ALTERNATIVA MUNICIPALISTA</td>\n",
       "      <td>SOM POBLE- ALTERNATIVA MUNICIPALISTA</td>\n",
       "      <td>SP-AMUNT</td>\n",
       "    </tr>\n",
       "    <tr>\n",
       "      <th>8844</th>\n",
       "      <td>439074191</td>\n",
       "      <td>1</td>\n",
       "      <td>JUNTS PER LA CANONJA</td>\n",
       "      <td>JUNTS PER LA CANONJA</td>\n",
       "      <td>JUNTS</td>\n",
       "    </tr>\n",
       "    <tr>\n",
       "      <th>8845</th>\n",
       "      <td>20190504007499</td>\n",
       "      <td>1</td>\n",
       "      <td>BARCELONA ETS TÚ</td>\n",
       "      <td>BARCELONA ETS TÚ</td>\n",
       "      <td>BCN ETS TÚ</td>\n",
       "    </tr>\n",
       "  </tbody>\n",
       "</table>\n",
       "<p>8846 rows × 5 columns</p>\n",
       "</div>"
      ],
      "text/plain": [
       "      candidatura_codi  count  \\\n",
       "0                  193     47   \n",
       "1                  193     47   \n",
       "2                  193     47   \n",
       "3                  193     47   \n",
       "4                  193     47   \n",
       "...                ...    ...   \n",
       "8841         439064190      1   \n",
       "8842         439064910      1   \n",
       "8843         439074190      1   \n",
       "8844         439074191      1   \n",
       "8845    20190504007499      1   \n",
       "\n",
       "                          first_candidatura_denominacio  \\\n",
       "0     Esquerra Republicana de Catalunya-Acord Municipal   \n",
       "1     Esquerra Republicana de Catalunya-Acord Municipal   \n",
       "2     Esquerra Republicana de Catalunya-Acord Municipal   \n",
       "3     Esquerra Republicana de Catalunya-Acord Municipal   \n",
       "4     Esquerra Republicana de Catalunya-Acord Municipal   \n",
       "...                                                 ...   \n",
       "8841                                JUNTS PER L'AMPOLLA   \n",
       "8842              Candidatura Independent per l'Ampolla   \n",
       "8843               SOM POBLE- ALTERNATIVA MUNICIPALISTA   \n",
       "8844                               JUNTS PER LA CANONJA   \n",
       "8845                                   BARCELONA ETS TÚ   \n",
       "\n",
       "                                candidatura_denominacio candidatura_sigles  \n",
       "0     Esquerra Republicana de Catalunya-Acord Municipal             ERC-AM  \n",
       "1     ESQUERRA REPUBLICANA DE CATALUNYA - Acord Muni...           ERC - AM  \n",
       "2     ESQUERRA REPUBLICANA DE CATALUNYA-ACORD MUNICIPAL             ERC-AM  \n",
       "3     ESQUERRA REPUBLICANA DE CATALUNYA - ACORD MUNI...            ERC- AM  \n",
       "4     ESQUERRA REPUBLICANA DE CATALUNYA - ACORD MUNI...           ERC - AM  \n",
       "...                                                 ...                ...  \n",
       "8841                                JUNTS PER L'AMPOLLA              JUNTS  \n",
       "8842              Candidatura Independent per l'Ampolla            C.IND/1  \n",
       "8843               SOM POBLE- ALTERNATIVA MUNICIPALISTA           SP-AMUNT  \n",
       "8844                               JUNTS PER LA CANONJA              JUNTS  \n",
       "8845                                   BARCELONA ETS TÚ         BCN ETS TÚ  \n",
       "\n",
       "[8846 rows x 5 columns]"
      ]
     },
     "execution_count": 37,
     "metadata": {},
     "output_type": "execute_result"
    }
   ],
   "source": [
    "# Merge count_df and unique_df by 'party_code'\n",
    "merged_df = pd.merge(\n",
    "    count_df, unique_df, on=\"party_code\", how=\"inner\"\n",
    ")\n",
    "\n",
    "# Sort merged_df by 'count' and 'party_code'\n",
    "sorted_merged_df = merged_df.sort_values(\n",
    "    by=[\"count\", \"party_code\"], ascending=[False, True]\n",
    ").reset_index(drop=True)\n",
    "\n",
    "sorted_merged_df"
   ]
  },
  {
   "cell_type": "markdown",
   "metadata": {},
   "source": [
    "### Group parties by name"
   ]
  },
  {
   "cell_type": "code",
   "execution_count": 12,
   "metadata": {},
   "outputs": [
    {
     "data": {
      "text/plain": [
       "7351"
      ]
     },
     "execution_count": 12,
     "metadata": {},
     "output_type": "execute_result"
    }
   ],
   "source": [
    "# Show the number of unique parties by name\n",
    "candidatures_name = len(df['party_name'].unique())\n",
    "candidatures_name"
   ]
  },
  {
   "cell_type": "markdown",
   "metadata": {},
   "source": [
    "### Group parties by acronym"
   ]
  },
  {
   "cell_type": "code",
   "execution_count": 14,
   "metadata": {},
   "outputs": [
    {
     "data": {
      "text/plain": [
       "548"
      ]
     },
     "execution_count": 14,
     "metadata": {},
     "output_type": "execute_result"
    }
   ],
   "source": [
    "# Show the number of unique parties by acronym\n",
    "candidatures_acronym = len(df['party_abbr'].unique())\n",
    "candidatures_acronym"
   ]
  },
  {
   "cell_type": "markdown",
   "metadata": {},
   "source": [
    "## Candidatures statistics"
   ]
  },
  {
   "cell_type": "markdown",
   "metadata": {},
   "source": [
    "### Plot votes by candidature"
   ]
  },
  {
   "cell_type": "markdown",
   "metadata": {},
   "source": [
    "### Plot seats by candidature"
   ]
  },
  {
   "cell_type": "markdown",
   "metadata": {},
   "source": [
    "##"
   ]
  },
  {
   "cell_type": "markdown",
   "metadata": {},
   "source": [
    "## Region statistics"
   ]
  },
  {
   "cell_type": "markdown",
   "metadata": {},
   "source": [
    "### Plot votes by region"
   ]
  },
  {
   "cell_type": "markdown",
   "metadata": {},
   "source": [
    "### Plot seats by region"
   ]
  },
  {
   "cell_type": "markdown",
   "metadata": {},
   "source": [
    "### Plot number of tables by region"
   ]
  }
 ],
 "metadata": {
  "kernelspec": {
   "display_name": ".venv",
   "language": "python",
   "name": "python3"
  },
  "language_info": {
   "codemirror_mode": {
    "name": "ipython",
    "version": 3
   },
   "file_extension": ".py",
   "mimetype": "text/x-python",
   "name": "python",
   "nbconvert_exporter": "python",
   "pygments_lexer": "ipython3",
   "version": "3.11.2"
  }
 },
 "nbformat": 4,
 "nbformat_minor": 2
}
