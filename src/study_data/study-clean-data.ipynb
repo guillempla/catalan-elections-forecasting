{
 "cells": [
  {
   "cell_type": "markdown",
   "metadata": {},
   "source": [
    "# Study Clean Catalan Elections Dataset"
   ]
  },
  {
   "cell_type": "markdown",
   "metadata": {},
   "source": [
    "Load libraries:"
   ]
  },
  {
   "cell_type": "code",
   "execution_count": 1,
   "metadata": {},
   "outputs": [],
   "source": [
    "import pandas as pd\n",
    "import pprint\n",
    "import matplotlib.pyplot as plt\n",
    "import seaborn as sns\n",
    "import numpy as np\n",
    "import textdistance\n",
    "from tqdm import tqdm\n",
    "from unidecode import unidecode\n",
    "import logging\n",
    "\n",
    "pp = pprint.PrettyPrinter(indent=2)\n",
    "\n",
    "logging.basicConfig(\n",
    "    level=logging.INFO,\n",
    "    format=\"%(asctime)s - %(levelname)s - %(message)s\",\n",
    "    datefmt=\"%Y-%m-%d %H:%M:%S\",\n",
    ")"
   ]
  },
  {
   "cell_type": "markdown",
   "metadata": {},
   "source": [
    "Load the clean dataset:"
   ]
  },
  {
   "cell_type": "code",
   "execution_count": 2,
   "metadata": {},
   "outputs": [],
   "source": [
    "df = pd.read_pickle('../../data/processed/catalan-elections-clean-data.pkl')\n",
    "df_original = df.copy()"
   ]
  },
  {
   "cell_type": "markdown",
   "metadata": {},
   "source": [
    "## Dataset Structure "
   ]
  },
  {
   "cell_type": "markdown",
   "metadata": {},
   "source": [
    "Visualize the structure of the dataset:"
   ]
  },
  {
   "cell_type": "code",
   "execution_count": 3,
   "metadata": {},
   "outputs": [
    {
     "name": "stdout",
     "output_type": "stream",
     "text": [
      "<class 'pandas.core.frame.DataFrame'>\n",
      "RangeIndex: 12339340 entries, 0 to 12339339\n",
      "Data columns (total 21 columns):\n",
      " #   Column                  Dtype         \n",
      "---  ------                  -----         \n",
      " 0   index_autonumeric       int64         \n",
      " 1   nom_eleccio             object        \n",
      " 2   id_nivell_territorial   object        \n",
      " 3   nom_nivell_territorial  object        \n",
      " 4   territori_codi          object        \n",
      " 5   territori_nom           object        \n",
      " 6   seccio                  Int64         \n",
      " 7   vots                    int32         \n",
      " 8   escons                  float64       \n",
      " 9   districte               Int64         \n",
      " 10  mesa                    object        \n",
      " 11  party_code              int32         \n",
      " 12  party_name              object        \n",
      " 13  party_abbr              object        \n",
      " 14  party_color             object        \n",
      " 15  type                    object        \n",
      " 16  year                    int32         \n",
      " 17  round                   object        \n",
      " 18  month                   int32         \n",
      " 19  day                     int32         \n",
      " 20  date                    datetime64[ns]\n",
      "dtypes: Int64(2), datetime64[ns](1), float64(1), int32(5), int64(1), object(11)\n",
      "memory usage: 1.7+ GB\n"
     ]
    }
   ],
   "source": [
    "df.info()"
   ]
  },
  {
   "cell_type": "markdown",
   "metadata": {},
   "source": [
    "| Column name               | Description                                            | Type      |\n",
    "|---------------------------|--------------------------------------------------------|-----------|\n",
    "| INDEX_AUTONUMERIC         | Autonumeric index identifier for the row               | Number    |\n",
    "| NOM_ELECCIO               | Name of the electoral process                          | Plain Text|\n",
    "| ID_NIVELL_TERRITORIAL     | Identifier of the territorial level (Municipality, Vegueria, County...) | Plain Text|\n",
    "| NOM_NIVELL_TERRITORIAL    | Name of the territorial level of the record (Municipality, County...) | Plain Text|\n",
    "| TERRITORI_CODI            | Territory code                                         | Plain Text|\n",
    "| TERRITORI_NOM             | Name of the territory                                  | Plain Text|\n",
    "| DISTRICTE                 | Electoral district                                     | Plain Text|\n",
    "| SECCIO                    | Electoral section                                      | Plain Text|\n",
    "| MESA                      | Electoral table                                        | Plain Text|\n",
    "| PARTY_CODE                | Code of the party                                      | Number    |\n",
    "| PARTY_NAME                | Name of the party                                      | Plain Text|\n",
    "| PARTY_ABBR                | Acronym of the party                                   | Plain Text|\n",
    "| PARTY_COLOR               | Color of the party                                     | Plain Text|\n",
    "| VOTS                      | Votes of the party                                     | Number    |\n",
    "| ESCONS                    | Seats of the party                                     | Number    |\n",
    "| TYPE                      | Type of election                                       | Plain Text|\n",
    "| YEAR                      | Year when the election took place                      | Number    |\n",
    "| MONTH                     | Month when the election took place                     | Number    |\n",
    "| DAY                       | Day when the election took place                       | Number    |\n",
    "| DATE                      | Date when the election took place                      | Datetime  |"
   ]
  },
  {
   "cell_type": "markdown",
   "metadata": {},
   "source": [
    "## Group candidatures"
   ]
  },
  {
   "cell_type": "markdown",
   "metadata": {},
   "source": [
    "One of the challenges of forecasting elections is the large number of candidatures. Most of the candidatures belong to a big party, but there are also many small parties and independent candidatures. We need to group the candidatures that belong to the same party in order to get the historical data of the biggest parties.\n",
    "\n",
    "We will try to group the candidatures automatically, but this will only be useful when the candidatures have a similar name. When the candidatures have a different name (for example parties that have merged, or parties that have changed their name), we will need to group them manually.\n",
    "\n",
    "There are many ways to group the candidatures. We could use the code, the acronym, the name or the columns ``AGRUPACIO_*``, but we need to keep in mind that these columns have 77% of empty values. We will start by grouping the candidatures by the code.\n",
    "\n",
    "The small parties or independent candidatures could be grouped in a single category called \"Others\"."
   ]
  },
  {
   "cell_type": "markdown",
   "metadata": {},
   "source": [
    "### Group party by code"
   ]
  },
  {
   "cell_type": "markdown",
   "metadata": {},
   "source": [
    "The first step is to analyze the number of individual candidatures. This will help us to know whether the groping is useful or not."
   ]
  },
  {
   "cell_type": "code",
   "execution_count": 4,
   "metadata": {},
   "outputs": [
    {
     "data": {
      "text/plain": [
       "920"
      ]
     },
     "execution_count": 4,
     "metadata": {},
     "output_type": "execute_result"
    }
   ],
   "source": [
    "# Show the number of unique parties by code\n",
    "candidatures = len(df['party_code'].unique())\n",
    "candidatures"
   ]
  },
  {
   "cell_type": "code",
   "execution_count": 5,
   "metadata": {},
   "outputs": [
    {
     "data": {
      "text/html": [
       "<div>\n",
       "<style scoped>\n",
       "    .dataframe tbody tr th:only-of-type {\n",
       "        vertical-align: middle;\n",
       "    }\n",
       "\n",
       "    .dataframe tbody tr th {\n",
       "        vertical-align: top;\n",
       "    }\n",
       "\n",
       "    .dataframe thead th {\n",
       "        text-align: right;\n",
       "    }\n",
       "</style>\n",
       "<table border=\"1\" class=\"dataframe\">\n",
       "  <thead>\n",
       "    <tr style=\"text-align: right;\">\n",
       "      <th></th>\n",
       "      <th>party_code</th>\n",
       "      <th>party_name</th>\n",
       "      <th>party_abbr</th>\n",
       "    </tr>\n",
       "  </thead>\n",
       "  <tbody>\n",
       "    <tr>\n",
       "      <th>12174323</th>\n",
       "      <td>-2147483648</td>\n",
       "      <td>BARCELONA ETS TÚ</td>\n",
       "      <td>BCN ETS TÚ</td>\n",
       "    </tr>\n",
       "    <tr>\n",
       "      <th>0</th>\n",
       "      <td>1</td>\n",
       "      <td>Conservadors de Catalunya</td>\n",
       "      <td>C.i.C.</td>\n",
       "    </tr>\n",
       "    <tr>\n",
       "      <th>171727</th>\n",
       "      <td>2</td>\n",
       "      <td>Partit dels Comunistes de Catalunya</td>\n",
       "      <td>PCC</td>\n",
       "    </tr>\n",
       "    <tr>\n",
       "      <th>226225</th>\n",
       "      <td>3</td>\n",
       "      <td>Unificació Comunista d'Espanya</td>\n",
       "      <td>U.C.E.</td>\n",
       "    </tr>\n",
       "    <tr>\n",
       "      <th>1</th>\n",
       "      <td>4</td>\n",
       "      <td>Partit Socialista Unificat de Catalunya</td>\n",
       "      <td>PSUC</td>\n",
       "    </tr>\n",
       "    <tr>\n",
       "      <th>...</th>\n",
       "      <td>...</td>\n",
       "      <td>...</td>\n",
       "      <td>...</td>\n",
       "    </tr>\n",
       "    <tr>\n",
       "      <th>12174318</th>\n",
       "      <td>431664190</td>\n",
       "      <td>TOT(S) VILALLONGA DEL CAMP</td>\n",
       "      <td>TOT(S)</td>\n",
       "    </tr>\n",
       "    <tr>\n",
       "      <th>12174319</th>\n",
       "      <td>431704190</td>\n",
       "      <td>SOM-HI VILA-RODONA</td>\n",
       "      <td>SV</td>\n",
       "    </tr>\n",
       "    <tr>\n",
       "      <th>12174320</th>\n",
       "      <td>439054190</td>\n",
       "      <td>FEM SALOU FEM REPÚBLICA</td>\n",
       "      <td>SR</td>\n",
       "    </tr>\n",
       "    <tr>\n",
       "      <th>12174321</th>\n",
       "      <td>439054192</td>\n",
       "      <td>UNIDOS SALOU COSTA DORADA</td>\n",
       "      <td>UNIDOS SALOU</td>\n",
       "    </tr>\n",
       "    <tr>\n",
       "      <th>12174322</th>\n",
       "      <td>439054194</td>\n",
       "      <td>TRABAJANDO POR SALOU-TREBALLANT PER SALOU</td>\n",
       "      <td>TXS</td>\n",
       "    </tr>\n",
       "  </tbody>\n",
       "</table>\n",
       "<p>957 rows × 3 columns</p>\n",
       "</div>"
      ],
      "text/plain": [
       "          party_code                                 party_name    party_abbr\n",
       "12174323 -2147483648                           BARCELONA ETS TÚ    BCN ETS TÚ\n",
       "0                  1                  Conservadors de Catalunya        C.i.C.\n",
       "171727             2        Partit dels Comunistes de Catalunya           PCC\n",
       "226225             3             Unificació Comunista d'Espanya        U.C.E.\n",
       "1                  4    Partit Socialista Unificat de Catalunya          PSUC\n",
       "...              ...                                        ...           ...\n",
       "12174318   431664190                 TOT(S) VILALLONGA DEL CAMP        TOT(S)\n",
       "12174319   431704190                         SOM-HI VILA-RODONA            SV\n",
       "12174320   439054190                    FEM SALOU FEM REPÚBLICA            SR\n",
       "12174321   439054192                  UNIDOS SALOU COSTA DORADA  UNIDOS SALOU\n",
       "12174322   439054194  TRABAJANDO POR SALOU-TREBALLANT PER SALOU           TXS\n",
       "\n",
       "[957 rows x 3 columns]"
      ]
     },
     "execution_count": 5,
     "metadata": {},
     "output_type": "execute_result"
    }
   ],
   "source": [
    "unique_df = df[['party_code', 'party_name', 'party_abbr']].drop_duplicates()\n",
    "sorted_unique_df = unique_df.sort_values(by='party_code')\n",
    "sorted_unique_df"
   ]
  },
  {
   "cell_type": "code",
   "execution_count": 6,
   "metadata": {},
   "outputs": [
    {
     "data": {
      "text/html": [
       "<div>\n",
       "<style scoped>\n",
       "    .dataframe tbody tr th:only-of-type {\n",
       "        vertical-align: middle;\n",
       "    }\n",
       "\n",
       "    .dataframe tbody tr th {\n",
       "        vertical-align: top;\n",
       "    }\n",
       "\n",
       "    .dataframe thead th {\n",
       "        text-align: right;\n",
       "    }\n",
       "</style>\n",
       "<table border=\"1\" class=\"dataframe\">\n",
       "  <thead>\n",
       "    <tr style=\"text-align: right;\">\n",
       "      <th></th>\n",
       "      <th>party_code</th>\n",
       "      <th>count</th>\n",
       "      <th>first_party_name</th>\n",
       "    </tr>\n",
       "  </thead>\n",
       "  <tbody>\n",
       "    <tr>\n",
       "      <th>0</th>\n",
       "      <td>301</td>\n",
       "      <td>5</td>\n",
       "      <td>Ciutadans-Partido de la Ciudadanía</td>\n",
       "    </tr>\n",
       "    <tr>\n",
       "      <th>1</th>\n",
       "      <td>86</td>\n",
       "      <td>4</td>\n",
       "      <td>Partit Popular</td>\n",
       "    </tr>\n",
       "    <tr>\n",
       "      <th>2</th>\n",
       "      <td>1083</td>\n",
       "      <td>3</td>\n",
       "      <td>Junts per Catalunya</td>\n",
       "    </tr>\n",
       "    <tr>\n",
       "      <th>3</th>\n",
       "      <td>662</td>\n",
       "      <td>3</td>\n",
       "      <td>Partit Animalista Contra el Maltractament Animal</td>\n",
       "    </tr>\n",
       "    <tr>\n",
       "      <th>4</th>\n",
       "      <td>643</td>\n",
       "      <td>2</td>\n",
       "      <td>Escons en Blanc</td>\n",
       "    </tr>\n",
       "    <tr>\n",
       "      <th>...</th>\n",
       "      <td>...</td>\n",
       "      <td>...</td>\n",
       "      <td>...</td>\n",
       "    </tr>\n",
       "    <tr>\n",
       "      <th>915</th>\n",
       "      <td>614</td>\n",
       "      <td>1</td>\n",
       "      <td>Iniciativa per Catalunya Verds-EUiA: L'Esquerra</td>\n",
       "    </tr>\n",
       "    <tr>\n",
       "      <th>916</th>\n",
       "      <td>615</td>\n",
       "      <td>1</td>\n",
       "      <td>Salamanca-Zamora-León</td>\n",
       "    </tr>\n",
       "    <tr>\n",
       "      <th>917</th>\n",
       "      <td>616</td>\n",
       "      <td>1</td>\n",
       "      <td>Libertas-Ciudadanos de España</td>\n",
       "    </tr>\n",
       "    <tr>\n",
       "      <th>918</th>\n",
       "      <td>617</td>\n",
       "      <td>1</td>\n",
       "      <td>Los Verdes-Grupo Verde Europeo</td>\n",
       "    </tr>\n",
       "    <tr>\n",
       "      <th>919</th>\n",
       "      <td>439054194</td>\n",
       "      <td>1</td>\n",
       "      <td>TRABAJANDO POR SALOU-TREBALLANT PER SALOU</td>\n",
       "    </tr>\n",
       "  </tbody>\n",
       "</table>\n",
       "<p>920 rows × 3 columns</p>\n",
       "</div>"
      ],
      "text/plain": [
       "     party_code  count                                  first_party_name\n",
       "0           301      5                Ciutadans-Partido de la Ciudadanía\n",
       "1            86      4                                    Partit Popular\n",
       "2          1083      3                               Junts per Catalunya\n",
       "3           662      3  Partit Animalista Contra el Maltractament Animal\n",
       "4           643      2                                   Escons en Blanc\n",
       "..          ...    ...                                               ...\n",
       "915         614      1   Iniciativa per Catalunya Verds-EUiA: L'Esquerra\n",
       "916         615      1                             Salamanca-Zamora-León\n",
       "917         616      1                     Libertas-Ciudadanos de España\n",
       "918         617      1                    Los Verdes-Grupo Verde Europeo\n",
       "919   439054194      1         TRABAJANDO POR SALOU-TREBALLANT PER SALOU\n",
       "\n",
       "[920 rows x 3 columns]"
      ]
     },
     "execution_count": 6,
     "metadata": {},
     "output_type": "execute_result"
    }
   ],
   "source": [
    "# Group by 'party_code', then aggregate to get the count and the first 'party_name'\n",
    "count_df = (\n",
    "    unique_df.groupby(\"party_code\")\n",
    "    .agg(\n",
    "        count=(\"party_code\", \"size\"),  # Count the number of occurrences\n",
    "        first_party_name=(\n",
    "            \"party_name\",\n",
    "            \"first\",\n",
    "        ),  # Get the first 'party_name'\n",
    "    )\n",
    "    .reset_index()\n",
    ")\n",
    "sorted_count_df = count_df.sort_values(by=\"count\", ascending=False).reset_index(\n",
    "    drop=True\n",
    ")\n",
    "sorted_count_df"
   ]
  },
  {
   "cell_type": "code",
   "execution_count": 7,
   "metadata": {},
   "outputs": [
    {
     "data": {
      "text/html": [
       "<div>\n",
       "<style scoped>\n",
       "    .dataframe tbody tr th:only-of-type {\n",
       "        vertical-align: middle;\n",
       "    }\n",
       "\n",
       "    .dataframe tbody tr th {\n",
       "        vertical-align: top;\n",
       "    }\n",
       "\n",
       "    .dataframe thead th {\n",
       "        text-align: right;\n",
       "    }\n",
       "</style>\n",
       "<table border=\"1\" class=\"dataframe\">\n",
       "  <thead>\n",
       "    <tr style=\"text-align: right;\">\n",
       "      <th></th>\n",
       "      <th>party_code</th>\n",
       "      <th>count</th>\n",
       "      <th>first_party_name</th>\n",
       "      <th>party_name</th>\n",
       "      <th>party_abbr</th>\n",
       "    </tr>\n",
       "  </thead>\n",
       "  <tbody>\n",
       "    <tr>\n",
       "      <th>0</th>\n",
       "      <td>301</td>\n",
       "      <td>5</td>\n",
       "      <td>Ciutadans-Partido de la Ciudadanía</td>\n",
       "      <td>Ciutadans-Partido de la Ciudadanía</td>\n",
       "      <td>C's</td>\n",
       "    </tr>\n",
       "    <tr>\n",
       "      <th>1</th>\n",
       "      <td>301</td>\n",
       "      <td>5</td>\n",
       "      <td>Ciutadans-Partido de la Ciudadanía</td>\n",
       "      <td>Ciutadans-Partido de la Ciudadanía</td>\n",
       "      <td>Cs</td>\n",
       "    </tr>\n",
       "    <tr>\n",
       "      <th>2</th>\n",
       "      <td>301</td>\n",
       "      <td>5</td>\n",
       "      <td>Ciutadans-Partido de la Ciudadanía</td>\n",
       "      <td>CIUTADANS-PARTIDO DE LA CIUDADANIA</td>\n",
       "      <td>CS</td>\n",
       "    </tr>\n",
       "    <tr>\n",
       "      <th>3</th>\n",
       "      <td>301</td>\n",
       "      <td>5</td>\n",
       "      <td>Ciutadans-Partido de la Ciudadanía</td>\n",
       "      <td>CIUTADANS-PARTIDO DE LA CIUDADANÍA</td>\n",
       "      <td>Cs</td>\n",
       "    </tr>\n",
       "    <tr>\n",
       "      <th>4</th>\n",
       "      <td>301</td>\n",
       "      <td>5</td>\n",
       "      <td>Ciutadans-Partido de la Ciudadanía</td>\n",
       "      <td>CIUTADANS-PARTIDO DE LA CIUDADANIA</td>\n",
       "      <td>Cs</td>\n",
       "    </tr>\n",
       "    <tr>\n",
       "      <th>...</th>\n",
       "      <td>...</td>\n",
       "      <td>...</td>\n",
       "      <td>...</td>\n",
       "      <td>...</td>\n",
       "      <td>...</td>\n",
       "    </tr>\n",
       "    <tr>\n",
       "      <th>952</th>\n",
       "      <td>431664190</td>\n",
       "      <td>1</td>\n",
       "      <td>TOT(S) VILALLONGA DEL CAMP</td>\n",
       "      <td>TOT(S) VILALLONGA DEL CAMP</td>\n",
       "      <td>TOT(S)</td>\n",
       "    </tr>\n",
       "    <tr>\n",
       "      <th>953</th>\n",
       "      <td>431704190</td>\n",
       "      <td>1</td>\n",
       "      <td>SOM-HI VILA-RODONA</td>\n",
       "      <td>SOM-HI VILA-RODONA</td>\n",
       "      <td>SV</td>\n",
       "    </tr>\n",
       "    <tr>\n",
       "      <th>954</th>\n",
       "      <td>439054190</td>\n",
       "      <td>1</td>\n",
       "      <td>FEM SALOU FEM REPÚBLICA</td>\n",
       "      <td>FEM SALOU FEM REPÚBLICA</td>\n",
       "      <td>SR</td>\n",
       "    </tr>\n",
       "    <tr>\n",
       "      <th>955</th>\n",
       "      <td>439054192</td>\n",
       "      <td>1</td>\n",
       "      <td>UNIDOS SALOU COSTA DORADA</td>\n",
       "      <td>UNIDOS SALOU COSTA DORADA</td>\n",
       "      <td>UNIDOS SALOU</td>\n",
       "    </tr>\n",
       "    <tr>\n",
       "      <th>956</th>\n",
       "      <td>439054194</td>\n",
       "      <td>1</td>\n",
       "      <td>TRABAJANDO POR SALOU-TREBALLANT PER SALOU</td>\n",
       "      <td>TRABAJANDO POR SALOU-TREBALLANT PER SALOU</td>\n",
       "      <td>TXS</td>\n",
       "    </tr>\n",
       "  </tbody>\n",
       "</table>\n",
       "<p>957 rows × 5 columns</p>\n",
       "</div>"
      ],
      "text/plain": [
       "     party_code  count                           first_party_name  \\\n",
       "0           301      5         Ciutadans-Partido de la Ciudadanía   \n",
       "1           301      5         Ciutadans-Partido de la Ciudadanía   \n",
       "2           301      5         Ciutadans-Partido de la Ciudadanía   \n",
       "3           301      5         Ciutadans-Partido de la Ciudadanía   \n",
       "4           301      5         Ciutadans-Partido de la Ciudadanía   \n",
       "..          ...    ...                                        ...   \n",
       "952   431664190      1                 TOT(S) VILALLONGA DEL CAMP   \n",
       "953   431704190      1                         SOM-HI VILA-RODONA   \n",
       "954   439054190      1                    FEM SALOU FEM REPÚBLICA   \n",
       "955   439054192      1                  UNIDOS SALOU COSTA DORADA   \n",
       "956   439054194      1  TRABAJANDO POR SALOU-TREBALLANT PER SALOU   \n",
       "\n",
       "                                    party_name    party_abbr  \n",
       "0           Ciutadans-Partido de la Ciudadanía           C's  \n",
       "1           Ciutadans-Partido de la Ciudadanía            Cs  \n",
       "2           CIUTADANS-PARTIDO DE LA CIUDADANIA            CS  \n",
       "3           CIUTADANS-PARTIDO DE LA CIUDADANÍA            Cs  \n",
       "4           CIUTADANS-PARTIDO DE LA CIUDADANIA            Cs  \n",
       "..                                         ...           ...  \n",
       "952                 TOT(S) VILALLONGA DEL CAMP        TOT(S)  \n",
       "953                         SOM-HI VILA-RODONA            SV  \n",
       "954                    FEM SALOU FEM REPÚBLICA            SR  \n",
       "955                  UNIDOS SALOU COSTA DORADA  UNIDOS SALOU  \n",
       "956  TRABAJANDO POR SALOU-TREBALLANT PER SALOU           TXS  \n",
       "\n",
       "[957 rows x 5 columns]"
      ]
     },
     "execution_count": 7,
     "metadata": {},
     "output_type": "execute_result"
    }
   ],
   "source": [
    "# Merge count_df and unique_df by 'party_code'\n",
    "merged_df = pd.merge(\n",
    "    count_df, unique_df, on=\"party_code\", how=\"inner\"\n",
    ")\n",
    "\n",
    "# Sort merged_df by 'count' and 'party_code'\n",
    "sorted_merged_df = merged_df.sort_values(\n",
    "    by=[\"count\", \"party_code\"], ascending=[False, True]\n",
    ").reset_index(drop=True)\n",
    "\n",
    "sorted_merged_df"
   ]
  },
  {
   "cell_type": "markdown",
   "metadata": {},
   "source": [
    "After the cleaning we have **920 candidatures**, that is a huge reduction compared to the original dataset, which had **7351 candidatures**.\n",
    "\n",
    "But there are still many candidatures that could be grouped into the same party. To do this, we need to perform language processing to group the candidatures that have a similar name."
   ]
  },
  {
   "cell_type": "markdown",
   "metadata": {},
   "source": [
    "### Group party by name similarity"
   ]
  },
  {
   "cell_type": "markdown",
   "metadata": {},
   "source": [
    "Grouping the candidatures by name similarity is a complex task. We will use the Levenshtein distance to measure the similarity between the names of the candidatures. The Levenshtein distance is a string metric for measuring the difference between two sequences. Informally, the Levenshtein distance between two words is the minimum number of single-character edits (insertions, deletions or substitutions) required to change one word into the other."
   ]
  },
  {
   "cell_type": "markdown",
   "metadata": {},
   "source": [
    "In order to improve the process of grouping the candidatures by similarity, we will apply the following preprocessing steps to the names of the candidatures:\n",
    "- Convert names to lowercase\n",
    "- Remove accents\n",
    "- Remove special characters\n",
    "\n",
    "Then, we will store this new information in a new column called ``party_clean_name``."
   ]
  },
  {
   "cell_type": "code",
   "execution_count": 8,
   "metadata": {},
   "outputs": [],
   "source": [
    "def clean_party_name(party_name):\n",
    "    party_name = party_name.lower()\n",
    "    party_name = unidecode(party_name)\n",
    "    party_name = party_name.replace(\"(\", \"\").replace(\")\", \"\").replace(\",\", \"\").replace(\"-\", \"\")\n",
    "    return party_name\n",
    "\n",
    "def clean_party_names(df):\n",
    "    df['clean_party_name'] = df['party_name'].apply(clean_party_name)\n",
    "    return df"
   ]
  },
  {
   "cell_type": "code",
   "execution_count": 9,
   "metadata": {},
   "outputs": [],
   "source": [
    "df = clean_party_names(df)"
   ]
  },
  {
   "cell_type": "markdown",
   "metadata": {},
   "source": [
    "Joining similar parties (or candidatures) into the same party code is not a trivial task. We must be careful when joining the parties, because some similar candidatures could belong to different parties. We will ensure that grouped candidatures hasn't competed in the same election.\n",
    "\n",
    "This function will help us to discard those candidatures with similar name that have competed in the same election, and therefore, they are different parties.\n",
    "\n",
    "Also, we need to take into account that the candidatures with similar name could belong to the same `party_code`. We only need to group the candidatures that have different `party_code`."
   ]
  },
  {
   "cell_type": "code",
   "execution_count": 10,
   "metadata": {},
   "outputs": [],
   "source": [
    "def parties_competed_together_matrix(df, column=\"clean_party_name\"):\n",
    "    # Filter DataFrame for territorial level \"MU\"\n",
    "    df_filtered = df[df[\"id_nivell_territorial\"] == \"MU\"]\n",
    "\n",
    "    # Group by party name and aggregate unique election identifiers into sets\n",
    "    party_elections = df_filtered.groupby(column)[\"nom_eleccio\"].apply(set)\n",
    "\n",
    "    # Get a sorted list of unique party names for consistent ordering\n",
    "    party_names = sorted(party_elections.index)\n",
    "\n",
    "    # Create an empty boolean matrix\n",
    "    matrix_size = len(party_names)\n",
    "    bool_matrix = pd.DataFrame(False, index=party_names, columns=party_names)\n",
    "\n",
    "    # Iterate through each party name once, showing progress with tqdm\n",
    "    for i in tqdm(range(matrix_size), desc=\"Calculate parties that competed together\"):\n",
    "        party_name_i = party_names[i]\n",
    "        elections_i = party_elections[party_name_i]\n",
    "        for j in range(i + 1, matrix_size):\n",
    "            party_name_j = party_names[j]\n",
    "            # Compare sets of election IDs for common elements\n",
    "            # Set the cell to True if there's an intersection\n",
    "            bool_matrix.at[party_name_i, party_name_j] = bool_matrix.at[\n",
    "                party_name_j, party_name_i\n",
    "            ] = not elections_i.isdisjoint(party_elections[party_name_j])\n",
    "\n",
    "    return bool_matrix"
   ]
  },
  {
   "cell_type": "markdown",
   "metadata": {},
   "source": [
    "A party code can have different names, that means the similar names could belong to the same party code. We will create a function to check if the similar names belong to the same party code. If they belong to the same party code, we won't take them into account as they are already grouped.\n",
    "\n",
    "We will create a function that checks whether the similar names belong to the same party code. If they belong to the same party code, it will return True, otherwise it will return False."
   ]
  },
  {
   "cell_type": "code",
   "execution_count": 11,
   "metadata": {},
   "outputs": [],
   "source": [
    "def same_party_code_matrix(df, column=\"party_name\"):\n",
    "    # Group by party name and aggregate party codes into sets\n",
    "    party_codes = df.groupby(column)[\"party_code\"].apply(set)\n",
    "\n",
    "    # Get a sorted list of unique party names for consistent ordering\n",
    "    party_names = sorted(party_codes.index)\n",
    "\n",
    "    # Create an empty boolean matrix\n",
    "    matrix_size = len(party_names)\n",
    "    bool_matrix = pd.DataFrame(False, index=party_names, columns=party_names)\n",
    "\n",
    "    # Iterate through each party name once\n",
    "    for i in tqdm(range(matrix_size), desc=\"Calculating same party codes matrix\"):\n",
    "        party_name_i = party_names[i]\n",
    "        codes_i = party_codes[party_name_i]\n",
    "        for j in range(i + 1, matrix_size):\n",
    "            party_name_j = party_names[j]\n",
    "            # Compare sets of party codes for common elements\n",
    "            # Set the cell to True if there's an intersection\n",
    "            bool_matrix.at[party_name_i, party_name_j] = bool_matrix.at[\n",
    "                party_name_j, party_name_i\n",
    "            ] = not codes_i.isdisjoint(party_codes[party_name_j])\n",
    "\n",
    "    return bool_matrix"
   ]
  },
  {
   "cell_type": "code",
   "execution_count": 12,
   "metadata": {},
   "outputs": [
    {
     "data": {
      "text/html": [
       "<div>\n",
       "<style scoped>\n",
       "    .dataframe tbody tr th:only-of-type {\n",
       "        vertical-align: middle;\n",
       "    }\n",
       "\n",
       "    .dataframe tbody tr th {\n",
       "        vertical-align: top;\n",
       "    }\n",
       "\n",
       "    .dataframe thead th {\n",
       "        text-align: right;\n",
       "    }\n",
       "</style>\n",
       "<table border=\"1\" class=\"dataframe\">\n",
       "  <thead>\n",
       "    <tr style=\"text-align: right;\">\n",
       "      <th></th>\n",
       "      <th>party_code</th>\n",
       "      <th>clean_party_name</th>\n",
       "    </tr>\n",
       "  </thead>\n",
       "  <tbody>\n",
       "    <tr>\n",
       "      <th>698481</th>\n",
       "      <td>86</td>\n",
       "      <td>partit popular</td>\n",
       "    </tr>\n",
       "    <tr>\n",
       "      <th>6720119</th>\n",
       "      <td>86</td>\n",
       "      <td>partit popular /partido popular</td>\n",
       "    </tr>\n",
       "    <tr>\n",
       "      <th>10044037</th>\n",
       "      <td>86</td>\n",
       "      <td>partido popular/partit popular</td>\n",
       "    </tr>\n",
       "    <tr>\n",
       "      <th>12174026</th>\n",
       "      <td>86</td>\n",
       "      <td>partit popular / partido popular</td>\n",
       "    </tr>\n",
       "  </tbody>\n",
       "</table>\n",
       "</div>"
      ],
      "text/plain": [
       "          party_code                  clean_party_name\n",
       "698481            86                    partit popular\n",
       "6720119           86   partit popular /partido popular\n",
       "10044037          86    partido popular/partit popular\n",
       "12174026          86  partit popular / partido popular"
      ]
     },
     "execution_count": 12,
     "metadata": {},
     "output_type": "execute_result"
    }
   ],
   "source": [
    "df[df[\"party_code\"] == 86][[\"party_code\", \"clean_party_name\"]].drop_duplicates()"
   ]
  },
  {
   "cell_type": "code",
   "execution_count": 13,
   "metadata": {},
   "outputs": [],
   "source": [
    "def calculate_distance_matrix(\n",
    "    party_names, distance_algorithm=textdistance.levenshtein.distance\n",
    "):\n",
    "    \"\"\"Calculate a distance matrix for a list of strings using a distance algorithm\n",
    "\n",
    "    Set to max_distance for the diagonal and below the diagonal to avoid taking into account a value 2 times\n",
    "\n",
    "    Args:\n",
    "    party_names: A list with the party names (or abreviations) to calculate the distance matrix for\n",
    "    distance_algorithm: A distance algorithm from the textdistance library\n",
    "    column_name: The name of the column in the DataFrame containing the party strings\n",
    "    \"\"\"\n",
    "    n = len(party_names)\n",
    "\n",
    "    distance_matrix = np.zeros((n, n), dtype=float)  # Initialize a matrix with zeros\n",
    "    max_distance = 100.0\n",
    "\n",
    "    # Only calculate for the upper half of the matrix\n",
    "    for i in tqdm(range(n), desc=\"Calculating distances\"):\n",
    "        for j in range(i + 1, n):\n",
    "            distance_matrix[i, j] = distance_algorithm(party_names[i], party_names[j])\n",
    "            distance_matrix[j, i] = max_distance\n",
    "\n",
    "    # Making sure the diagonal is high to simulate distance to itself (will be filtered out)\n",
    "    np.fill_diagonal(distance_matrix, 100.0)\n",
    "\n",
    "    # Convert the NumPy array to a pandas DataFrame\n",
    "    return pd.DataFrame(distance_matrix, index=party_names, columns=party_names)"
   ]
  },
  {
   "cell_type": "markdown",
   "metadata": {},
   "source": [
    "Now we have a list of similar names that belong to the same party code. We will group the candidatures that have different party codes. To do this, we will create a new column called ``party_group``. This column will store the party code of the grouped candidatures.\n",
    "\n",
    "Each similar name has its own party code, so we must choose which code to keep. We will choose the code with the most votes."
   ]
  },
  {
   "cell_type": "code",
   "execution_count": 14,
   "metadata": {},
   "outputs": [],
   "source": [
    "def extract_true_pairs(similar_parties_matrix):\n",
    "    \"\"\"\n",
    "    Extract pairs of parties with True values from a similarity matrix.\n",
    "\n",
    "    Parameters:\n",
    "    - similar_parties_matrix: DataFrame, a matrix indicating similarity (True) between pairs of parties.\n",
    "\n",
    "    Returns:\n",
    "    - DataFrame with two columns (party_1, party_2) listing all pairs of parties with True values.\n",
    "    \"\"\"\n",
    "    party_pairs = []\n",
    "\n",
    "    for row in tqdm(similar_parties_matrix.index, desc=\"Extracting true pairs\"):\n",
    "        for col in similar_parties_matrix.columns:\n",
    "            if row != col and similar_parties_matrix.at[row, col]:\n",
    "                # Append the pair to the list if the parties are different\n",
    "                party_pairs.append({\"party_1\": row, \"party_2\": col})\n",
    "\n",
    "    # Convert the list of dictionaries to a DataFrame\n",
    "    parties_table = pd.DataFrame(party_pairs, columns=[\"party_1\", \"party_2\"])\n",
    "\n",
    "    return parties_table"
   ]
  },
  {
   "cell_type": "code",
   "execution_count": 15,
   "metadata": {},
   "outputs": [],
   "source": [
    "def get_most_votes_party_code(\n",
    "    df, party_names, column=\"clean_party_name\", territory=\"CA\"\n",
    "):\n",
    "    # Filter the df by id_nivell_territorial equal to territory\n",
    "    filtered_df = df[df[\"id_nivell_territorial\"] == territory]\n",
    "\n",
    "    # For a set of party_names, get the party_codes with the highest sum of votes\n",
    "    party_codes = (\n",
    "        filtered_df.loc[filtered_df[column].isin(party_names)]\n",
    "        .groupby(\"party_code\")[\"vots\"]\n",
    "        .sum()\n",
    "    )\n",
    "    return party_codes.idxmax()"
   ]
  },
  {
   "cell_type": "code",
   "execution_count": 16,
   "metadata": {},
   "outputs": [],
   "source": [
    "def add_most_voted_party_code_column(df, similar_parties):\n",
    "    \"\"\"\n",
    "    Adds a 'most_voted_party_code' column to the df dataframe by applying \n",
    "    the get_most_votes_party_code function to each row based on party1 and party2 columns.\n",
    "\n",
    "    Parameters:\n",
    "    - df: DataFrame, dataframe with party1 and party2 columns.\n",
    "\n",
    "    Returns:\n",
    "    - DataFrame, the original dataframe with an added 'most_voted_party_code' column.\n",
    "    \"\"\"\n",
    "    similar_parties['most_voted_party_code'] = similar_parties.apply(\n",
    "        lambda row: get_most_votes_party_code(df, [row['party_1'], row['party_2']]), axis=1)\n",
    "    return similar_parties"
   ]
  },
  {
   "cell_type": "code",
   "execution_count": 63,
   "metadata": {},
   "outputs": [],
   "source": [
    "# create a function that given df returns a dataframe of party_codes and they sum of votes\n",
    "def get_party_codes_votes(df, territory=\"CA\"):\n",
    "    \"\"\"\n",
    "    Get the party codes and their sum of votes for a list of party names.\n",
    "\n",
    "    Parameters:\n",
    "    - df: DataFrame, the original dataframe with party information.\n",
    "    - territory: str, the territorial level to filter the dataframe.\n",
    "    \"\"\"\n",
    "    # Filter the df by id_nivell_territorial equal to territory\n",
    "    filtered_df = df[df[\"id_nivell_territorial\"] == territory]\n",
    "    # Get the party_codes with their sum of votes\n",
    "    party_codes_votes = filtered_df.groupby(\"party_code\")[\"vots\"].sum()\n",
    "    return party_codes_votes\n",
    "\n",
    "\n",
    "def get_codes_from_names(df, party_name, column=\"clean_party_name\"):\n",
    "    \"\"\"\n",
    "    Get the party codes for a list of party names.\n",
    "\n",
    "    Parameters:\n",
    "    - df: DataFrame, the original dataframe with party information.\n",
    "    - party_name: str, name of the party.\n",
    "    - column: str, the column name used to identify parties.\n",
    "    \"\"\"\n",
    "    return list(df[df[column] == party_name][\"party_code\"].unique())\n",
    "\n",
    "# def get_party_codes_dict(df, column=\"clean_party_name\"):\n",
    "#     \"\"\"\n",
    "#     Get a dictionary of party names and their party codes.\n",
    "\n",
    "#     Parameters:\n",
    "#     - df: DataFrame, the original dataframe with party information.\n",
    "#     - column: str, the column name used to identify parties.\n",
    "#     \"\"\"\n",
    "#     party_codes_dict = {}\n",
    "#     for party_name in df[column].unique():\n",
    "#         party_codes_dict[party_name] = get_codes_from_names(df, party_name, column)\n",
    "#     return party_codes_dict\n",
    "\n",
    "def get_party_codes_dict(df, column=\"clean_party_name\"):\n",
    "    \"\"\"\n",
    "    Get a dictionary of party names and their party codes using an optimized approach.\n",
    "\n",
    "    Parameters:\n",
    "    - df: DataFrame, the original dataframe with party information.\n",
    "    - column: str, the column name used to identify parties.\n",
    "    \"\"\"\n",
    "    # Group by the party name column and apply the get_codes_from_names function to each group.\n",
    "    # This assumes get_codes_from_names can be applied in such a manner. If not, adjustments will be needed.\n",
    "    party_codes_dict = df.groupby(column).apply(lambda x: get_codes_from_names(x, x[column].iloc[0], column)).to_dict()\n",
    "    return party_codes_dict\n",
    "\n",
    "\n",
    "def get_party_code_most_votes(party_codes, party_codes_votes):\n",
    "    \"\"\"\n",
    "    Given a list of party codes, return the party code with the most votes from a list of party codes.\n",
    "\n",
    "    Parameters:\n",
    "    - party_codes: list, a list of party codes.\n",
    "    - party_codes_votes: DataFrame, a list of party codes with their votes.\n",
    "    \"\"\"\n",
    "    try:\n",
    "        max_code = party_codes_votes.loc[party_codes].idxmax()\n",
    "    except:\n",
    "        max_code = party_codes[0]\n",
    "    \n",
    "    return max_code\n",
    "\n",
    "\n",
    "def calculate_most_voted_party_code_matrix(df):\n",
    "    \"\"\"\n",
    "    Calculate the most voted party code matrix for a dataframe.\n",
    "\n",
    "    Parameters:\n",
    "    - df: DataFrame, the original dataframe with party information.\n",
    "    \"\"\"\n",
    "    # primer de tot, agafo els party_names corresponents a la column=clean_party_name i els poso en una llista\n",
    "    # després, precalculo el nombre de vots que té cada party code i ho poso en un dataframe\n",
    "    # després, per cada parella de partits, agafo els seus party codes, els uneixo en una mateixa llista, i miro quin party code té més vots\n",
    "    # i això ho poso en una matriu\n",
    "    # també podria precalcular els codis de cada party_name i posar-ho en un diccionari, dict[party_name] = [party_codes]\n",
    "\n",
    "    # Get the party names\n",
    "    df_filtered = df[df[\"id_nivell_territorial\"] == \"MU\"]\n",
    "    party_names = df_filtered[\"clean_party_name\"].unique()\n",
    "\n",
    "    # Precalculate the sum of votes for each party code\n",
    "    party_codes_votes = get_party_codes_votes(df)\n",
    "    # Precalculate the party codes for each party name\n",
    "    party_codes_dict = get_party_codes_dict(df)\n",
    "\n",
    "    # Create an empty boolean matrix\n",
    "    matrix_size = len(party_names)\n",
    "    most_voted_matrix = pd.DataFrame(\"\", index=party_names, columns=party_names)\n",
    "\n",
    "    # Iterate through each party name once\n",
    "    for i in tqdm(range(matrix_size), desc=\"Calculating most voted party code matrix\"):\n",
    "        party_name_i = party_names[i]\n",
    "        codes_i = party_codes_dict[party_name_i]\n",
    "        for j in range(i + 1, matrix_size):\n",
    "            party_name_j = party_names[j]\n",
    "            codes_j = party_codes_dict[party_name_j]\n",
    "\n",
    "            combined_codes = list(set(codes_i + codes_j))\n",
    "            max_party_code = get_party_code_most_votes(combined_codes, party_codes_votes)\n",
    "            most_voted_matrix.at[party_name_i, party_name_j] = most_voted_matrix.at[\n",
    "                party_name_j, party_name_i\n",
    "            ] = max_party_code\n",
    "\n",
    "    return most_voted_matrix"
   ]
  },
  {
   "cell_type": "code",
   "execution_count": 65,
   "metadata": {},
   "outputs": [
    {
     "name": "stderr",
     "output_type": "stream",
     "text": [
      "Calculating distances: 100%|██████████| 834/834 [00:00<00:00, 847.84it/s] \n"
     ]
    },
    {
     "name": "stdout",
     "output_type": "stream",
     "text": [
      "(834, 834)\n"
     ]
    },
    {
     "name": "stderr",
     "output_type": "stream",
     "text": [
      "Calculate parties that competed together: 100%|██████████| 834/834 [00:04<00:00, 186.26it/s]\n"
     ]
    },
    {
     "name": "stdout",
     "output_type": "stream",
     "text": [
      "(834, 834)\n"
     ]
    },
    {
     "name": "stderr",
     "output_type": "stream",
     "text": [
      "Calculating most voted party code matrix: 100%|██████████| 745/745 [00:32<00:00, 22.74it/s] \n"
     ]
    },
    {
     "name": "stdout",
     "output_type": "stream",
     "text": [
      "(745, 745)\n"
     ]
    },
    {
     "name": "stderr",
     "output_type": "stream",
     "text": [
      "Extracting true pairs: 100%|██████████| 834/834 [00:01<00:00, 628.24it/s]\n"
     ]
    },
    {
     "data": {
      "text/html": [
       "<div>\n",
       "<style scoped>\n",
       "    .dataframe tbody tr th:only-of-type {\n",
       "        vertical-align: middle;\n",
       "    }\n",
       "\n",
       "    .dataframe tbody tr th {\n",
       "        vertical-align: top;\n",
       "    }\n",
       "\n",
       "    .dataframe thead th {\n",
       "        text-align: right;\n",
       "    }\n",
       "</style>\n",
       "<table border=\"1\" class=\"dataframe\">\n",
       "  <thead>\n",
       "    <tr style=\"text-align: right;\">\n",
       "      <th></th>\n",
       "      <th>party_1</th>\n",
       "      <th>party_2</th>\n",
       "    </tr>\n",
       "  </thead>\n",
       "  <tbody>\n",
       "    <tr>\n",
       "      <th>0</th>\n",
       "      <td>a. d'independents progressistes i nacionalistes</td>\n",
       "      <td>agrupacio d'independents progressistes i nacio...</td>\n",
       "    </tr>\n",
       "    <tr>\n",
       "      <th>1</th>\n",
       "      <td>accio i renovacio</td>\n",
       "      <td>accion social</td>\n",
       "    </tr>\n",
       "    <tr>\n",
       "      <th>2</th>\n",
       "      <td>accio municipal democratica</td>\n",
       "      <td>accion social</td>\n",
       "    </tr>\n",
       "    <tr>\n",
       "      <th>3</th>\n",
       "      <td>accio x santa coloma de cervello</td>\n",
       "      <td>accion social</td>\n",
       "    </tr>\n",
       "    <tr>\n",
       "      <th>4</th>\n",
       "      <td>agrupacio d' electors ametlla't</td>\n",
       "      <td>agrupacio d'argentona</td>\n",
       "    </tr>\n",
       "    <tr>\n",
       "      <th>...</th>\n",
       "      <td>...</td>\n",
       "      <td>...</td>\n",
       "    </tr>\n",
       "    <tr>\n",
       "      <th>3198</th>\n",
       "      <td>units per perafort i puigdelfi</td>\n",
       "      <td>units per sant llorenc</td>\n",
       "    </tr>\n",
       "    <tr>\n",
       "      <th>3199</th>\n",
       "      <td>v vilanova 365</td>\n",
       "      <td>v vilanova365</td>\n",
       "    </tr>\n",
       "    <tr>\n",
       "      <th>3200</th>\n",
       "      <td>vecinos por rubi  veins per rubi</td>\n",
       "      <td>vecinos por rubi veins per rubi</td>\n",
       "    </tr>\n",
       "    <tr>\n",
       "      <th>3201</th>\n",
       "      <td>veins de canet la tallada marenya i tor</td>\n",
       "      <td>veins per sant andreu de la barca</td>\n",
       "    </tr>\n",
       "    <tr>\n",
       "      <th>3202</th>\n",
       "      <td>veins per sant andreu de la barca</td>\n",
       "      <td>veins per sant feliu de llobregat</td>\n",
       "    </tr>\n",
       "  </tbody>\n",
       "</table>\n",
       "<p>3203 rows × 2 columns</p>\n",
       "</div>"
      ],
      "text/plain": [
       "                                              party_1  \\\n",
       "0     a. d'independents progressistes i nacionalistes   \n",
       "1                                   accio i renovacio   \n",
       "2                         accio municipal democratica   \n",
       "3                    accio x santa coloma de cervello   \n",
       "4                     agrupacio d' electors ametlla't   \n",
       "...                                               ...   \n",
       "3198                   units per perafort i puigdelfi   \n",
       "3199                                   v vilanova 365   \n",
       "3200                 vecinos por rubi  veins per rubi   \n",
       "3201          veins de canet la tallada marenya i tor   \n",
       "3202                veins per sant andreu de la barca   \n",
       "\n",
       "                                                party_2  \n",
       "0     agrupacio d'independents progressistes i nacio...  \n",
       "1                                         accion social  \n",
       "2                                         accion social  \n",
       "3                                         accion social  \n",
       "4                                 agrupacio d'argentona  \n",
       "...                                                 ...  \n",
       "3198                             units per sant llorenc  \n",
       "3199                                      v vilanova365  \n",
       "3200                    vecinos por rubi veins per rubi  \n",
       "3201                  veins per sant andreu de la barca  \n",
       "3202                  veins per sant feliu de llobregat  \n",
       "\n",
       "[3203 rows x 2 columns]"
      ]
     },
     "execution_count": 65,
     "metadata": {},
     "output_type": "execute_result"
    }
   ],
   "source": [
    "def join_parties(df, distance_function, threshold, column=\"clean_party_name\"):\n",
    "    \"\"\"\n",
    "    Joins parties in the df dataframe based on the distance_function and threshold.\n",
    "\n",
    "    Parameters:\n",
    "    - df: DataFrame, dataframe with party1 and party2 columns.\n",
    "    - distance_function: function, a distance function from the textdistance library.\n",
    "    - threshold: float, the threshold for the distance function.\n",
    "    - column: str, the name of the column in the DataFrame containing the party strings.\n",
    "\n",
    "    Returns:\n",
    "    - DataFrame, the original dataframe with an added 'most_voted_party_code' column.\n",
    "    \"\"\"\n",
    "    # Filter the list of party names to only include those that have competed in municipal elections\n",
    "    # This is done to have the same list of parties as in the competed_together_matrix\n",
    "    df_filtered = df[df[\"id_nivell_territorial\"] == \"MU\"]\n",
    "    party_names = sorted(df_filtered[column].unique().tolist())\n",
    "    distance_matrix = calculate_distance_matrix(party_names, distance_function)\n",
    "    boolean_distance_matrix = distance_matrix < threshold\n",
    "    print(boolean_distance_matrix.shape)\n",
    "    competed_together_matrix = parties_competed_together_matrix(df, column=column)\n",
    "    print(competed_together_matrix.shape)\n",
    "    not_competed_together_matrix = ~competed_together_matrix\n",
    "    most_voted_matrix = calculate_most_voted_party_code_matrix(df)\n",
    "    print(most_voted_matrix.shape)\n",
    "    similar_parties_matrix = boolean_distance_matrix & not_competed_together_matrix\n",
    "    similar_parties = extract_true_pairs(similar_parties_matrix)\n",
    "    # similar_parties = add_most_voted_party_code_column_optimized(df, similar_parties)\n",
    "    return similar_parties\n",
    "\n",
    "similar_parties = join_parties(df, textdistance.jaro_winkler.distance, 0.2, column=\"clean_party_name\")\n",
    "similar_parties"
   ]
  },
  {
   "cell_type": "markdown",
   "metadata": {},
   "source": [
    "Poden comptetir dos candidatures amb el mateix codi? (Independents)"
   ]
  },
  {
   "cell_type": "markdown",
   "metadata": {},
   "source": [
    "## Candidatures statistics"
   ]
  },
  {
   "cell_type": "markdown",
   "metadata": {},
   "source": [
    "### Plot votes by candidature"
   ]
  },
  {
   "cell_type": "markdown",
   "metadata": {},
   "source": [
    "### Plot seats by candidature"
   ]
  },
  {
   "cell_type": "markdown",
   "metadata": {},
   "source": [
    "##"
   ]
  },
  {
   "cell_type": "markdown",
   "metadata": {},
   "source": [
    "## Region statistics"
   ]
  },
  {
   "cell_type": "markdown",
   "metadata": {},
   "source": [
    "### Plot votes by region"
   ]
  },
  {
   "cell_type": "markdown",
   "metadata": {},
   "source": [
    "### Plot seats by region"
   ]
  },
  {
   "cell_type": "markdown",
   "metadata": {},
   "source": [
    "### Plot number of tables by region"
   ]
  }
 ],
 "metadata": {
  "kernelspec": {
   "display_name": ".venv",
   "language": "python",
   "name": "python3"
  },
  "language_info": {
   "codemirror_mode": {
    "name": "ipython",
    "version": 3
   },
   "file_extension": ".py",
   "mimetype": "text/x-python",
   "name": "python",
   "nbconvert_exporter": "python",
   "pygments_lexer": "ipython3",
   "version": "3.11.2"
  }
 },
 "nbformat": 4,
 "nbformat_minor": 2
}
