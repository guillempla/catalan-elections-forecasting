{
 "cells": [
  {
   "cell_type": "markdown",
   "metadata": {},
   "source": [
    "# Study Clean Catalan Elections Dataset"
   ]
  },
  {
   "cell_type": "markdown",
   "metadata": {},
   "source": [
    "Load libraries:"
   ]
  },
  {
   "cell_type": "code",
   "execution_count": 2,
   "metadata": {},
   "outputs": [],
   "source": [
    "import pandas as pd\n",
    "import pprint\n",
    "import matplotlib.pyplot as plt\n",
    "import seaborn as sns\n",
    "\n",
    "pp = pprint.PrettyPrinter(indent=2)"
   ]
  },
  {
   "cell_type": "markdown",
   "metadata": {},
   "source": [
    "Load the clean dataset:"
   ]
  },
  {
   "cell_type": "code",
   "execution_count": 3,
   "metadata": {},
   "outputs": [],
   "source": [
    "df = pd.read_pickle('../../data/processed/catalan-elections-clean-data.pkl')\n",
    "df_original = df.copy()"
   ]
  },
  {
   "cell_type": "markdown",
   "metadata": {},
   "source": [
    "## Dataset Structure "
   ]
  },
  {
   "cell_type": "markdown",
   "metadata": {},
   "source": [
    "Visualize the structure of the dataset:"
   ]
  },
  {
   "cell_type": "code",
   "execution_count": 4,
   "metadata": {},
   "outputs": [
    {
     "name": "stdout",
     "output_type": "stream",
     "text": [
      "<class 'pandas.core.frame.DataFrame'>\n",
      "RangeIndex: 12339340 entries, 0 to 12339339\n",
      "Data columns (total 21 columns):\n",
      " #   Column                  Dtype         \n",
      "---  ------                  -----         \n",
      " 0   index_autonumeric       int64         \n",
      " 1   nom_eleccio             object        \n",
      " 2   id_nivell_territorial   object        \n",
      " 3   nom_nivell_territorial  object        \n",
      " 4   territori_codi          object        \n",
      " 5   territori_nom           object        \n",
      " 6   seccio                  float64       \n",
      " 7   vots                    int64         \n",
      " 8   escons                  float64       \n",
      " 9   districte               float64       \n",
      " 10  mesa                    object        \n",
      " 11  party_code              int32         \n",
      " 12  party_name              object        \n",
      " 13  party_abbr              object        \n",
      " 14  party_color             object        \n",
      " 15  type                    object        \n",
      " 16  year                    int32         \n",
      " 17  sequential              object        \n",
      " 18  month                   int64         \n",
      " 19  day                     int64         \n",
      " 20  date                    datetime64[ns]\n",
      "dtypes: datetime64[ns](1), float64(3), int32(2), int64(4), object(11)\n",
      "memory usage: 1.8+ GB\n"
     ]
    }
   ],
   "source": [
    "df.info()"
   ]
  },
  {
   "cell_type": "markdown",
   "metadata": {},
   "source": [
    "| Column name               | Description                                            | Type      |\n",
    "|---------------------------|--------------------------------------------------------|-----------|\n",
    "| INDEX_AUTONUMERIC         | Autonumeric index identifier for the row               | Number    |\n",
    "| NOM_ELECCIO               | Name of the electoral process                          | Plain Text|\n",
    "| ID_NIVELL_TERRITORIAL     | Identifier of the territorial level (Municipality, Vegueria, County...) | Plain Text|\n",
    "| NOM_NIVELL_TERRITORIAL    | Name of the territorial level of the record (Municipality, County...) | Plain Text|\n",
    "| TERRITORI_CODI            | Territory code                                         | Plain Text|\n",
    "| TERRITORI_NOM             | Name of the territory                                  | Plain Text|\n",
    "| DISTRICTE                 | Electoral district                                     | Plain Text|\n",
    "| SECCIO                    | Electoral section                                      | Plain Text|\n",
    "| MESA                      | Electoral table                                        | Plain Text|\n",
    "| PARTY_CODE                | Code of the party                                      | Number    |\n",
    "| PARTY_NAME                | Name of the party                                      | Plain Text|\n",
    "| PARTY_ABBR                | Acronym of the party                                   | Plain Text|\n",
    "| PARTY_COLOR               | Color of the party                                     | Plain Text|\n",
    "| VOTS                      | Votes of the party                                     | Number    |\n",
    "| ESCONS                    | Seats of the party                                     | Number    |\n",
    "| TYPE                      | Type of election                                       | Plain Text|\n",
    "| YEAR                      | Year when the election took place                      | Number    |\n",
    "| MONTH                     | Month when the election took place                     | Number    |\n",
    "| DAY                       | Day when the election took place                       | Number    |\n",
    "| DATE                      | Date when the election took place                      | Datetime  |"
   ]
  },
  {
   "cell_type": "markdown",
   "metadata": {},
   "source": [
    "## Group candidatures"
   ]
  },
  {
   "cell_type": "markdown",
   "metadata": {},
   "source": [
    "One of the challenges of forecasting elections is the large number of candidatures. Most of the candidatures belong to a big party, but there are also many small parties and independent candidatures. We need to group the candidatures that belong to the same party in order to get the historical data of the biggest parties.\n",
    "\n",
    "We will try to group the candidatures automatically, but this will only be useful when the candidatures have a similar name. When the candidatures have a different name (for example parties that have merged, or parties that have changed their name), we will need to group them manually.\n",
    "\n",
    "There are many ways to group the candidatures. We could use the code, the acronym, the name or the columns ``AGRUPACIO_*``, but we need to keep in mind that these columns have 77% of empty values. We will start by grouping the candidatures by the code.\n",
    "\n",
    "The small parties or independent candidatures could be grouped in a single category called \"Others\"."
   ]
  },
  {
   "cell_type": "markdown",
   "metadata": {},
   "source": [
    "### Group party by code"
   ]
  },
  {
   "cell_type": "markdown",
   "metadata": {},
   "source": [
    "The first step is to analyze the number of individual candidatures. This will help us to know whether the groping is useful or not."
   ]
  },
  {
   "cell_type": "code",
   "execution_count": 18,
   "metadata": {},
   "outputs": [
    {
     "data": {
      "text/plain": [
       "636"
      ]
     },
     "execution_count": 18,
     "metadata": {},
     "output_type": "execute_result"
    }
   ],
   "source": [
    "# Show the number of unique parties by code\n",
    "candidatures = len(df['party_code'].unique())\n",
    "candidatures"
   ]
  },
  {
   "cell_type": "code",
   "execution_count": 19,
   "metadata": {},
   "outputs": [
    {
     "data": {
      "text/html": [
       "<div>\n",
       "<style scoped>\n",
       "    .dataframe tbody tr th:only-of-type {\n",
       "        vertical-align: middle;\n",
       "    }\n",
       "\n",
       "    .dataframe tbody tr th {\n",
       "        vertical-align: top;\n",
       "    }\n",
       "\n",
       "    .dataframe thead th {\n",
       "        text-align: right;\n",
       "    }\n",
       "</style>\n",
       "<table border=\"1\" class=\"dataframe\">\n",
       "  <thead>\n",
       "    <tr style=\"text-align: right;\">\n",
       "      <th></th>\n",
       "      <th>party_code</th>\n",
       "      <th>party_name</th>\n",
       "      <th>party_abbr</th>\n",
       "    </tr>\n",
       "  </thead>\n",
       "  <tbody>\n",
       "    <tr>\n",
       "      <th>1880988</th>\n",
       "      <td>3.000000e+00</td>\n",
       "      <td>Unificació Comunista d'Espanya</td>\n",
       "      <td>U.C.E.</td>\n",
       "    </tr>\n",
       "    <tr>\n",
       "      <th>1880989</th>\n",
       "      <td>6.000000e+00</td>\n",
       "      <td>Partit dels Socialistes de Catalunya (PSC-PSOE)</td>\n",
       "      <td>PSC</td>\n",
       "    </tr>\n",
       "    <tr>\n",
       "      <th>1594306</th>\n",
       "      <td>1.000000e+01</td>\n",
       "      <td>Esquerra Republicana de Catalunya</td>\n",
       "      <td>ERC</td>\n",
       "    </tr>\n",
       "    <tr>\n",
       "      <th>5620082</th>\n",
       "      <td>1.100000e+01</td>\n",
       "      <td>Partido Socialista de Andalucía-Partido Andaluz</td>\n",
       "      <td>PSA</td>\n",
       "    </tr>\n",
       "    <tr>\n",
       "      <th>1594307</th>\n",
       "      <td>1.200000e+01</td>\n",
       "      <td>Convergència i Unió</td>\n",
       "      <td>CiU</td>\n",
       "    </tr>\n",
       "    <tr>\n",
       "      <th>...</th>\n",
       "      <td>...</td>\n",
       "      <td>...</td>\n",
       "      <td>...</td>\n",
       "    </tr>\n",
       "    <tr>\n",
       "      <th>12181354</th>\n",
       "      <td>4.390542e+08</td>\n",
       "      <td>FEM SALOU FEM REPÚBLICA</td>\n",
       "      <td>SR</td>\n",
       "    </tr>\n",
       "    <tr>\n",
       "      <th>12181356</th>\n",
       "      <td>4.390542e+08</td>\n",
       "      <td>UNIDOS SALOU COSTA DORADA</td>\n",
       "      <td>UNIDOS SALOU</td>\n",
       "    </tr>\n",
       "    <tr>\n",
       "      <th>12181358</th>\n",
       "      <td>4.390542e+08</td>\n",
       "      <td>TRABAJANDO POR SALOU-TREBALLANT PER SALOU</td>\n",
       "      <td>TXS</td>\n",
       "    </tr>\n",
       "    <tr>\n",
       "      <th>12275390</th>\n",
       "      <td>2.019050e+13</td>\n",
       "      <td>BARCELONA ETS TÚ</td>\n",
       "      <td>BCN ETS TÚ</td>\n",
       "    </tr>\n",
       "    <tr>\n",
       "      <th>0</th>\n",
       "      <td>NaN</td>\n",
       "      <td>NaN</td>\n",
       "      <td>NaN</td>\n",
       "    </tr>\n",
       "  </tbody>\n",
       "</table>\n",
       "<p>653 rows × 3 columns</p>\n",
       "</div>"
      ],
      "text/plain": [
       "            party_code                                       party_name  \\\n",
       "1880988   3.000000e+00                   Unificació Comunista d'Espanya   \n",
       "1880989   6.000000e+00  Partit dels Socialistes de Catalunya (PSC-PSOE)   \n",
       "1594306   1.000000e+01                Esquerra Republicana de Catalunya   \n",
       "5620082   1.100000e+01  Partido Socialista de Andalucía-Partido Andaluz   \n",
       "1594307   1.200000e+01                              Convergència i Unió   \n",
       "...                ...                                              ...   \n",
       "12181354  4.390542e+08                          FEM SALOU FEM REPÚBLICA   \n",
       "12181356  4.390542e+08                        UNIDOS SALOU COSTA DORADA   \n",
       "12181358  4.390542e+08        TRABAJANDO POR SALOU-TREBALLANT PER SALOU   \n",
       "12275390  2.019050e+13                                 BARCELONA ETS TÚ   \n",
       "0                  NaN                                              NaN   \n",
       "\n",
       "            party_abbr  \n",
       "1880988         U.C.E.  \n",
       "1880989            PSC  \n",
       "1594306            ERC  \n",
       "5620082            PSA  \n",
       "1594307            CiU  \n",
       "...                ...  \n",
       "12181354            SR  \n",
       "12181356  UNIDOS SALOU  \n",
       "12181358           TXS  \n",
       "12275390    BCN ETS TÚ  \n",
       "0                  NaN  \n",
       "\n",
       "[653 rows x 3 columns]"
      ]
     },
     "execution_count": 19,
     "metadata": {},
     "output_type": "execute_result"
    }
   ],
   "source": [
    "unique_df = df[['party_code', 'party_name', 'party_abbr']].drop_duplicates()\n",
    "sorted_unique_df = unique_df.sort_values(by='party_code')\n",
    "sorted_unique_df"
   ]
  },
  {
   "cell_type": "code",
   "execution_count": 20,
   "metadata": {},
   "outputs": [
    {
     "data": {
      "text/html": [
       "<div>\n",
       "<style scoped>\n",
       "    .dataframe tbody tr th:only-of-type {\n",
       "        vertical-align: middle;\n",
       "    }\n",
       "\n",
       "    .dataframe tbody tr th {\n",
       "        vertical-align: top;\n",
       "    }\n",
       "\n",
       "    .dataframe thead th {\n",
       "        text-align: right;\n",
       "    }\n",
       "</style>\n",
       "<table border=\"1\" class=\"dataframe\">\n",
       "  <thead>\n",
       "    <tr style=\"text-align: right;\">\n",
       "      <th></th>\n",
       "      <th>party_code</th>\n",
       "      <th>count</th>\n",
       "      <th>first_party_name</th>\n",
       "    </tr>\n",
       "  </thead>\n",
       "  <tbody>\n",
       "    <tr>\n",
       "      <th>0</th>\n",
       "      <td>7.510000e+02</td>\n",
       "      <td>2</td>\n",
       "      <td>Endavant Cerdanya</td>\n",
       "    </tr>\n",
       "    <tr>\n",
       "      <th>1</th>\n",
       "      <td>6.430000e+02</td>\n",
       "      <td>2</td>\n",
       "      <td>Escons en Blanc</td>\n",
       "    </tr>\n",
       "    <tr>\n",
       "      <th>2</th>\n",
       "      <td>3.010000e+02</td>\n",
       "      <td>2</td>\n",
       "      <td>Ciutadans-Partido de la Ciudadanía</td>\n",
       "    </tr>\n",
       "    <tr>\n",
       "      <th>3</th>\n",
       "      <td>3.320000e+02</td>\n",
       "      <td>2</td>\n",
       "      <td>Partit Comunista del Poble de Catalunya</td>\n",
       "    </tr>\n",
       "    <tr>\n",
       "      <th>4</th>\n",
       "      <td>9.060000e+02</td>\n",
       "      <td>2</td>\n",
       "      <td>Som Catalans</td>\n",
       "    </tr>\n",
       "    <tr>\n",
       "      <th>...</th>\n",
       "      <td>...</td>\n",
       "      <td>...</td>\n",
       "      <td>...</td>\n",
       "    </tr>\n",
       "    <tr>\n",
       "      <th>630</th>\n",
       "      <td>8.970000e+02</td>\n",
       "      <td>1</td>\n",
       "      <td>Recuperemos Torredembarra/Recuperem Torredembarra</td>\n",
       "    </tr>\n",
       "    <tr>\n",
       "      <th>631</th>\n",
       "      <td>8.980000e+02</td>\n",
       "      <td>1</td>\n",
       "      <td>Republicanos</td>\n",
       "    </tr>\n",
       "    <tr>\n",
       "      <th>632</th>\n",
       "      <td>8.990000e+02</td>\n",
       "      <td>1</td>\n",
       "      <td>Roquetencs Tots Units</td>\n",
       "    </tr>\n",
       "    <tr>\n",
       "      <th>633</th>\n",
       "      <td>9.000000e+02</td>\n",
       "      <td>1</td>\n",
       "      <td>Sentit Comú</td>\n",
       "    </tr>\n",
       "    <tr>\n",
       "      <th>634</th>\n",
       "      <td>2.019050e+13</td>\n",
       "      <td>1</td>\n",
       "      <td>BARCELONA ETS TÚ</td>\n",
       "    </tr>\n",
       "  </tbody>\n",
       "</table>\n",
       "<p>635 rows × 3 columns</p>\n",
       "</div>"
      ],
      "text/plain": [
       "       party_code  count                                   first_party_name\n",
       "0    7.510000e+02      2                                  Endavant Cerdanya\n",
       "1    6.430000e+02      2                                    Escons en Blanc\n",
       "2    3.010000e+02      2                 Ciutadans-Partido de la Ciudadanía\n",
       "3    3.320000e+02      2            Partit Comunista del Poble de Catalunya\n",
       "4    9.060000e+02      2                                       Som Catalans\n",
       "..            ...    ...                                                ...\n",
       "630  8.970000e+02      1  Recuperemos Torredembarra/Recuperem Torredembarra\n",
       "631  8.980000e+02      1                                       Republicanos\n",
       "632  8.990000e+02      1                              Roquetencs Tots Units\n",
       "633  9.000000e+02      1                                        Sentit Comú\n",
       "634  2.019050e+13      1                                   BARCELONA ETS TÚ\n",
       "\n",
       "[635 rows x 3 columns]"
      ]
     },
     "execution_count": 20,
     "metadata": {},
     "output_type": "execute_result"
    }
   ],
   "source": [
    "# Group by 'party_code', then aggregate to get the count and the first 'party_name'\n",
    "count_df = (\n",
    "    unique_df.groupby(\"party_code\")\n",
    "    .agg(\n",
    "        count=(\"party_code\", \"size\"),  # Count the number of occurrences\n",
    "        first_party_name=(\n",
    "            \"party_name\",\n",
    "            \"first\",\n",
    "        ),  # Get the first 'party_name'\n",
    "    )\n",
    "    .reset_index()\n",
    ")\n",
    "sorted_count_df = count_df.sort_values(by=\"count\", ascending=False).reset_index(\n",
    "    drop=True\n",
    ")\n",
    "sorted_count_df"
   ]
  },
  {
   "cell_type": "code",
   "execution_count": 21,
   "metadata": {},
   "outputs": [
    {
     "data": {
      "text/html": [
       "<div>\n",
       "<style scoped>\n",
       "    .dataframe tbody tr th:only-of-type {\n",
       "        vertical-align: middle;\n",
       "    }\n",
       "\n",
       "    .dataframe tbody tr th {\n",
       "        vertical-align: top;\n",
       "    }\n",
       "\n",
       "    .dataframe thead th {\n",
       "        text-align: right;\n",
       "    }\n",
       "</style>\n",
       "<table border=\"1\" class=\"dataframe\">\n",
       "  <thead>\n",
       "    <tr style=\"text-align: right;\">\n",
       "      <th></th>\n",
       "      <th>party_code</th>\n",
       "      <th>count</th>\n",
       "      <th>first_party_name</th>\n",
       "      <th>party_name</th>\n",
       "      <th>party_abbr</th>\n",
       "    </tr>\n",
       "  </thead>\n",
       "  <tbody>\n",
       "    <tr>\n",
       "      <th>0</th>\n",
       "      <td>1.800000e+01</td>\n",
       "      <td>2</td>\n",
       "      <td>Falange Española de las J.O.N.S.</td>\n",
       "      <td>Falange Española de las J.O.N.S.</td>\n",
       "      <td>FE-JONS</td>\n",
       "    </tr>\n",
       "    <tr>\n",
       "      <th>1</th>\n",
       "      <td>1.800000e+01</td>\n",
       "      <td>2</td>\n",
       "      <td>Falange Española de las J.O.N.S.</td>\n",
       "      <td>FALANGE ESPAÑOLA DE LAS J.O.N.S.</td>\n",
       "      <td>FE de las JONS</td>\n",
       "    </tr>\n",
       "    <tr>\n",
       "      <th>2</th>\n",
       "      <td>8.600000e+01</td>\n",
       "      <td>2</td>\n",
       "      <td>Partit Popular</td>\n",
       "      <td>Partit Popular</td>\n",
       "      <td>PP</td>\n",
       "    </tr>\n",
       "    <tr>\n",
       "      <th>3</th>\n",
       "      <td>8.600000e+01</td>\n",
       "      <td>2</td>\n",
       "      <td>Partit Popular</td>\n",
       "      <td>PARTIT POPULAR / PARTIDO POPULAR</td>\n",
       "      <td>PP</td>\n",
       "    </tr>\n",
       "    <tr>\n",
       "      <th>4</th>\n",
       "      <td>3.010000e+02</td>\n",
       "      <td>2</td>\n",
       "      <td>Ciutadans-Partido de la Ciudadanía</td>\n",
       "      <td>Ciutadans-Partido de la Ciudadanía</td>\n",
       "      <td>C's</td>\n",
       "    </tr>\n",
       "    <tr>\n",
       "      <th>...</th>\n",
       "      <td>...</td>\n",
       "      <td>...</td>\n",
       "      <td>...</td>\n",
       "      <td>...</td>\n",
       "      <td>...</td>\n",
       "    </tr>\n",
       "    <tr>\n",
       "      <th>647</th>\n",
       "      <td>4.317042e+08</td>\n",
       "      <td>1</td>\n",
       "      <td>SOM-HI VILA-RODONA</td>\n",
       "      <td>SOM-HI VILA-RODONA</td>\n",
       "      <td>SV</td>\n",
       "    </tr>\n",
       "    <tr>\n",
       "      <th>648</th>\n",
       "      <td>4.390542e+08</td>\n",
       "      <td>1</td>\n",
       "      <td>FEM SALOU FEM REPÚBLICA</td>\n",
       "      <td>FEM SALOU FEM REPÚBLICA</td>\n",
       "      <td>SR</td>\n",
       "    </tr>\n",
       "    <tr>\n",
       "      <th>649</th>\n",
       "      <td>4.390542e+08</td>\n",
       "      <td>1</td>\n",
       "      <td>UNIDOS SALOU COSTA DORADA</td>\n",
       "      <td>UNIDOS SALOU COSTA DORADA</td>\n",
       "      <td>UNIDOS SALOU</td>\n",
       "    </tr>\n",
       "    <tr>\n",
       "      <th>650</th>\n",
       "      <td>4.390542e+08</td>\n",
       "      <td>1</td>\n",
       "      <td>TRABAJANDO POR SALOU-TREBALLANT PER SALOU</td>\n",
       "      <td>TRABAJANDO POR SALOU-TREBALLANT PER SALOU</td>\n",
       "      <td>TXS</td>\n",
       "    </tr>\n",
       "    <tr>\n",
       "      <th>651</th>\n",
       "      <td>2.019050e+13</td>\n",
       "      <td>1</td>\n",
       "      <td>BARCELONA ETS TÚ</td>\n",
       "      <td>BARCELONA ETS TÚ</td>\n",
       "      <td>BCN ETS TÚ</td>\n",
       "    </tr>\n",
       "  </tbody>\n",
       "</table>\n",
       "<p>652 rows × 5 columns</p>\n",
       "</div>"
      ],
      "text/plain": [
       "       party_code  count                           first_party_name  \\\n",
       "0    1.800000e+01      2           Falange Española de las J.O.N.S.   \n",
       "1    1.800000e+01      2           Falange Española de las J.O.N.S.   \n",
       "2    8.600000e+01      2                             Partit Popular   \n",
       "3    8.600000e+01      2                             Partit Popular   \n",
       "4    3.010000e+02      2         Ciutadans-Partido de la Ciudadanía   \n",
       "..            ...    ...                                        ...   \n",
       "647  4.317042e+08      1                         SOM-HI VILA-RODONA   \n",
       "648  4.390542e+08      1                    FEM SALOU FEM REPÚBLICA   \n",
       "649  4.390542e+08      1                  UNIDOS SALOU COSTA DORADA   \n",
       "650  4.390542e+08      1  TRABAJANDO POR SALOU-TREBALLANT PER SALOU   \n",
       "651  2.019050e+13      1                           BARCELONA ETS TÚ   \n",
       "\n",
       "                                    party_name      party_abbr  \n",
       "0             Falange Española de las J.O.N.S.         FE-JONS  \n",
       "1             FALANGE ESPAÑOLA DE LAS J.O.N.S.  FE de las JONS  \n",
       "2                               Partit Popular              PP  \n",
       "3             PARTIT POPULAR / PARTIDO POPULAR              PP  \n",
       "4           Ciutadans-Partido de la Ciudadanía             C's  \n",
       "..                                         ...             ...  \n",
       "647                         SOM-HI VILA-RODONA              SV  \n",
       "648                    FEM SALOU FEM REPÚBLICA              SR  \n",
       "649                  UNIDOS SALOU COSTA DORADA    UNIDOS SALOU  \n",
       "650  TRABAJANDO POR SALOU-TREBALLANT PER SALOU             TXS  \n",
       "651                           BARCELONA ETS TÚ      BCN ETS TÚ  \n",
       "\n",
       "[652 rows x 5 columns]"
      ]
     },
     "execution_count": 21,
     "metadata": {},
     "output_type": "execute_result"
    }
   ],
   "source": [
    "# Merge count_df and unique_df by 'party_code'\n",
    "merged_df = pd.merge(\n",
    "    count_df, unique_df, on=\"party_code\", how=\"inner\"\n",
    ")\n",
    "\n",
    "# Sort merged_df by 'count' and 'party_code'\n",
    "sorted_merged_df = merged_df.sort_values(\n",
    "    by=[\"count\", \"party_code\"], ascending=[False, True]\n",
    ").reset_index(drop=True)\n",
    "\n",
    "sorted_merged_df"
   ]
  },
  {
   "cell_type": "markdown",
   "metadata": {},
   "source": [
    "### Group parties by name"
   ]
  },
  {
   "cell_type": "code",
   "execution_count": 22,
   "metadata": {},
   "outputs": [
    {
     "data": {
      "text/plain": [
       "617"
      ]
     },
     "execution_count": 22,
     "metadata": {},
     "output_type": "execute_result"
    }
   ],
   "source": [
    "# Show the number of unique parties by name\n",
    "candidatures_name = len(df['party_name'].unique())\n",
    "candidatures_name"
   ]
  },
  {
   "cell_type": "markdown",
   "metadata": {},
   "source": [
    "### Group parties by acronym"
   ]
  },
  {
   "cell_type": "code",
   "execution_count": 23,
   "metadata": {},
   "outputs": [
    {
     "data": {
      "text/plain": [
       "548"
      ]
     },
     "execution_count": 23,
     "metadata": {},
     "output_type": "execute_result"
    }
   ],
   "source": [
    "# Show the number of unique parties by acronym\n",
    "candidatures_acronym = len(df['party_abbr'].unique())\n",
    "candidatures_acronym"
   ]
  },
  {
   "cell_type": "markdown",
   "metadata": {},
   "source": [
    "## Candidatures statistics"
   ]
  },
  {
   "cell_type": "markdown",
   "metadata": {},
   "source": [
    "### Plot votes by candidature"
   ]
  },
  {
   "cell_type": "markdown",
   "metadata": {},
   "source": [
    "### Plot seats by candidature"
   ]
  },
  {
   "cell_type": "markdown",
   "metadata": {},
   "source": [
    "##"
   ]
  },
  {
   "cell_type": "markdown",
   "metadata": {},
   "source": [
    "## Region statistics"
   ]
  },
  {
   "cell_type": "markdown",
   "metadata": {},
   "source": [
    "### Plot votes by region"
   ]
  },
  {
   "cell_type": "markdown",
   "metadata": {},
   "source": [
    "### Plot seats by region"
   ]
  },
  {
   "cell_type": "markdown",
   "metadata": {},
   "source": [
    "### Plot number of tables by region"
   ]
  }
 ],
 "metadata": {
  "kernelspec": {
   "display_name": ".venv",
   "language": "python",
   "name": "python3"
  },
  "language_info": {
   "codemirror_mode": {
    "name": "ipython",
    "version": 3
   },
   "file_extension": ".py",
   "mimetype": "text/x-python",
   "name": "python",
   "nbconvert_exporter": "python",
   "pygments_lexer": "ipython3",
   "version": "3.11.2"
  }
 },
 "nbformat": 4,
 "nbformat_minor": 2
}
