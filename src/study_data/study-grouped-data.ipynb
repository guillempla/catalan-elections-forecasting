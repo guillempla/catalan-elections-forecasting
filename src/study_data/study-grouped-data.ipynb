{
 "cells": [
  {
   "cell_type": "markdown",
   "metadata": {},
   "source": [
    "# Study Grouped Catalan Elections Dataset"
   ]
  },
  {
   "cell_type": "markdown",
   "metadata": {},
   "source": [
    "Load libraries:"
   ]
  },
  {
   "cell_type": "code",
   "execution_count": 1,
   "metadata": {},
   "outputs": [],
   "source": [
    "import pandas as pd\n",
    "import pprint\n",
    "import matplotlib.pyplot as plt\n",
    "import seaborn as sns\n",
    "import numpy as np\n",
    "import textdistance\n",
    "from tqdm import tqdm\n",
    "from unidecode import unidecode\n",
    "import logging\n",
    "\n",
    "pp = pprint.PrettyPrinter(indent=2)\n",
    "\n",
    "logging.basicConfig(\n",
    "    level=logging.INFO,\n",
    "    format=\"%(asctime)s - %(levelname)s - %(message)s\",\n",
    "    datefmt=\"%Y-%m-%d %H:%M:%S\",\n",
    ")"
   ]
  },
  {
   "cell_type": "markdown",
   "metadata": {},
   "source": [
    "Load the clean dataset:"
   ]
  },
  {
   "cell_type": "code",
   "execution_count": 2,
   "metadata": {},
   "outputs": [],
   "source": [
    "df = pd.read_pickle('../../data/processed/catalan-elections-grouped-data.pkl')\n",
    "df_original = df.copy()"
   ]
  },
  {
   "cell_type": "markdown",
   "metadata": {},
   "source": [
    "## Dataset Structure "
   ]
  },
  {
   "cell_type": "markdown",
   "metadata": {},
   "source": [
    "Visualize the structure of the dataset:"
   ]
  },
  {
   "cell_type": "code",
   "execution_count": 3,
   "metadata": {},
   "outputs": [
    {
     "name": "stdout",
     "output_type": "stream",
     "text": [
      "<class 'pandas.core.frame.DataFrame'>\n",
      "RangeIndex: 12339340 entries, 0 to 12339339\n",
      "Data columns (total 24 columns):\n",
      " #   Column                  Dtype         \n",
      "---  ------                  -----         \n",
      " 0   index_autonumeric       int64         \n",
      " 1   nom_eleccio             object        \n",
      " 2   id_nivell_territorial   object        \n",
      " 3   nom_nivell_territorial  object        \n",
      " 4   territori_codi          object        \n",
      " 5   territori_nom           object        \n",
      " 6   seccio                  Int64         \n",
      " 7   vots                    int32         \n",
      " 8   escons                  float64       \n",
      " 9   districte               Int64         \n",
      " 10  mesa                    object        \n",
      " 11  party_code              int32         \n",
      " 12  party_name              object        \n",
      " 13  party_abbr              object        \n",
      " 14  party_color             object        \n",
      " 15  clean_party_name        object        \n",
      " 16  clean_party_abbr        object        \n",
      " 17  type                    object        \n",
      " 18  year                    int32         \n",
      " 19  round                   object        \n",
      " 20  month                   int32         \n",
      " 21  day                     int32         \n",
      " 22  date                    datetime64[ns]\n",
      " 23  joined_code             object        \n",
      "dtypes: Int64(2), datetime64[ns](1), float64(1), int32(5), int64(1), object(14)\n",
      "memory usage: 2.0+ GB\n"
     ]
    }
   ],
   "source": [
    "df.info()"
   ]
  },
  {
   "cell_type": "markdown",
   "metadata": {},
   "source": [
    "First of all, we want to check that for every section in an election there aren't any repeaded ``party_codes``:"
   ]
  },
  {
   "cell_type": "code",
   "execution_count": 4,
   "metadata": {},
   "outputs": [],
   "source": [
    "def check_duplicated_party_codes(df):\n",
    "    def has_duplicates(group):\n",
    "        duplicated = group[\"party_code\"].duplicated(keep=False)\n",
    "        if duplicated.any():\n",
    "            return pd.Series(\n",
    "                {\n",
    "                    \"party_code\": group.loc[duplicated, \"party_code\"].unique().tolist(),\n",
    "                    \"party_name\": group.loc[duplicated, \"party_name\"].unique().tolist(),\n",
    "                }\n",
    "            )\n",
    "\n",
    "    duplicates = df.groupby(\n",
    "        [\"nom_eleccio\", \"seccio\", \"districte\", \"territori_codi\"]\n",
    "    ).apply(has_duplicates)\n",
    "    return duplicates.dropna()\n",
    "\n",
    "\n",
    "duplicated_party_codes = check_duplicated_party_codes(df)"
   ]
  },
  {
   "cell_type": "code",
   "execution_count": 5,
   "metadata": {},
   "outputs": [
    {
     "data": {
      "text/html": [
       "<div>\n",
       "<style scoped>\n",
       "    .dataframe tbody tr th:only-of-type {\n",
       "        vertical-align: middle;\n",
       "    }\n",
       "\n",
       "    .dataframe tbody tr th {\n",
       "        vertical-align: top;\n",
       "    }\n",
       "\n",
       "    .dataframe thead th {\n",
       "        text-align: right;\n",
       "    }\n",
       "</style>\n",
       "<table border=\"1\" class=\"dataframe\">\n",
       "  <thead>\n",
       "    <tr style=\"text-align: right;\">\n",
       "      <th></th>\n",
       "      <th></th>\n",
       "      <th></th>\n",
       "      <th></th>\n",
       "      <th>party_code</th>\n",
       "      <th>party_name</th>\n",
       "    </tr>\n",
       "    <tr>\n",
       "      <th>nom_eleccio</th>\n",
       "      <th>seccio</th>\n",
       "      <th>districte</th>\n",
       "      <th>territori_codi</th>\n",
       "      <th></th>\n",
       "      <th></th>\n",
       "    </tr>\n",
       "  </thead>\n",
       "  <tbody>\n",
       "    <tr>\n",
       "      <th rowspan=\"5\" valign=\"top\">Eleccions Municipals 1979</th>\n",
       "      <th rowspan=\"5\" valign=\"top\">0</th>\n",
       "      <th>1</th>\n",
       "      <th>8019</th>\n",
       "      <td>[3000000]</td>\n",
       "      <td>[Altres partits]</td>\n",
       "    </tr>\n",
       "    <tr>\n",
       "      <th>2</th>\n",
       "      <th>8019</th>\n",
       "      <td>[3000000]</td>\n",
       "      <td>[Altres partits]</td>\n",
       "    </tr>\n",
       "    <tr>\n",
       "      <th>3</th>\n",
       "      <th>8019</th>\n",
       "      <td>[3000000]</td>\n",
       "      <td>[Altres partits]</td>\n",
       "    </tr>\n",
       "    <tr>\n",
       "      <th>4</th>\n",
       "      <th>8019</th>\n",
       "      <td>[3000000]</td>\n",
       "      <td>[Altres partits]</td>\n",
       "    </tr>\n",
       "    <tr>\n",
       "      <th>5</th>\n",
       "      <th>8019</th>\n",
       "      <td>[3000000]</td>\n",
       "      <td>[Altres partits]</td>\n",
       "    </tr>\n",
       "    <tr>\n",
       "      <th>...</th>\n",
       "      <th>...</th>\n",
       "      <th>...</th>\n",
       "      <th>...</th>\n",
       "      <td>...</td>\n",
       "      <td>...</td>\n",
       "    </tr>\n",
       "    <tr>\n",
       "      <th rowspan=\"5\" valign=\"top\">Eleccions al Parlament de Catalunya 2021</th>\n",
       "      <th>215</th>\n",
       "      <th>8</th>\n",
       "      <th>8019</th>\n",
       "      <td>[6, 10, 86, 301, 546, 693, 1034, 1035, 1083, 1...</td>\n",
       "      <td>[Partit dels Socialistes de Catalunya (PSC-PSO...</td>\n",
       "    </tr>\n",
       "    <tr>\n",
       "      <th rowspan=\"2\" valign=\"top\">234</th>\n",
       "      <th rowspan=\"2\" valign=\"top\">10</th>\n",
       "      <th>8019</th>\n",
       "      <td>[6, 10, 301, 546, 693, 1034, 1035, 1083, 1097,...</td>\n",
       "      <td>[Partit dels Socialistes de Catalunya (PSC-PSO...</td>\n",
       "    </tr>\n",
       "    <tr>\n",
       "      <th>08019</th>\n",
       "      <td>[86]</td>\n",
       "      <td>[Partit Popular]</td>\n",
       "    </tr>\n",
       "    <tr>\n",
       "      <th>235</th>\n",
       "      <th>10</th>\n",
       "      <th>8019</th>\n",
       "      <td>[6, 10, 86, 301, 546, 693, 1034, 1035, 1083, 1...</td>\n",
       "      <td>[Partit dels Socialistes de Catalunya (PSC-PSO...</td>\n",
       "    </tr>\n",
       "    <tr>\n",
       "      <th>236</th>\n",
       "      <th>10</th>\n",
       "      <th>8019</th>\n",
       "      <td>[6, 10, 86, 301, 546, 693, 1034, 1035, 1083, 1...</td>\n",
       "      <td>[Partit dels Socialistes de Catalunya (PSC-PSO...</td>\n",
       "    </tr>\n",
       "  </tbody>\n",
       "</table>\n",
       "<p>216289 rows × 2 columns</p>\n",
       "</div>"
      ],
      "text/plain": [
       "                                                                                                                 party_code  \\\n",
       "nom_eleccio                              seccio districte territori_codi                                                      \n",
       "Eleccions Municipals 1979                0      1         8019                                                    [3000000]   \n",
       "                                                2         8019                                                    [3000000]   \n",
       "                                                3         8019                                                    [3000000]   \n",
       "                                                4         8019                                                    [3000000]   \n",
       "                                                5         8019                                                    [3000000]   \n",
       "...                                                                                                                     ...   \n",
       "Eleccions al Parlament de Catalunya 2021 215    8         8019            [6, 10, 86, 301, 546, 693, 1034, 1035, 1083, 1...   \n",
       "                                         234    10        8019            [6, 10, 301, 546, 693, 1034, 1035, 1083, 1097,...   \n",
       "                                                          08019                                                        [86]   \n",
       "                                         235    10        8019            [6, 10, 86, 301, 546, 693, 1034, 1035, 1083, 1...   \n",
       "                                         236    10        8019            [6, 10, 86, 301, 546, 693, 1034, 1035, 1083, 1...   \n",
       "\n",
       "                                                                                                                 party_name  \n",
       "nom_eleccio                              seccio districte territori_codi                                                     \n",
       "Eleccions Municipals 1979                0      1         8019                                             [Altres partits]  \n",
       "                                                2         8019                                             [Altres partits]  \n",
       "                                                3         8019                                             [Altres partits]  \n",
       "                                                4         8019                                             [Altres partits]  \n",
       "                                                5         8019                                             [Altres partits]  \n",
       "...                                                                                                                     ...  \n",
       "Eleccions al Parlament de Catalunya 2021 215    8         8019            [Partit dels Socialistes de Catalunya (PSC-PSO...  \n",
       "                                         234    10        8019            [Partit dels Socialistes de Catalunya (PSC-PSO...  \n",
       "                                                          08019                                            [Partit Popular]  \n",
       "                                         235    10        8019            [Partit dels Socialistes de Catalunya (PSC-PSO...  \n",
       "                                         236    10        8019            [Partit dels Socialistes de Catalunya (PSC-PSO...  \n",
       "\n",
       "[216289 rows x 2 columns]"
      ]
     },
     "execution_count": 5,
     "metadata": {},
     "output_type": "execute_result"
    }
   ],
   "source": [
    "duplicated_party_codes"
   ]
  },
  {
   "cell_type": "code",
   "execution_count": 6,
   "metadata": {},
   "outputs": [
    {
     "name": "stdout",
     "output_type": "stream",
     "text": [
      "Partit dels Socialistes de Catalunya (PSC-PSOE)    165004\n",
      "Convergència i Unió                                154943\n",
      "Partit Popular                                     151254\n",
      "Esquerra Republicana de Catalunya                  105437\n",
      "Falange Española de las J.O.N.S.                    74060\n",
      "                                                    ...  \n",
      "Independents per Cava                                   1\n",
      "Independents per La Vall de Boi                         1\n",
      "Tria per Vallfogona                                     1\n",
      "ARA TALARN                                              1\n",
      "La Llista - Agullana l’ Estrada                         1\n",
      "Name: count, Length: 870, dtype: int64\n"
     ]
    }
   ],
   "source": [
    "# Join all lists of party codes and names into one list\n",
    "# all_party_codes = duplicated_party_codes['party_code'].sum()\n",
    "all_party_names = duplicated_party_codes['party_name'].sum()\n",
    "\n",
    "# Count the number of times each party code appears\n",
    "# party_code_counts = pd.Series(all_party_codes).value_counts()\n",
    "\n",
    "# Count the number of times each party name appears\n",
    "party_name_counts = pd.Series(all_party_names).value_counts()\n",
    "\n",
    "# print(party_code_counts)\n",
    "print(party_name_counts)"
   ]
  }
 ],
 "metadata": {
  "kernelspec": {
   "display_name": ".venv",
   "language": "python",
   "name": "python3"
  },
  "language_info": {
   "codemirror_mode": {
    "name": "ipython",
    "version": 3
   },
   "file_extension": ".py",
   "mimetype": "text/x-python",
   "name": "python",
   "nbconvert_exporter": "python",
   "pygments_lexer": "ipython3",
   "version": "3.11.2"
  }
 },
 "nbformat": 4,
 "nbformat_minor": 2
}
