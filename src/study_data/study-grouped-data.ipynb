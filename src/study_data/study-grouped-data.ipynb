{
 "cells": [
  {
   "cell_type": "markdown",
   "metadata": {},
   "source": [
    "# Study Grouped Catalan Elections Dataset"
   ]
  },
  {
   "cell_type": "markdown",
   "metadata": {},
   "source": [
    "Load libraries:"
   ]
  },
  {
   "cell_type": "code",
   "execution_count": 1,
   "metadata": {},
   "outputs": [],
   "source": [
    "import pandas as pd\n",
    "import pprint\n",
    "import logging\n",
    "\n",
    "pp = pprint.PrettyPrinter(indent=2)\n",
    "\n",
    "logging.basicConfig(\n",
    "    level=logging.INFO,\n",
    "    format=\"%(asctime)s - %(levelname)s - %(message)s\",\n",
    "    datefmt=\"%Y-%m-%d %H:%M:%S\",\n",
    ")"
   ]
  },
  {
   "cell_type": "markdown",
   "metadata": {},
   "source": [
    "Load the clean dataset:"
   ]
  },
  {
   "cell_type": "code",
   "execution_count": 2,
   "metadata": {},
   "outputs": [],
   "source": [
    "df = pd.read_pickle('../../data/processed/catalan-elections-grouped-data.pkl')\n",
    "# df_original = df.copy()"
   ]
  },
  {
   "cell_type": "markdown",
   "metadata": {},
   "source": [
    "## Dataset Structure "
   ]
  },
  {
   "cell_type": "markdown",
   "metadata": {},
   "source": [
    "Visualize the structure of the dataset:"
   ]
  },
  {
   "cell_type": "code",
   "execution_count": 3,
   "metadata": {},
   "outputs": [
    {
     "name": "stdout",
     "output_type": "stream",
     "text": [
      "<class 'pandas.core.frame.DataFrame'>\n",
      "RangeIndex: 4273269 entries, 0 to 4273268\n",
      "Data columns (total 32 columns):\n",
      " #   Column                  Dtype         \n",
      "---  ------                  -----         \n",
      " 0   index_autonumeric       Int64         \n",
      " 1   id_eleccio              string        \n",
      " 2   nom_eleccio             string        \n",
      " 3   id_nivell_territorial   string        \n",
      " 4   nom_nivell_territorial  string        \n",
      " 5   territori_codi          string        \n",
      " 6   territori_nom           string        \n",
      " 7   seccio                  int32         \n",
      " 8   vots                    int32         \n",
      " 9   escons                  Int64         \n",
      " 10  districte               int32         \n",
      " 11  mesa                    string        \n",
      " 12  type                    string        \n",
      " 13  year                    int32         \n",
      " 14  round                   string        \n",
      " 15  party_code              int32         \n",
      " 16  party_name              object        \n",
      " 17  party_abbr              object        \n",
      " 18  party_color             string        \n",
      " 19  clean_party_name        object        \n",
      " 20  clean_party_abbr        object        \n",
      " 21  mundissec               object        \n",
      " 22  month                   int32         \n",
      " 23  day                     int32         \n",
      " 24  date                    datetime64[ns]\n",
      " 25  cens_electoral          Int64         \n",
      " 26  vots_valids             Int64         \n",
      " 27  vots_blancs             Int64         \n",
      " 28  vots_nuls               Int64         \n",
      " 29  votants                 float64       \n",
      " 30  valid_votes_percentage  Float64       \n",
      " 31  joined_code             float64       \n",
      "dtypes: Float64(1), Int64(6), datetime64[ns](1), float64(2), int32(7), object(5), string(10)\n",
      "memory usage: 957.7+ MB\n"
     ]
    }
   ],
   "source": [
    "df.info()"
   ]
  },
  {
   "cell_type": "code",
   "execution_count": 4,
   "metadata": {},
   "outputs": [
    {
     "data": {
      "text/html": [
       "<div>\n",
       "<style scoped>\n",
       "    .dataframe tbody tr th:only-of-type {\n",
       "        vertical-align: middle;\n",
       "    }\n",
       "\n",
       "    .dataframe tbody tr th {\n",
       "        vertical-align: top;\n",
       "    }\n",
       "\n",
       "    .dataframe thead th {\n",
       "        text-align: right;\n",
       "    }\n",
       "</style>\n",
       "<table border=\"1\" class=\"dataframe\">\n",
       "  <thead>\n",
       "    <tr style=\"text-align: right;\">\n",
       "      <th></th>\n",
       "      <th>index_autonumeric</th>\n",
       "      <th>id_eleccio</th>\n",
       "      <th>nom_eleccio</th>\n",
       "      <th>id_nivell_territorial</th>\n",
       "      <th>nom_nivell_territorial</th>\n",
       "      <th>territori_codi</th>\n",
       "      <th>territori_nom</th>\n",
       "      <th>seccio</th>\n",
       "      <th>vots</th>\n",
       "      <th>escons</th>\n",
       "      <th>...</th>\n",
       "      <th>month</th>\n",
       "      <th>day</th>\n",
       "      <th>date</th>\n",
       "      <th>cens_electoral</th>\n",
       "      <th>vots_valids</th>\n",
       "      <th>vots_blancs</th>\n",
       "      <th>vots_nuls</th>\n",
       "      <th>votants</th>\n",
       "      <th>valid_votes_percentage</th>\n",
       "      <th>joined_code</th>\n",
       "    </tr>\n",
       "  </thead>\n",
       "  <tbody>\n",
       "    <tr>\n",
       "      <th>0</th>\n",
       "      <td>117342</td>\n",
       "      <td>A19801</td>\n",
       "      <td>Eleccions al Parlament de Catalunya 1980</td>\n",
       "      <td>SE</td>\n",
       "      <td>Secció</td>\n",
       "      <td>08001</td>\n",
       "      <td>Abrera</td>\n",
       "      <td>1</td>\n",
       "      <td>2</td>\n",
       "      <td>0</td>\n",
       "      <td>...</td>\n",
       "      <td>3</td>\n",
       "      <td>20</td>\n",
       "      <td>1980-03-20</td>\n",
       "      <td>2302</td>\n",
       "      <td>1619</td>\n",
       "      <td>10</td>\n",
       "      <td>8</td>\n",
       "      <td>1627.0</td>\n",
       "      <td>0.123533</td>\n",
       "      <td>1.0</td>\n",
       "    </tr>\n",
       "    <tr>\n",
       "      <th>1</th>\n",
       "      <td>117343</td>\n",
       "      <td>A19801</td>\n",
       "      <td>Eleccions al Parlament de Catalunya 1980</td>\n",
       "      <td>SE</td>\n",
       "      <td>Secció</td>\n",
       "      <td>08001</td>\n",
       "      <td>Abrera</td>\n",
       "      <td>1</td>\n",
       "      <td>389</td>\n",
       "      <td>0</td>\n",
       "      <td>...</td>\n",
       "      <td>3</td>\n",
       "      <td>20</td>\n",
       "      <td>1980-03-20</td>\n",
       "      <td>2302</td>\n",
       "      <td>1619</td>\n",
       "      <td>10</td>\n",
       "      <td>8</td>\n",
       "      <td>1627.0</td>\n",
       "      <td>24.027177</td>\n",
       "      <td>4.0</td>\n",
       "    </tr>\n",
       "    <tr>\n",
       "      <th>2</th>\n",
       "      <td>117344</td>\n",
       "      <td>A19801</td>\n",
       "      <td>Eleccions al Parlament de Catalunya 1980</td>\n",
       "      <td>SE</td>\n",
       "      <td>Secció</td>\n",
       "      <td>08001</td>\n",
       "      <td>Abrera</td>\n",
       "      <td>1</td>\n",
       "      <td>407</td>\n",
       "      <td>0</td>\n",
       "      <td>...</td>\n",
       "      <td>3</td>\n",
       "      <td>20</td>\n",
       "      <td>1980-03-20</td>\n",
       "      <td>2302</td>\n",
       "      <td>1619</td>\n",
       "      <td>10</td>\n",
       "      <td>8</td>\n",
       "      <td>1627.0</td>\n",
       "      <td>25.138975</td>\n",
       "      <td>6.0</td>\n",
       "    </tr>\n",
       "    <tr>\n",
       "      <th>3</th>\n",
       "      <td>117345</td>\n",
       "      <td>A19801</td>\n",
       "      <td>Eleccions al Parlament de Catalunya 1980</td>\n",
       "      <td>SE</td>\n",
       "      <td>Secció</td>\n",
       "      <td>08001</td>\n",
       "      <td>Abrera</td>\n",
       "      <td>1</td>\n",
       "      <td>7</td>\n",
       "      <td>0</td>\n",
       "      <td>...</td>\n",
       "      <td>3</td>\n",
       "      <td>20</td>\n",
       "      <td>1980-03-20</td>\n",
       "      <td>2302</td>\n",
       "      <td>1619</td>\n",
       "      <td>10</td>\n",
       "      <td>8</td>\n",
       "      <td>1627.0</td>\n",
       "      <td>0.432366</td>\n",
       "      <td>8.0</td>\n",
       "    </tr>\n",
       "    <tr>\n",
       "      <th>4</th>\n",
       "      <td>117346</td>\n",
       "      <td>A19801</td>\n",
       "      <td>Eleccions al Parlament de Catalunya 1980</td>\n",
       "      <td>SE</td>\n",
       "      <td>Secció</td>\n",
       "      <td>08001</td>\n",
       "      <td>Abrera</td>\n",
       "      <td>1</td>\n",
       "      <td>81</td>\n",
       "      <td>0</td>\n",
       "      <td>...</td>\n",
       "      <td>3</td>\n",
       "      <td>20</td>\n",
       "      <td>1980-03-20</td>\n",
       "      <td>2302</td>\n",
       "      <td>1619</td>\n",
       "      <td>10</td>\n",
       "      <td>8</td>\n",
       "      <td>1627.0</td>\n",
       "      <td>5.003088</td>\n",
       "      <td>10.0</td>\n",
       "    </tr>\n",
       "  </tbody>\n",
       "</table>\n",
       "<p>5 rows × 32 columns</p>\n",
       "</div>"
      ],
      "text/plain": [
       "   index_autonumeric id_eleccio                               nom_eleccio  \\\n",
       "0             117342     A19801  Eleccions al Parlament de Catalunya 1980   \n",
       "1             117343     A19801  Eleccions al Parlament de Catalunya 1980   \n",
       "2             117344     A19801  Eleccions al Parlament de Catalunya 1980   \n",
       "3             117345     A19801  Eleccions al Parlament de Catalunya 1980   \n",
       "4             117346     A19801  Eleccions al Parlament de Catalunya 1980   \n",
       "\n",
       "  id_nivell_territorial nom_nivell_territorial territori_codi territori_nom  \\\n",
       "0                    SE                 Secció          08001        Abrera   \n",
       "1                    SE                 Secció          08001        Abrera   \n",
       "2                    SE                 Secció          08001        Abrera   \n",
       "3                    SE                 Secció          08001        Abrera   \n",
       "4                    SE                 Secció          08001        Abrera   \n",
       "\n",
       "   seccio  vots  escons  ...  month day       date  cens_electoral  \\\n",
       "0       1     2       0  ...      3  20 1980-03-20            2302   \n",
       "1       1   389       0  ...      3  20 1980-03-20            2302   \n",
       "2       1   407       0  ...      3  20 1980-03-20            2302   \n",
       "3       1     7       0  ...      3  20 1980-03-20            2302   \n",
       "4       1    81       0  ...      3  20 1980-03-20            2302   \n",
       "\n",
       "  vots_valids  vots_blancs vots_nuls votants valid_votes_percentage  \\\n",
       "0        1619           10         8  1627.0               0.123533   \n",
       "1        1619           10         8  1627.0              24.027177   \n",
       "2        1619           10         8  1627.0              25.138975   \n",
       "3        1619           10         8  1627.0               0.432366   \n",
       "4        1619           10         8  1627.0               5.003088   \n",
       "\n",
       "  joined_code  \n",
       "0         1.0  \n",
       "1         4.0  \n",
       "2         6.0  \n",
       "3         8.0  \n",
       "4        10.0  \n",
       "\n",
       "[5 rows x 32 columns]"
      ]
     },
     "execution_count": 4,
     "metadata": {},
     "output_type": "execute_result"
    }
   ],
   "source": [
    "df.head()"
   ]
  },
  {
   "cell_type": "code",
   "execution_count": 5,
   "metadata": {},
   "outputs": [
    {
     "data": {
      "text/plain": [
       "902"
      ]
     },
     "execution_count": 5,
     "metadata": {},
     "output_type": "execute_result"
    }
   ],
   "source": [
    "len(df[\"party_code\"].unique())"
   ]
  },
  {
   "cell_type": "code",
   "execution_count": 6,
   "metadata": {},
   "outputs": [
    {
     "data": {
      "text/plain": [
       "686"
      ]
     },
     "execution_count": 6,
     "metadata": {},
     "output_type": "execute_result"
    }
   ],
   "source": [
    "len(df[\"joined_code\"].unique())"
   ]
  },
  {
   "cell_type": "code",
   "execution_count": 7,
   "metadata": {},
   "outputs": [
    {
     "data": {
      "text/plain": [
       "False"
      ]
     },
     "execution_count": 7,
     "metadata": {},
     "output_type": "execute_result"
    }
   ],
   "source": [
    "all(df['party_code'] == df['joined_code'])"
   ]
  },
  {
   "cell_type": "markdown",
   "metadata": {},
   "source": [
    "First of all, we want to check that for every section in an election there aren't any repeaded ``party_codes``:"
   ]
  },
  {
   "cell_type": "code",
   "execution_count": 8,
   "metadata": {},
   "outputs": [
    {
     "data": {
      "text/html": [
       "<div>\n",
       "<style scoped>\n",
       "    .dataframe tbody tr th:only-of-type {\n",
       "        vertical-align: middle;\n",
       "    }\n",
       "\n",
       "    .dataframe tbody tr th {\n",
       "        vertical-align: top;\n",
       "    }\n",
       "\n",
       "    .dataframe thead th {\n",
       "        text-align: right;\n",
       "    }\n",
       "</style>\n",
       "<table border=\"1\" class=\"dataframe\">\n",
       "  <thead>\n",
       "    <tr style=\"text-align: right;\">\n",
       "      <th></th>\n",
       "      <th>nom_eleccio</th>\n",
       "      <th>mundissec</th>\n",
       "      <th>party_code</th>\n",
       "      <th>party_name</th>\n",
       "      <th>vots</th>\n",
       "      <th>valid_votes_percentage</th>\n",
       "    </tr>\n",
       "  </thead>\n",
       "  <tbody>\n",
       "    <tr>\n",
       "      <th>3766883</th>\n",
       "      <td>Eleccions Municipals 1979</td>\n",
       "      <td>08019301001</td>\n",
       "      <td>3000000</td>\n",
       "      <td>Altres partits</td>\n",
       "      <td>52</td>\n",
       "      <td>6.161137</td>\n",
       "    </tr>\n",
       "    <tr>\n",
       "      <th>3766884</th>\n",
       "      <td>Eleccions Municipals 1979</td>\n",
       "      <td>08019301001</td>\n",
       "      <td>3000000</td>\n",
       "      <td>Altres partits</td>\n",
       "      <td>0</td>\n",
       "      <td>0.0</td>\n",
       "    </tr>\n",
       "    <tr>\n",
       "      <th>3766891</th>\n",
       "      <td>Eleccions Municipals 1979</td>\n",
       "      <td>08019301001</td>\n",
       "      <td>3000000</td>\n",
       "      <td>Altres partits</td>\n",
       "      <td>0</td>\n",
       "      <td>0.0</td>\n",
       "    </tr>\n",
       "    <tr>\n",
       "      <th>3766898</th>\n",
       "      <td>Eleccions Municipals 1979</td>\n",
       "      <td>08019301002</td>\n",
       "      <td>3000000</td>\n",
       "      <td>Altres partits</td>\n",
       "      <td>52</td>\n",
       "      <td>8.666667</td>\n",
       "    </tr>\n",
       "    <tr>\n",
       "      <th>3766899</th>\n",
       "      <td>Eleccions Municipals 1979</td>\n",
       "      <td>08019301002</td>\n",
       "      <td>3000000</td>\n",
       "      <td>Altres partits</td>\n",
       "      <td>0</td>\n",
       "      <td>0.0</td>\n",
       "    </tr>\n",
       "    <tr>\n",
       "      <th>...</th>\n",
       "      <td>...</td>\n",
       "      <td>...</td>\n",
       "      <td>...</td>\n",
       "      <td>...</td>\n",
       "      <td>...</td>\n",
       "      <td>...</td>\n",
       "    </tr>\n",
       "    <tr>\n",
       "      <th>4251885</th>\n",
       "      <td>Eleccions Municipals 2019</td>\n",
       "      <td>08171201001</td>\n",
       "      <td>201924111</td>\n",
       "      <td>AAE OSONA</td>\n",
       "      <td>69</td>\n",
       "      <td>8.961039</td>\n",
       "    </tr>\n",
       "    <tr>\n",
       "      <th>4251888</th>\n",
       "      <td>Eleccions Municipals 2019</td>\n",
       "      <td>08171201002</td>\n",
       "      <td>201924111</td>\n",
       "      <td>AAE OSONA</td>\n",
       "      <td>175</td>\n",
       "      <td>20.2781</td>\n",
       "    </tr>\n",
       "    <tr>\n",
       "      <th>4251889</th>\n",
       "      <td>Eleccions Municipals 2019</td>\n",
       "      <td>08171201002</td>\n",
       "      <td>201924111</td>\n",
       "      <td>AAE OSONA</td>\n",
       "      <td>69</td>\n",
       "      <td>7.995365</td>\n",
       "    </tr>\n",
       "    <tr>\n",
       "      <th>4258938</th>\n",
       "      <td>Eleccions Municipals 2019</td>\n",
       "      <td>082461001001</td>\n",
       "      <td>201924111</td>\n",
       "      <td>AAE OSONA</td>\n",
       "      <td>132</td>\n",
       "      <td>10.099464</td>\n",
       "    </tr>\n",
       "    <tr>\n",
       "      <th>4258939</th>\n",
       "      <td>Eleccions Municipals 2019</td>\n",
       "      <td>082461001001</td>\n",
       "      <td>201924111</td>\n",
       "      <td>AAE OSONA</td>\n",
       "      <td>208</td>\n",
       "      <td>15.914308</td>\n",
       "    </tr>\n",
       "  </tbody>\n",
       "</table>\n",
       "<p>153165 rows × 6 columns</p>\n",
       "</div>"
      ],
      "text/plain": [
       "                       nom_eleccio     mundissec  party_code      party_name  \\\n",
       "3766883  Eleccions Municipals 1979   08019301001     3000000  Altres partits   \n",
       "3766884  Eleccions Municipals 1979   08019301001     3000000  Altres partits   \n",
       "3766891  Eleccions Municipals 1979   08019301001     3000000  Altres partits   \n",
       "3766898  Eleccions Municipals 1979   08019301002     3000000  Altres partits   \n",
       "3766899  Eleccions Municipals 1979   08019301002     3000000  Altres partits   \n",
       "...                            ...           ...         ...             ...   \n",
       "4251885  Eleccions Municipals 2019   08171201001   201924111       AAE OSONA   \n",
       "4251888  Eleccions Municipals 2019   08171201002   201924111       AAE OSONA   \n",
       "4251889  Eleccions Municipals 2019   08171201002   201924111       AAE OSONA   \n",
       "4258938  Eleccions Municipals 2019  082461001001   201924111       AAE OSONA   \n",
       "4258939  Eleccions Municipals 2019  082461001001   201924111       AAE OSONA   \n",
       "\n",
       "         vots  valid_votes_percentage  \n",
       "3766883    52                6.161137  \n",
       "3766884     0                     0.0  \n",
       "3766891     0                     0.0  \n",
       "3766898    52                8.666667  \n",
       "3766899     0                     0.0  \n",
       "...       ...                     ...  \n",
       "4251885    69                8.961039  \n",
       "4251888   175                 20.2781  \n",
       "4251889    69                7.995365  \n",
       "4258938   132               10.099464  \n",
       "4258939   208               15.914308  \n",
       "\n",
       "[153165 rows x 6 columns]"
      ]
     },
     "execution_count": 8,
     "metadata": {},
     "output_type": "execute_result"
    }
   ],
   "source": [
    "duplicated_party_codes = df[\n",
    "    df.duplicated(subset=[\"mundissec\", \"party_code\", \"nom_eleccio\"], keep=False)\n",
    "][[\"nom_eleccio\", \"mundissec\", \"party_code\", \"party_name\", \"vots\", \"valid_votes_percentage\"]]\n",
    "\n",
    "duplicated_party_codes"
   ]
  },
  {
   "cell_type": "code",
   "execution_count": 9,
   "metadata": {},
   "outputs": [
    {
     "data": {
      "text/plain": [
       "array(['Altres partits', 'Independents', 'AAE OSONA'], dtype=object)"
      ]
     },
     "execution_count": 9,
     "metadata": {},
     "output_type": "execute_result"
    }
   ],
   "source": [
    "duplicated_party_codes[\"party_name\"].unique()"
   ]
  }
 ],
 "metadata": {
  "kernelspec": {
   "display_name": ".venv",
   "language": "python",
   "name": "python3"
  },
  "language_info": {
   "codemirror_mode": {
    "name": "ipython",
    "version": 3
   },
   "file_extension": ".py",
   "mimetype": "text/x-python",
   "name": "python",
   "nbconvert_exporter": "python",
   "pygments_lexer": "ipython3",
   "version": "3.11.2"
  }
 },
 "nbformat": 4,
 "nbformat_minor": 2
}
