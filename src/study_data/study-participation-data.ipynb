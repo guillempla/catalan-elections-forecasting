{
 "cells": [
  {
   "cell_type": "markdown",
   "metadata": {},
   "source": [
    "# Study Catalan Elections Participation Dataset"
   ]
  },
  {
   "cell_type": "markdown",
   "metadata": {},
   "source": [
    "Load libraries:"
   ]
  },
  {
   "cell_type": "code",
   "execution_count": 1,
   "metadata": {},
   "outputs": [],
   "source": [
    "import pandas as pd\n",
    "import pprint\n",
    "import matplotlib.pyplot as plt\n",
    "import seaborn as sns\n",
    "import numpy as np\n",
    "import logging\n",
    "from unidecode import unidecode\n",
    "\n",
    "pp = pprint.PrettyPrinter(indent=2)\n",
    "\n",
    "logging.basicConfig(\n",
    "    level=logging.INFO,\n",
    "    format=\"%(asctime)s - %(levelname)s - %(message)s\",\n",
    "    datefmt=\"%Y-%m-%d %H:%M:%S\",\n",
    ")"
   ]
  },
  {
   "cell_type": "markdown",
   "metadata": {},
   "source": [
    "Load the dataset:"
   ]
  },
  {
   "cell_type": "code",
   "execution_count": 2,
   "metadata": {},
   "outputs": [],
   "source": [
    "df = pd.read_pickle('../../data/raw/catalan-elections-participation.pkl')\n",
    "df_original = df.copy()"
   ]
  },
  {
   "cell_type": "markdown",
   "metadata": {},
   "source": [
    "## Dataset Structure"
   ]
  },
  {
   "cell_type": "markdown",
   "metadata": {},
   "source": [
    "Visualize the structure of the dataset:"
   ]
  },
  {
   "cell_type": "code",
   "execution_count": 3,
   "metadata": {},
   "outputs": [
    {
     "name": "stdout",
     "output_type": "stream",
     "text": [
      "<class 'pandas.core.frame.DataFrame'>\n",
      "RangeIndex: 930819 entries, 0 to 930818\n",
      "Data columns (total 24 columns):\n",
      " #   Column                  Non-Null Count   Dtype \n",
      "---  ------                  --------------   ----- \n",
      " 0   index_autonumeric       930819 non-null  Int64 \n",
      " 1   id_eleccio              930819 non-null  string\n",
      " 2   nom_eleccio             930819 non-null  string\n",
      " 3   id_nivell_territorial   930819 non-null  string\n",
      " 4   nom_nivell_territorial  930819 non-null  string\n",
      " 5   territori_codi          930819 non-null  string\n",
      " 6   territori_nom           930819 non-null  string\n",
      " 7   districte               855641 non-null  Int64 \n",
      " 8   seccio                  868235 non-null  Int64 \n",
      " 9   cens_electoral          930819 non-null  Int64 \n",
      " 10  votants                 930819 non-null  Int64 \n",
      " 11  abstencio               930819 non-null  Int64 \n",
      " 12  vots_nuls               930819 non-null  Int64 \n",
      " 13  vots_blancs             930819 non-null  Int64 \n",
      " 14  vots_candidatures       878103 non-null  Int64 \n",
      " 15  vots_valids             930819 non-null  Int64 \n",
      " 16  hora_primer_avan        930054 non-null  string\n",
      " 17  hora_segon_avan         930054 non-null  string\n",
      " 18  mesa                    464870 non-null  string\n",
      " 19  vots_primer_avan        742505 non-null  Int64 \n",
      " 20  vots_segon_avan         742505 non-null  Int64 \n",
      " 21  padro                   67109 non-null   Int64 \n",
      " 22  escons                  66023 non-null   Int64 \n",
      " 23  nombre_meses            66183 non-null   Int64 \n",
      "dtypes: Int64(15), string(9)\n",
      "memory usage: 183.8 MB\n"
     ]
    }
   ],
   "source": [
    "df.info()"
   ]
  },
  {
   "cell_type": "markdown",
   "metadata": {},
   "source": [
    "| Column name        | Description                                 | Type      |\n",
    "|--------------------|---------------------------------------------|-----------|\n",
    "| TERRITORI_NOM      | Nom del territori                           | Text      |\n",
    "| DISTRICTE          | Districte electoral                         | Text      |\n",
    "| SECCIO             | Secció electoral                            | Text      |\n",
    "| MESA               | Mesa electoral                              | Text      |\n",
    "| CENS_ELECTORAL     | Cens del territori                          | Nombre    |\n",
    "| PADRO              | Padró d'habitants del territori             | Nombre    |\n",
    "| ESCONS             | Escons a escollir a la circumscripció       | Nombre    |\n",
    "| NOMBRE_MESES       | Nombre de meses electorals                  | Nombre    |\n",
    "| VOTANTS            | Nombre de votants                           | Nombre    |\n",
    "| ABSTENCIO          | Nombre de persones que s'han abstingut      | Nombre    |\n",
    "| VOTS_NULS          | Vots nuls                                   | Nombre    |\n",
    "| VOTS_BLANCS        | Vots en blanc                               | Nombre    |\n",
    "| VOTS_CANDIDATURES  | Vots a candidatures                         | Nombre    |\n",
    "| VOTS_VALIDS        | Vots vàlids (a candidatures + en blanc)     | Nombre    |\n",
    "| VOTS_PRIMER_AVAN   | Votants al primer avanç de participació     | Nombre    |\n",
    "| HORA_PRIMER_AVAN   | Hora del primer avanç de participació       | Text      |\n",
    "| VOTS_SEGON_AVAN    | Votants al segon avanç de participació      | Nombre    |\n",
    "| HORA_SEGON_AVAN    | Hora del segon avanç de participació        | Text      |"
   ]
  },
  {
   "cell_type": "markdown",
   "metadata": {},
   "source": [
    "## Types of Elections"
   ]
  },
  {
   "cell_type": "markdown",
   "metadata": {},
   "source": [
    "First of all, we will divide `id_eleccio` into `type`, `year` and `sequential` as we did in the previous notebook. This will allow us to analyze the dataset by type of election."
   ]
  },
  {
   "cell_type": "code",
   "execution_count": 4,
   "metadata": {},
   "outputs": [],
   "source": [
    "df['type'] = df['id_eleccio'].str[:1]\n",
    "df['year'] = df['id_eleccio'].str[1:5].astype(int)\n",
    "df['sequential'] = df['id_eleccio'].str[5:]"
   ]
  },
  {
   "cell_type": "markdown",
   "metadata": {},
   "source": [
    "Show the types of elections:"
   ]
  },
  {
   "cell_type": "code",
   "execution_count": 5,
   "metadata": {},
   "outputs": [
    {
     "name": "stdout",
     "output_type": "stream",
     "text": [
      "                                   nom_eleccio\n",
      "type                                          \n",
      "A     Eleccions al Parlament de Catalunya 1995\n",
      "C                         Eleccions Municipals\n",
      "D          Eleccions a Diputacions Provincials\n",
      "E               Eleccions al Parlament Europeu\n",
      "G                      Eleccions Generals 2008\n",
      "M                    Eleccions Municipals 2007\n",
      "R               Referèndum Constitucional 1978\n",
      "S                      Eleccions al Senat 1979\n",
      "V     Eleccions al Consell General d'Aran 2023\n",
      "9\n"
     ]
    }
   ],
   "source": [
    "types = df[['type', 'nom_eleccio']].groupby(['type']).first()\n",
    "print(types)\n",
    "print(len(types))"
   ]
  },
  {
   "cell_type": "markdown",
   "metadata": {},
   "source": [
    "Now we know that the dataset contains data from 9 different types of elections:\n",
    "\n",
    "| Type | Election Type Name                          |\n",
    "|------|---------------------------------------------|\n",
    "| A    | Elections to the Parliament of Catalonia    |\n",
    "| C    | Elections to the County Councils            |\n",
    "| D    | Elections to the Provincial Councils        |\n",
    "| E    | Elections to the European Parliament        |\n",
    "| G    | Elections to the Congress                   |\n",
    "| M    | Municipal Elections                         |\n",
    "| R    | Constitutional Referendum                   |\n",
    "| S    | Elections to the Senate                     |\n",
    "| V    | Elections to the General Council of Aran    |"
   ]
  },
  {
   "cell_type": "markdown",
   "metadata": {},
   "source": [
    "We can see that there is one type of election that is not present in the previous dataset, which is `R`. This type of election is called Constitutional Referendum (`Referèndum Constitucional 1978`)."
   ]
  },
  {
   "cell_type": "markdown",
   "metadata": {},
   "source": [
    "## Filter by Election Type"
   ]
  },
  {
   "cell_type": "markdown",
   "metadata": {},
   "source": [
    "As we explained on the previous notebook, we are only interested on the data from the elections to the Parliament of Catalonia ('A'), municipal elections ('M'), elections to the European Parliament ('E') and elections to the Congress ('G'), so we filter the dataset:"
   ]
  },
  {
   "cell_type": "code",
   "execution_count": 6,
   "metadata": {},
   "outputs": [
    {
     "name": "stdout",
     "output_type": "stream",
     "text": [
      "<class 'pandas.core.frame.DataFrame'>\n",
      "Index: 678882 entries, 548 to 930234\n",
      "Data columns (total 27 columns):\n",
      " #   Column                  Non-Null Count   Dtype \n",
      "---  ------                  --------------   ----- \n",
      " 0   index_autonumeric       678882 non-null  Int64 \n",
      " 1   id_eleccio              678882 non-null  string\n",
      " 2   nom_eleccio             678882 non-null  string\n",
      " 3   id_nivell_territorial   678882 non-null  string\n",
      " 4   nom_nivell_territorial  678882 non-null  string\n",
      " 5   territori_codi          678882 non-null  string\n",
      " 6   territori_nom           678882 non-null  string\n",
      " 7   districte               624021 non-null  Int64 \n",
      " 8   seccio                  633605 non-null  Int64 \n",
      " 9   cens_electoral          678882 non-null  Int64 \n",
      " 10  votants                 678882 non-null  Int64 \n",
      " 11  abstencio               678882 non-null  Int64 \n",
      " 12  vots_nuls               678882 non-null  Int64 \n",
      " 13  vots_blancs             678882 non-null  Int64 \n",
      " 14  vots_candidatures       678882 non-null  Int64 \n",
      " 15  vots_valids             678882 non-null  Int64 \n",
      " 16  hora_primer_avan        678882 non-null  string\n",
      " 17  hora_segon_avan         678882 non-null  string\n",
      " 18  mesa                    341739 non-null  string\n",
      " 19  vots_primer_avan        527188 non-null  Int64 \n",
      " 20  vots_segon_avan         527188 non-null  Int64 \n",
      " 21  padro                   46737 non-null   Int64 \n",
      " 22  escons                  45783 non-null   Int64 \n",
      " 23  nombre_meses            45783 non-null   Int64 \n",
      " 24  type                    678882 non-null  string\n",
      " 25  year                    678882 non-null  int32 \n",
      " 26  sequential              678882 non-null  string\n",
      "dtypes: Int64(15), int32(1), string(11)\n",
      "memory usage: 152.1 MB\n"
     ]
    }
   ],
   "source": [
    "df = df[df['type'].isin(['M', 'E', 'A', 'G'])]\n",
    "\n",
    "df.info()"
   ]
  },
  {
   "cell_type": "markdown",
   "metadata": {},
   "source": [
    "## Check for missing values"
   ]
  },
  {
   "cell_type": "markdown",
   "metadata": {},
   "source": [
    "Now, we want to count the number of missing values in each column:"
   ]
  },
  {
   "cell_type": "code",
   "execution_count": 7,
   "metadata": {},
   "outputs": [
    {
     "data": {
      "text/plain": [
       "nombre_meses              93.256118\n",
       "escons                    93.256118\n",
       "padro                     93.115593\n",
       "mesa                      49.661502\n",
       "vots_segon_avan           22.344678\n",
       "vots_primer_avan          22.344678\n",
       "districte                  8.081080\n",
       "seccio                     6.669348\n",
       "index_autonumeric          0.000000\n",
       "vots_valids                0.000000\n",
       "year                       0.000000\n",
       "type                       0.000000\n",
       "hora_segon_avan            0.000000\n",
       "hora_primer_avan           0.000000\n",
       "vots_blancs                0.000000\n",
       "vots_candidatures          0.000000\n",
       "id_eleccio                 0.000000\n",
       "vots_nuls                  0.000000\n",
       "abstencio                  0.000000\n",
       "votants                    0.000000\n",
       "cens_electoral             0.000000\n",
       "territori_nom              0.000000\n",
       "territori_codi             0.000000\n",
       "nom_nivell_territorial     0.000000\n",
       "id_nivell_territorial      0.000000\n",
       "nom_eleccio                0.000000\n",
       "sequential                 0.000000\n",
       "dtype: float64"
      ]
     },
     "execution_count": 7,
     "metadata": {},
     "output_type": "execute_result"
    }
   ],
   "source": [
    "df.isnull().mean().sort_values(ascending=False) * 100"
   ]
  },
  {
   "cell_type": "markdown",
   "metadata": {},
   "source": [
    "Based on the previous table, we can see that `escons`, `nombre_meses` and `padro` have lots of empty values.\n",
    "\n",
    "Also, we can see that `mesa` and `vots_segon_avan` and `vots_primer_avan` have a significant number of empty values.\n",
    "\n",
    "We will study them to see if we can fill them with some value or if we need to remove them."
   ]
  },
  {
   "cell_type": "markdown",
   "metadata": {},
   "source": [
    "### Missing values in `escons`"
   ]
  },
  {
   "cell_type": "markdown",
   "metadata": {},
   "source": [
    "We calculate the percentage of missing ``escons`` values by ``id_nivell_territorial``. The `NA` values represent 0.0% of the total:"
   ]
  },
  {
   "cell_type": "code",
   "execution_count": 9,
   "metadata": {},
   "outputs": [
    {
     "data": {
      "text/html": [
       "<div>\n",
       "<style scoped>\n",
       "    .dataframe tbody tr th:only-of-type {\n",
       "        vertical-align: middle;\n",
       "    }\n",
       "\n",
       "    .dataframe tbody tr th {\n",
       "        vertical-align: top;\n",
       "    }\n",
       "\n",
       "    .dataframe thead th {\n",
       "        text-align: right;\n",
       "    }\n",
       "</style>\n",
       "<table border=\"1\" class=\"dataframe\">\n",
       "  <thead>\n",
       "    <tr style=\"text-align: right;\">\n",
       "      <th></th>\n",
       "      <th>id_nivell_territorial</th>\n",
       "      <th>nom_nivell_territorial</th>\n",
       "    </tr>\n",
       "  </thead>\n",
       "  <tbody>\n",
       "    <tr>\n",
       "      <th>548</th>\n",
       "      <td>DM</td>\n",
       "      <td>Districte Municipal</td>\n",
       "    </tr>\n",
       "    <tr>\n",
       "      <th>588</th>\n",
       "      <td>ME</td>\n",
       "      <td>Mesa</td>\n",
       "    </tr>\n",
       "    <tr>\n",
       "      <th>7876</th>\n",
       "      <td>SE</td>\n",
       "      <td>Secció</td>\n",
       "    </tr>\n",
       "    <tr>\n",
       "      <th>8459</th>\n",
       "      <td>CA</td>\n",
       "      <td>Catalunya</td>\n",
       "    </tr>\n",
       "    <tr>\n",
       "      <th>14911</th>\n",
       "      <td>PR</td>\n",
       "      <td>Província</td>\n",
       "    </tr>\n",
       "    <tr>\n",
       "      <th>14915</th>\n",
       "      <td>VE</td>\n",
       "      <td>Vegueria</td>\n",
       "    </tr>\n",
       "    <tr>\n",
       "      <th>14925</th>\n",
       "      <td>CO</td>\n",
       "      <td>Comarca</td>\n",
       "    </tr>\n",
       "    <tr>\n",
       "      <th>22989</th>\n",
       "      <td>MU</td>\n",
       "      <td>Municipi</td>\n",
       "    </tr>\n",
       "    <tr>\n",
       "      <th>112991</th>\n",
       "      <td>PR</td>\n",
       "      <td>Provincia</td>\n",
       "    </tr>\n",
       "    <tr>\n",
       "      <th>120016</th>\n",
       "      <td>ME</td>\n",
       "      <td>Municipi</td>\n",
       "    </tr>\n",
       "    <tr>\n",
       "      <th>227179</th>\n",
       "      <td>CL</td>\n",
       "      <td>Col·legi</td>\n",
       "    </tr>\n",
       "  </tbody>\n",
       "</table>\n",
       "</div>"
      ],
      "text/plain": [
       "       id_nivell_territorial nom_nivell_territorial\n",
       "548                       DM    Districte Municipal\n",
       "588                       ME                   Mesa\n",
       "7876                      SE                 Secció\n",
       "8459                      CA              Catalunya\n",
       "14911                     PR              Província\n",
       "14915                     VE               Vegueria\n",
       "14925                     CO                Comarca\n",
       "22989                     MU               Municipi\n",
       "112991                    PR              Provincia\n",
       "120016                    ME               Municipi\n",
       "227179                    CL               Col·legi"
      ]
     },
     "execution_count": 9,
     "metadata": {},
     "output_type": "execute_result"
    }
   ],
   "source": [
    "df[[\"id_nivell_territorial\", \"nom_nivell_territorial\"]].drop_duplicates()"
   ]
  },
  {
   "cell_type": "code",
   "execution_count": 37,
   "metadata": {},
   "outputs": [
    {
     "data": {
      "text/plain": [
       "id_nivell_territorial\n",
       "CL    100.000000\n",
       "DM    100.000000\n",
       "ME    100.000000\n",
       "SE    100.000000\n",
       "VE     23.232323\n",
       "MU      2.172104\n",
       "CA      2.083333\n",
       "PR      2.083333\n",
       "CO      0.152439\n",
       "Name: count, dtype: float64"
      ]
     },
     "execution_count": 37,
     "metadata": {},
     "output_type": "execute_result"
    }
   ],
   "source": [
    "(\n",
    "    100\n",
    "    * df[df[\"escons\"].isnull()].value_counts(\"id_nivell_territorial\")\n",
    "    / df.value_counts(\"id_nivell_territorial\")\n",
    ").sort_values(ascending=False)"
   ]
  },
  {
   "cell_type": "markdown",
   "metadata": {},
   "source": [
    "We can see that for ``Mesa``, ``Col·legi``, ``Districte Municipal`` and ``Secció`` the percentage of missing values is 100.0%. On the other territorial levels, the percentage of missing values is near 0.0%."
   ]
  },
  {
   "cell_type": "markdown",
   "metadata": {},
   "source": [
    "We can also study the percentage of missing values by election type (`type`):"
   ]
  },
  {
   "cell_type": "code",
   "execution_count": 11,
   "metadata": {},
   "outputs": [
    {
     "data": {
      "text/plain": [
       "type\n",
       "G    93.117926\n",
       "A    93.382706\n",
       "M    92.577261\n",
       "E    94.132990\n",
       "Name: count, dtype: float64"
      ]
     },
     "execution_count": 11,
     "metadata": {},
     "output_type": "execute_result"
    }
   ],
   "source": [
    "100 * df[df[\"escons\"].isnull()].value_counts(\"type\") / df.value_counts(\"type\")"
   ]
  },
  {
   "cell_type": "markdown",
   "metadata": {},
   "source": [
    "We will filter out the territorial levels with 100.0% of missing values:"
   ]
  },
  {
   "cell_type": "code",
   "execution_count": 41,
   "metadata": {},
   "outputs": [
    {
     "data": {
      "text/plain": [
       "mesa                      99.967935\n",
       "districte                 99.950834\n",
       "seccio                    34.292433\n",
       "vots_segon_avan           25.517315\n",
       "vots_primer_avan          25.517315\n",
       "nombre_meses               2.131253\n",
       "escons                     2.131253\n",
       "padro                      0.091920\n",
       "index_autonumeric          0.000000\n",
       "vots_valids                0.000000\n",
       "year                       0.000000\n",
       "type                       0.000000\n",
       "hora_segon_avan            0.000000\n",
       "hora_primer_avan           0.000000\n",
       "vots_blancs                0.000000\n",
       "vots_candidatures          0.000000\n",
       "id_eleccio                 0.000000\n",
       "vots_nuls                  0.000000\n",
       "abstencio                  0.000000\n",
       "votants                    0.000000\n",
       "cens_electoral             0.000000\n",
       "territori_nom              0.000000\n",
       "territori_codi             0.000000\n",
       "nom_nivell_territorial     0.000000\n",
       "id_nivell_territorial      0.000000\n",
       "nom_eleccio                0.000000\n",
       "sequential                 0.000000\n",
       "dtype: float64"
      ]
     },
     "execution_count": 41,
     "metadata": {},
     "output_type": "execute_result"
    }
   ],
   "source": [
    "df_filtered = df[~df[\"id_nivell_territorial\"].isin([\"CL\", \"DM\", \"ME\", \"SE\"])]\n",
    "df_filtered.isnull().mean().sort_values(ascending=False) * 100"
   ]
  },
  {
   "cell_type": "markdown",
   "metadata": {},
   "source": [
    "After filtering, we can see that the percentage of missing values has been drastically reduced on almost every column. The only exceptions are `mesa` and `districte`, which are almost empty. That makes sense because we have removed th rows with electoral tables and districts information."
   ]
  },
  {
   "cell_type": "code",
   "execution_count": 25,
   "metadata": {},
   "outputs": [
    {
     "name": "stdout",
     "output_type": "stream",
     "text": [
      "id_nivell_territorial\n",
      "VE    23.232323\n",
      "MU     2.172104\n",
      "CA     2.083333\n",
      "PR     2.083333\n",
      "CO     0.152439\n",
      "Name: count, dtype: Float64\n",
      "type\n",
      "E    11.988964\n",
      "G     0.127218\n",
      "A     0.115723\n",
      "M     0.064167\n",
      "Name: count, dtype: Float64\n",
      "territori_nom\n",
      "CERA Tarragona      100.0\n",
      "CERA Lleida         100.0\n",
      "CERA Girona         100.0\n",
      "CERA Catalunya      100.0\n",
      "CERA Barcelona      100.0\n",
      "                   ...   \n",
      "Gironella         2.12766\n",
      "Gisclareny        2.12766\n",
      "Godall            2.12766\n",
      "Golmés            2.12766\n",
      "Tarragona         1.06383\n",
      "Name: count, Length: 956, dtype: Float64\n"
     ]
    }
   ],
   "source": [
    "print(\n",
    "    (\n",
    "        100\n",
    "        * df_filtered[df_filtered[\"escons\"].isnull()].value_counts(\n",
    "            \"id_nivell_territorial\"\n",
    "        )\n",
    "        / df_filtered[\"id_nivell_territorial\"].value_counts()\n",
    "    ).sort_values(ascending=False)\n",
    ")\n",
    "print(\n",
    "    (\n",
    "        100\n",
    "        * df_filtered[df_filtered[\"escons\"].isnull()].value_counts(\"type\")\n",
    "        / df_filtered[\"type\"].value_counts()\n",
    "    ).sort_values(ascending=False)\n",
    ")\n",
    "print(\n",
    "    (\n",
    "        100\n",
    "        * df_filtered[df_filtered[\"escons\"].isnull()].value_counts(\"territori_nom\")\n",
    "        / df_filtered[\"territori_nom\"].value_counts()\n",
    "    )\n",
    "    .sort_values(ascending=False)\n",
    "    .dropna()\n",
    ")"
   ]
  },
  {
   "cell_type": "markdown",
   "metadata": {},
   "source": [
    "Most of the missing values are from ``CERA *`` and ``Residents Absents`` on the ``territori_nom`` column. This is logic because these \"territories\" are not physical places, but groups of people and therefore they don't have a number of seats to be elected."
   ]
  },
  {
   "cell_type": "code",
   "execution_count": 13,
   "metadata": {},
   "outputs": [
    {
     "name": "stdout",
     "output_type": "stream",
     "text": [
      "territori_nom\n",
      "Abella de la Conca     100.0\n",
      "Rubí                   100.0\n",
      "Riudoms                100.0\n",
      "Riumors                100.0\n",
      "Roca del Vallès, la    100.0\n",
      "                       ...  \n",
      "Garriguella            100.0\n",
      "Garrigàs               100.0\n",
      "Gavet de la Conca      100.0\n",
      "Gavà                   100.0\n",
      "Òrrius                 100.0\n",
      "Name: count, Length: 947, dtype: Float64\n"
     ]
    }
   ],
   "source": [
    "territori_nom_escons_null = (\n",
    "    (\n",
    "        100\n",
    "        * df_filtered[df_filtered[\"escons\"].isnull()].value_counts(\"territori_nom\")\n",
    "        / df_filtered[\"territori_nom\"].value_counts()\n",
    "    )\n",
    "    .sort_values(ascending=False)\n",
    "    .dropna()\n",
    ")\n",
    "eleccions_escons_null = (\n",
    "    (\n",
    "        100\n",
    "        * df_filtered[df_filtered[\"escons\"].isnull()].value_counts(\"type\")\n",
    "        / df_filtered[\"type\"].value_counts()\n",
    "    )\n",
    "    .sort_values(ascending=False)\n",
    "    .dropna()\n",
    ")\n",
    "generals_escons_null = (\n",
    "    df_filtered[(df_filtered[\"escons\"].isnull()) & (df_filtered[\"type\"] == \"G\")]\n",
    ")\n",
    "autonomiques_escons_null = (\n",
    "    df_filtered[(df_filtered[\"escons\"].isnull()) & (df_filtered[\"type\"] == \"A\")]\n",
    ")\n",
    "europees_escons_null = (\n",
    "    df_filtered[(df_filtered[\"escons\"].isnull()) & (df_filtered[\"type\"] == \"E\")]\n",
    ")\n",
    "print(\n",
    "    (\n",
    "        100\n",
    "        * europees_escons_null[europees_escons_null[\"escons\"].isnull()].value_counts(\"territori_nom\")\n",
    "        / europees_escons_null[\"territori_nom\"].value_counts()\n",
    "    )\n",
    "    .sort_values(ascending=False)\n",
    ")"
   ]
  },
  {
   "cell_type": "markdown",
   "metadata": {},
   "source": [
    "Vegueries doesn't have seats to be elected, so on the catalan elections they have missing values for seats.\n",
    "\n",
    "On the european elections, any municipality has seats to be elected, so they have missing values for seats."
   ]
  },
  {
   "cell_type": "code",
   "execution_count": 24,
   "metadata": {},
   "outputs": [],
   "source": [
    "df_2009 = df_filtered[df_filtered[\"year\"] == 2009]"
   ]
  },
  {
   "cell_type": "markdown",
   "metadata": {},
   "source": [
    "### Missing values in `nombre_meses`"
   ]
  },
  {
   "cell_type": "markdown",
   "metadata": {},
   "source": [
    "Now we analize the missing values in `nombre_meses`. We calculate the percentage of missing ``nombre_meses`` values by ``id_nivell_territorial``. The `NA` values represent 0.0% of the total:"
   ]
  },
  {
   "cell_type": "code",
   "execution_count": 46,
   "metadata": {},
   "outputs": [
    {
     "data": {
      "text/plain": [
       "id_nivell_territorial\n",
       "CL        100.0\n",
       "DM        100.0\n",
       "ME        100.0\n",
       "SE        100.0\n",
       "VE    23.232323\n",
       "MU     2.172104\n",
       "CA     2.083333\n",
       "PR     2.083333\n",
       "CO     0.152439\n",
       "Name: count, dtype: Float64"
      ]
     },
     "execution_count": 46,
     "metadata": {},
     "output_type": "execute_result"
    }
   ],
   "source": [
    "missing_column = \"nombre_meses\"\n",
    "(\n",
    "    100\n",
    "    * df[df[missing_column].isnull()].value_counts(\n",
    "        \"id_nivell_territorial\"\n",
    "    )\n",
    "    / df[\"id_nivell_territorial\"].value_counts()\n",
    ").sort_values(ascending=False)"
   ]
  },
  {
   "cell_type": "markdown",
   "metadata": {},
   "source": [
    "We can see that the percentage of missing values on territorial levels `CL`, `DM`, `ME` and `SE` is the same as in `escons`. We can proceed using the filtered dataset."
   ]
  },
  {
   "cell_type": "code",
   "execution_count": 26,
   "metadata": {},
   "outputs": [
    {
     "name": "stdout",
     "output_type": "stream",
     "text": [
      "id_nivell_territorial\n",
      "VE    23.232323\n",
      "MU     2.172104\n",
      "CA     2.083333\n",
      "PR     2.083333\n",
      "CO     0.152439\n",
      "Name: count, dtype: Float64\n",
      "type\n",
      "E    11.988964\n",
      "G     0.127218\n",
      "A     0.115723\n",
      "M     0.064167\n",
      "Name: count, dtype: Float64\n",
      "territori_nom\n",
      "CERA Tarragona      100.0\n",
      "CERA Lleida         100.0\n",
      "CERA Girona         100.0\n",
      "CERA Catalunya      100.0\n",
      "CERA Barcelona      100.0\n",
      "                   ...   \n",
      "Gironella         2.12766\n",
      "Gisclareny        2.12766\n",
      "Godall            2.12766\n",
      "Golmés            2.12766\n",
      "Tarragona         1.06383\n",
      "Name: count, Length: 956, dtype: Float64\n"
     ]
    }
   ],
   "source": [
    "print(\n",
    "    (\n",
    "        100\n",
    "        * df_filtered[df_filtered[missing_column].isnull()].value_counts(\n",
    "            \"id_nivell_territorial\"\n",
    "        )\n",
    "        / df_filtered[\"id_nivell_territorial\"].value_counts()\n",
    "    ).sort_values(ascending=False)\n",
    ")\n",
    "print(\n",
    "    (\n",
    "        100\n",
    "        * df_filtered[df_filtered[missing_column].isnull()].value_counts(\"type\")\n",
    "        / df_filtered[\"type\"].value_counts()\n",
    "    ).sort_values(ascending=False)\n",
    ")\n",
    "print(\n",
    "    (\n",
    "        100\n",
    "        * df_filtered[df_filtered[missing_column].isnull()].value_counts(\"territori_nom\")\n",
    "        / df_filtered[\"territori_nom\"].value_counts()\n",
    "    )\n",
    "    .sort_values(ascending=False)\n",
    "    .dropna()\n",
    ")"
   ]
  },
  {
   "cell_type": "markdown",
   "metadata": {},
   "source": [
    "It seems that the missing values are related to the same characteristics as the missing values in `escons`."
   ]
  },
  {
   "cell_type": "markdown",
   "metadata": {},
   "source": [
    "### Missing values in `padro`"
   ]
  },
  {
   "cell_type": "markdown",
   "metadata": {},
   "source": [
    "We will study the missing values in `padro`. We start by seeing if the same territorial levels as `escons` have the same percentage of missing values:"
   ]
  },
  {
   "cell_type": "code",
   "execution_count": 45,
   "metadata": {},
   "outputs": [
    {
     "data": {
      "text/plain": [
       "id_nivell_territorial\n",
       "CL        100.0\n",
       "DM        100.0\n",
       "ME        100.0\n",
       "SE        100.0\n",
       "VE    23.232323\n",
       "CA     2.083333\n",
       "PR     2.083333\n",
       "CO     0.152439\n",
       "MU     0.026983\n",
       "Name: count, dtype: Float64"
      ]
     },
     "execution_count": 45,
     "metadata": {},
     "output_type": "execute_result"
    }
   ],
   "source": [
    "missing_column = \"padro\"\n",
    "(\n",
    "    100\n",
    "    * df[df[missing_column].isnull()].value_counts(\n",
    "        \"id_nivell_territorial\"\n",
    "    )\n",
    "    / df[\"id_nivell_territorial\"].value_counts()\n",
    ").sort_values(ascending=False)"
   ]
  },
  {
   "cell_type": "markdown",
   "metadata": {},
   "source": [
    "We can see that the percentage of missing values on territorial levels `CL`, `DM`, `ME` and `SE` is the same as in `escons`. We can proceed using the filtered dataset."
   ]
  },
  {
   "cell_type": "code",
   "execution_count": 39,
   "metadata": {},
   "outputs": [
    {
     "name": "stdout",
     "output_type": "stream",
     "text": [
      "id_nivell_territorial\n",
      "VE    23.232323\n",
      "CA     2.083333\n",
      "PR     2.083333\n",
      "CO     0.152439\n",
      "MU     0.026983\n",
      "Name: count, dtype: Float64\n",
      "type\n",
      "A    0.115723\n",
      "G    0.100435\n",
      "E    0.075245\n",
      "M    0.064167\n",
      "Name: count, dtype: Float64\n",
      "territori_nom\n",
      "CERA Barcelona                        100.0\n",
      "CERA Catalunya                        100.0\n",
      "CERA Girona                           100.0\n",
      "CERA Lleida                           100.0\n",
      "CERA Tarragona                        100.0\n",
      "Alt Pirineu i territori d'Aran    16.666667\n",
      "Camp de Tarragona                 16.666667\n",
      "Catalunya Central                 16.666667\n",
      "Terres de l'Ebre                  16.666667\n",
      "Residents Absents                 11.949686\n",
      "Barcelona                          1.886792\n",
      "Girona                             1.886792\n",
      "Lleida                             1.886792\n",
      "Name: count, dtype: Float64\n"
     ]
    }
   ],
   "source": [
    "print(\n",
    "    (\n",
    "        100\n",
    "        * df_filtered[df_filtered[missing_column].isnull()].value_counts(\n",
    "            \"id_nivell_territorial\"\n",
    "        )\n",
    "        / df_filtered[\"id_nivell_territorial\"].value_counts()\n",
    "    ).sort_values(ascending=False)\n",
    ")\n",
    "print(\n",
    "    (\n",
    "        100\n",
    "        * df_filtered[df_filtered[missing_column].isnull()].value_counts(\"type\")\n",
    "        / df_filtered[\"type\"].value_counts()\n",
    "    ).sort_values(ascending=False)\n",
    ")\n",
    "print(\n",
    "    (\n",
    "        100\n",
    "        * df_filtered[df_filtered[missing_column].isnull()].value_counts(\"territori_nom\")\n",
    "        / df_filtered[\"territori_nom\"].value_counts()\n",
    "    )\n",
    "    .sort_values(ascending=False)\n",
    "    .dropna()\n",
    ")"
   ]
  },
  {
   "cell_type": "markdown",
   "metadata": {},
   "source": [
    "The column ``padro`` doesn't share the same characteristics as the columns ``escons``. It seems the election types have similar missing values for `padro`. In fact, we saw that, on the filtered dataset most of the rows have information, therefore we don't need to keep studying the missing values for `padro` as they are all related to the territorial level."
   ]
  },
  {
   "cell_type": "markdown",
   "metadata": {},
   "source": [
    "### Missing values in `mesa`"
   ]
  },
  {
   "cell_type": "markdown",
   "metadata": {},
   "source": [
    "We will study the missing values in `mesa`. We start by seeing if the same territorial levels as `escons` have the same percentage of missing values:"
   ]
  },
  {
   "cell_type": "code",
   "execution_count": 44,
   "metadata": {},
   "outputs": [
    {
     "data": {
      "text/plain": [
       "id_nivell_territorial\n",
       "CL        100.0\n",
       "SE    99.998242\n",
       "DM    99.992698\n",
       "MU    99.991006\n",
       "CO    99.847561\n",
       "CA    97.916667\n",
       "PR    97.916667\n",
       "VE    96.969697\n",
       "ME         <NA>\n",
       "Name: count, dtype: Float64"
      ]
     },
     "execution_count": 44,
     "metadata": {},
     "output_type": "execute_result"
    }
   ],
   "source": [
    "missing_column = \"mesa\"\n",
    "(\n",
    "    100\n",
    "    * df[df[missing_column].isnull()].value_counts(\n",
    "        \"id_nivell_territorial\"\n",
    "    )\n",
    "    / df[\"id_nivell_territorial\"].value_counts()\n",
    ").sort_values(ascending=False)"
   ]
  },
  {
   "cell_type": "markdown",
   "metadata": {},
   "source": [
    "We can see that for electoral table (`ME`) we don't have any missing value. But for the other territorial levels, the percentage of missing values is near 100.0%. Therefore, we can say that this column only has values for electoral tables."
   ]
  },
  {
   "cell_type": "markdown",
   "metadata": {},
   "source": [
    "### Missing values in `vots_primer_avan` and `vots_segon_avan`"
   ]
  },
  {
   "cell_type": "markdown",
   "metadata": {},
   "source": [
    "We keep studying the missing values, now it's turn for `vots_primer_avan` and `vots_segon_avan`. First, we check if ``vots_primer_avan`` and ``vots_segon_avan`` have the same missing rows:"
   ]
  },
  {
   "cell_type": "code",
   "execution_count": 59,
   "metadata": {},
   "outputs": [
    {
     "name": "stdout",
     "output_type": "stream",
     "text": [
      "(0, 27)\n",
      "(0, 27)\n"
     ]
    }
   ],
   "source": [
    "print(\n",
    "    df[\n",
    "        df[\"vots_primer_avan\"].isnull()\n",
    "        & df[\"vots_segon_avan\"].notnull()\n",
    "    ].shape\n",
    ")\n",
    "print(\n",
    "    df[\n",
    "        df[\"vots_primer_avan\"].notnull()\n",
    "        & df[\"vots_segon_avan\"].isnull()\n",
    "    ].shape\n",
    ")"
   ]
  },
  {
   "cell_type": "markdown",
   "metadata": {},
   "source": [
    "Then we check if the same territorial levels as `escons` have the same percentage of missing values:"
   ]
  },
  {
   "cell_type": "code",
   "execution_count": 53,
   "metadata": {},
   "outputs": [
    {
     "data": {
      "text/plain": [
       "id_nivell_territorial\n",
       "CL    97.729516\n",
       "CO    26.422764\n",
       "MU    25.568322\n",
       "SE    23.434519\n",
       "DM    23.240234\n",
       "ME    19.253415\n",
       "CA    16.666667\n",
       "PR    16.666667\n",
       "VE     6.060606\n",
       "Name: count, dtype: Float64"
      ]
     },
     "execution_count": 53,
     "metadata": {},
     "output_type": "execute_result"
    }
   ],
   "source": [
    "missing_column = \"vots_primer_avan\"\n",
    "(\n",
    "    100\n",
    "    * df[df[missing_column].isnull()].value_counts(\n",
    "        \"id_nivell_territorial\"\n",
    "    )\n",
    "    / df[\"id_nivell_territorial\"].value_counts()\n",
    ").sort_values(ascending=False)"
   ]
  },
  {
   "cell_type": "markdown",
   "metadata": {},
   "source": [
    "We can see that the percentage of missing values on territorial levels `CL`, `DM`, `ME` and `SE` is not the same as in `escons`. In general terms, the percentage of missing values is low, but for the territorial level `CL` the missing values are near 100.0%.\n",
    "\n",
    "For the next analysis, we will use the original dataset."
   ]
  },
  {
   "cell_type": "code",
   "execution_count": 57,
   "metadata": {},
   "outputs": [
    {
     "name": "stdout",
     "output_type": "stream",
     "text": [
      "type\n",
      "A    36.819079\n",
      "G    18.514144\n",
      "M     16.96704\n",
      "E    12.213045\n",
      "Name: count, dtype: Float64\n",
      "territori_nom\n",
      "Peratallada                    100.0\n",
      "Vulpellac                      100.0\n",
      "Fonteta                        100.0\n",
      "Rupit                          100.0\n",
      "Pruit                          100.0\n",
      "                              ...   \n",
      "Salou                       5.888224\n",
      "Sant Julià de Cerdanyola    5.511811\n",
      "Badia del Vallès            4.344049\n",
      "Palma de Cervelló, la         3.9801\n",
      "Canonja, la                    3.125\n",
      "Name: count, Length: 996, dtype: Float64\n",
      "year\n",
      "1977    100.000000\n",
      "1979     99.964912\n",
      "1980    100.000000\n",
      "1982     99.961234\n",
      "1983    100.000000\n",
      "1984    100.000000\n",
      "1986     44.862277\n",
      "1987     99.965523\n",
      "1988    100.000000\n",
      "1989      0.117185\n",
      "1992    100.000000\n",
      "1993      0.114718\n",
      "1994      0.117048\n",
      "1995      0.057989\n",
      "1996      0.116089\n",
      "1999      0.076034\n",
      "2000      0.112546\n",
      "2003     50.103520\n",
      "2004      0.108619\n",
      "2006      0.106885\n",
      "2008      0.104867\n",
      "2009      0.109748\n",
      "2010      0.111133\n",
      "2011      0.055213\n",
      "2012      0.116603\n",
      "2014      0.119449\n",
      "2015      5.471937\n",
      "2016     14.616902\n",
      "2017     14.485443\n",
      "2021      0.109210\n",
      "Name: count, dtype: float64\n"
     ]
    }
   ],
   "source": [
    "missing_column = \"vots_primer_avan\"\n",
    "print(\n",
    "    (\n",
    "        100\n",
    "        * df[df[missing_column].isnull()].value_counts(\"type\")\n",
    "        / df[\"type\"].value_counts()\n",
    "    ).sort_values(ascending=False)\n",
    ")\n",
    "print(\n",
    "    (\n",
    "        100\n",
    "        * df[df[missing_column].isnull()].value_counts(\"territori_nom\")\n",
    "        / df[\"territori_nom\"].value_counts()\n",
    "    )\n",
    "    .sort_values(ascending=False)\n",
    "    .dropna()\n",
    ")\n",
    "print(\n",
    "    (\n",
    "        100\n",
    "        * df[df[missing_column].isnull()].value_counts(\"year\")\n",
    "        / df[\"year\"].value_counts()\n",
    "    )\n",
    "    .dropna()\n",
    ")"
   ]
  },
  {
   "cell_type": "markdown",
   "metadata": {},
   "source": [
    "It seems that these variables weren't collected for the first elections, but after 1992 this information was collected."
   ]
  },
  {
   "cell_type": "markdown",
   "metadata": {},
   "source": [
    "### Missing values in `districte`"
   ]
  },
  {
   "cell_type": "markdown",
   "metadata": {},
   "source": [
    "Now it's turn for `districte`. First, we check it this column has the same missing rows as the `mesa` column:"
   ]
  },
  {
   "cell_type": "code",
   "execution_count": 60,
   "metadata": {},
   "outputs": [
    {
     "name": "stdout",
     "output_type": "stream",
     "text": [
      "(0, 27)\n",
      "(282282, 27)\n"
     ]
    }
   ],
   "source": [
    "print(\n",
    "    df[\n",
    "        df[\"districte\"].isnull()\n",
    "        & df[\"mesa\"].notnull()\n",
    "    ].shape\n",
    ")\n",
    "print(\n",
    "    df[\n",
    "        df[\"districte\"].notnull()\n",
    "        & df[\"mesa\"].isnull()\n",
    "    ].shape\n",
    ")"
   ]
  },
  {
   "cell_type": "markdown",
   "metadata": {},
   "source": [
    "They are not completely equivalent, but they share a lot of missing rows. When ``districte`` is missing, ``mesa`` is also missing. But when ``mesa`` is missing, ``districte`` is not missing."
   ]
  },
  {
   "cell_type": "markdown",
   "metadata": {},
   "source": [
    "We continue the analysis by using the original dataset:"
   ]
  },
  {
   "cell_type": "code",
   "execution_count": 61,
   "metadata": {},
   "outputs": [
    {
     "name": "stdout",
     "output_type": "stream",
     "text": [
      "id_nivell_territorial\n",
      "CL        100.0\n",
      "MU    99.973017\n",
      "CO    99.847561\n",
      "CA    97.916667\n",
      "PR    97.916667\n",
      "VE    96.969697\n",
      "DM         <NA>\n",
      "ME         <NA>\n",
      "SE         <NA>\n",
      "Name: count, dtype: Float64\n",
      "type\n",
      "G      9.3828\n",
      "A    7.997792\n",
      "M    7.427505\n",
      "E    6.661205\n",
      "Name: count, dtype: Float64\n",
      "territori_nom\n",
      "Pla d'Urgell                      100.0\n",
      "Anoia                             100.0\n",
      "Pallars Jussà                     100.0\n",
      "Vallès Oriental                   100.0\n",
      "Maresme                           100.0\n",
      "                                 ...   \n",
      "Santa Coloma de Gramenet       1.014007\n",
      "Reus                           0.997217\n",
      "Badalona                       0.993341\n",
      "Hospitalet de Llobregat, l'    0.847199\n",
      "Barcelona                      0.611357\n",
      "Name: count, Length: 1005, dtype: Float64\n"
     ]
    }
   ],
   "source": [
    "missing_column = \"districte\"\n",
    "print(\n",
    "    (\n",
    "        100\n",
    "        * df[df[missing_column].isnull()].value_counts(\n",
    "            \"id_nivell_territorial\"\n",
    "        )\n",
    "        / df[\"id_nivell_territorial\"].value_counts()\n",
    "    ).sort_values(ascending=False)\n",
    ")\n",
    "print(\n",
    "    (\n",
    "        100\n",
    "        * df[df[missing_column].isnull()].value_counts(\"type\")\n",
    "        / df[\"type\"].value_counts()\n",
    "    ).sort_values(ascending=False)\n",
    ")\n",
    "print(\n",
    "    (\n",
    "        100\n",
    "        * df[df[missing_column].isnull()].value_counts(\"territori_nom\")\n",
    "        / df[\"territori_nom\"].value_counts()\n",
    "    )\n",
    "    .sort_values(ascending=False)\n",
    "    .dropna()\n",
    ")"
   ]
  },
  {
   "cell_type": "markdown",
   "metadata": {},
   "source": [
    "We always have information for the territorial levels municipal district (`DM`), electoral table (`ME`) and section (`SE`). But, for the other territorial levels, the percentage of missing values is near 100.0%."
   ]
  },
  {
   "cell_type": "markdown",
   "metadata": {},
   "source": [
    "### Missing values in `seccio`"
   ]
  },
  {
   "cell_type": "markdown",
   "metadata": {},
   "source": [
    "Finally, we will study the missing values in `seccio`. First, we check it this column has the same missing rows as the `escons` column:"
   ]
  },
  {
   "cell_type": "code",
   "execution_count": 62,
   "metadata": {},
   "outputs": [
    {
     "data": {
      "text/plain": [
       "id_nivell_territorial\n",
       "CL        100.0\n",
       "VE    96.969697\n",
       "DM    38.574297\n",
       "CO    34.349593\n",
       "MU    34.155555\n",
       "CA    33.333333\n",
       "PR    33.333333\n",
       "ME         <NA>\n",
       "SE         <NA>\n",
       "Name: count, dtype: Float64"
      ]
     },
     "execution_count": 62,
     "metadata": {},
     "output_type": "execute_result"
    }
   ],
   "source": [
    "missing_column = \"seccio\"\n",
    "(\n",
    "    100\n",
    "    * df[df[missing_column].isnull()].value_counts(\n",
    "        \"id_nivell_territorial\"\n",
    "    )\n",
    "    / df[\"id_nivell_territorial\"].value_counts()\n",
    ").sort_values(ascending=False)"
   ]
  },
  {
   "cell_type": "markdown",
   "metadata": {},
   "source": [
    "We always have information for the territorial levels electoral table (`ME`) and section (`SE`). But, for the other territorial levels, the percentage of missing values is near 100.0%."
   ]
  }
 ],
 "metadata": {
  "kernelspec": {
   "display_name": ".venv",
   "language": "python",
   "name": "python3"
  },
  "language_info": {
   "codemirror_mode": {
    "name": "ipython",
    "version": 3
   },
   "file_extension": ".py",
   "mimetype": "text/x-python",
   "name": "python",
   "nbconvert_exporter": "python",
   "pygments_lexer": "ipython3",
   "version": "3.11.2"
  }
 },
 "nbformat": 4,
 "nbformat_minor": 2
}
