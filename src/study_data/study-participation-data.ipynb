{
 "cells": [
  {
   "cell_type": "markdown",
   "metadata": {},
   "source": [
    "# Study Catalan Elections Participation Dataset"
   ]
  },
  {
   "cell_type": "markdown",
   "metadata": {},
   "source": [
    "Load libraries:"
   ]
  },
  {
   "cell_type": "code",
   "execution_count": 65,
   "metadata": {},
   "outputs": [],
   "source": [
    "import pandas as pd\n",
    "import pprint\n",
    "import matplotlib.pyplot as plt\n",
    "import seaborn as sns\n",
    "import numpy as np\n",
    "import logging\n",
    "from unidecode import unidecode\n",
    "\n",
    "pp = pprint.PrettyPrinter(indent=2)\n",
    "\n",
    "logging.basicConfig(\n",
    "    level=logging.INFO,\n",
    "    format=\"%(asctime)s - %(levelname)s - %(message)s\",\n",
    "    datefmt=\"%Y-%m-%d %H:%M:%S\",\n",
    ")"
   ]
  },
  {
   "cell_type": "markdown",
   "metadata": {},
   "source": [
    "Load the dataset:"
   ]
  },
  {
   "cell_type": "code",
   "execution_count": 66,
   "metadata": {},
   "outputs": [],
   "source": [
    "df = pd.read_pickle('../../data/raw/catalan-elections-participation.pkl')\n",
    "df_original = df.copy()"
   ]
  },
  {
   "cell_type": "markdown",
   "metadata": {},
   "source": [
    "## Dataset Structure"
   ]
  },
  {
   "cell_type": "markdown",
   "metadata": {},
   "source": [
    "Visualize the structure of the dataset:"
   ]
  },
  {
   "cell_type": "code",
   "execution_count": 67,
   "metadata": {},
   "outputs": [
    {
     "name": "stdout",
     "output_type": "stream",
     "text": [
      "<class 'pandas.core.frame.DataFrame'>\n",
      "RangeIndex: 930819 entries, 0 to 930818\n",
      "Data columns (total 24 columns):\n",
      " #   Column                  Non-Null Count   Dtype \n",
      "---  ------                  --------------   ----- \n",
      " 0   index_autonumeric       930819 non-null  Int64 \n",
      " 1   id_eleccio              930819 non-null  string\n",
      " 2   nom_eleccio             930819 non-null  string\n",
      " 3   id_nivell_territorial   930819 non-null  string\n",
      " 4   nom_nivell_territorial  930819 non-null  string\n",
      " 5   territori_codi          930819 non-null  string\n",
      " 6   territori_nom           930819 non-null  string\n",
      " 7   districte               855641 non-null  Int64 \n",
      " 8   seccio                  868235 non-null  Int64 \n",
      " 9   cens_electoral          930819 non-null  Int64 \n",
      " 10  votants                 930819 non-null  Int64 \n",
      " 11  abstencio               930819 non-null  Int64 \n",
      " 12  vots_nuls               930819 non-null  Int64 \n",
      " 13  vots_blancs             930819 non-null  Int64 \n",
      " 14  vots_candidatures       878103 non-null  Int64 \n",
      " 15  vots_valids             930819 non-null  Int64 \n",
      " 16  hora_primer_avan        930054 non-null  string\n",
      " 17  hora_segon_avan         930054 non-null  string\n",
      " 18  mesa                    464870 non-null  string\n",
      " 19  vots_primer_avan        742505 non-null  Int64 \n",
      " 20  vots_segon_avan         742505 non-null  Int64 \n",
      " 21  padro                   67109 non-null   Int64 \n",
      " 22  escons                  66023 non-null   Int64 \n",
      " 23  nombre_meses            66183 non-null   Int64 \n",
      "dtypes: Int64(15), string(9)\n",
      "memory usage: 183.8 MB\n"
     ]
    }
   ],
   "source": [
    "df.info()"
   ]
  },
  {
   "cell_type": "markdown",
   "metadata": {},
   "source": [
    "| Column name        | Description                                 | Type      |\n",
    "|--------------------|---------------------------------------------|-----------|\n",
    "| TERRITORI_NOM      | Nom del territori                           | Text      |\n",
    "| DISTRICTE          | Districte electoral                         | Text      |\n",
    "| SECCIO             | Secció electoral                            | Text      |\n",
    "| MESA               | Mesa electoral                              | Text      |\n",
    "| CENS_ELECTORAL     | Cens del territori                          | Nombre    |\n",
    "| PADRO              | Padró d'habitants del territori             | Nombre    |\n",
    "| ESCONS             | Escons a escollir a la circumscripció       | Nombre    |\n",
    "| NOMBRE_MESES       | Nombre de meses electorals                  | Nombre    |\n",
    "| VOTANTS            | Nombre de votants                           | Nombre    |\n",
    "| ABSTENCIO          | Nombre de persones que s'han abstingut      | Nombre    |\n",
    "| VOTS_NULS          | Vots nuls                                   | Nombre    |\n",
    "| VOTS_BLANCS        | Vots en blanc                               | Nombre    |\n",
    "| VOTS_CANDIDATURES  | Vots a candidatures                         | Nombre    |\n",
    "| VOTS_VALIDS        | Vots vàlids (a candidatures + en blanc)     | Nombre    |\n",
    "| VOTS_PRIMER_AVAN   | Votants al primer avanç de participació     | Nombre    |\n",
    "| HORA_PRIMER_AVAN   | Hora del primer avanç de participació       | Text      |\n",
    "| VOTS_SEGON_AVAN    | Votants al segon avanç de participació      | Nombre    |\n",
    "| HORA_SEGON_AVAN    | Hora del segon avanç de participació        | Text      |"
   ]
  },
  {
   "cell_type": "markdown",
   "metadata": {},
   "source": [
    "## Types of Elections"
   ]
  },
  {
   "cell_type": "markdown",
   "metadata": {},
   "source": [
    "First of all, we will divide `id_eleccio` into `type`, `year` and `sequential` as we did in the previous notebook. This will allow us to analyze the dataset by type of election."
   ]
  },
  {
   "cell_type": "code",
   "execution_count": 68,
   "metadata": {},
   "outputs": [],
   "source": [
    "df['type'] = df['id_eleccio'].str[:1]\n",
    "df['year'] = df['id_eleccio'].str[1:5].astype(int)\n",
    "df['sequential'] = df['id_eleccio'].str[5:]"
   ]
  },
  {
   "cell_type": "markdown",
   "metadata": {},
   "source": [
    "Show the types of elections:"
   ]
  },
  {
   "cell_type": "code",
   "execution_count": 69,
   "metadata": {},
   "outputs": [
    {
     "name": "stdout",
     "output_type": "stream",
     "text": [
      "                                   nom_eleccio\n",
      "type                                          \n",
      "A     Eleccions al Parlament de Catalunya 1995\n",
      "C                         Eleccions Municipals\n",
      "D          Eleccions a Diputacions Provincials\n",
      "E               Eleccions al Parlament Europeu\n",
      "G                      Eleccions Generals 2008\n",
      "M                    Eleccions Municipals 2007\n",
      "R               Referèndum Constitucional 1978\n",
      "S                      Eleccions al Senat 1979\n",
      "V     Eleccions al Consell General d'Aran 2023\n",
      "9\n"
     ]
    }
   ],
   "source": [
    "types = df[['type', 'nom_eleccio']].groupby(['type']).first()\n",
    "print(types)\n",
    "print(len(types))"
   ]
  },
  {
   "cell_type": "markdown",
   "metadata": {},
   "source": [
    "Now we know that the dataset contains data from 9 different types of elections:\n",
    "\n",
    "| Type | Election Type Name                          |\n",
    "|------|---------------------------------------------|\n",
    "| A    | Elections to the Parliament of Catalonia    |\n",
    "| C    | Elections to the County Councils            |\n",
    "| D    | Elections to the Provincial Councils        |\n",
    "| E    | Elections to the European Parliament        |\n",
    "| G    | Elections to the Congress                   |\n",
    "| M    | Municipal Elections                         |\n",
    "| R    | Constitutional Referendum                   |\n",
    "| S    | Elections to the Senate                     |\n",
    "| V    | Elections to the General Council of Aran    |"
   ]
  },
  {
   "cell_type": "markdown",
   "metadata": {},
   "source": [
    "We can see that there is one type of election that is not present in the previous dataset, which is `R`. This type of election is called Constitutional Referendum (`Referèndum Constitucional 1978`)."
   ]
  },
  {
   "cell_type": "markdown",
   "metadata": {},
   "source": [
    "## Filter by Election Type"
   ]
  },
  {
   "cell_type": "markdown",
   "metadata": {},
   "source": [
    "As we explained on the previous notebook, we are only interested on the data from the elections to the Parliament of Catalonia ('A'), municipal elections ('M'), elections to the European Parliament ('E') and elections to the Congress ('G'), so we filter the dataset:"
   ]
  },
  {
   "cell_type": "code",
   "execution_count": 70,
   "metadata": {},
   "outputs": [
    {
     "name": "stdout",
     "output_type": "stream",
     "text": [
      "<class 'pandas.core.frame.DataFrame'>\n",
      "Index: 678882 entries, 548 to 930234\n",
      "Data columns (total 27 columns):\n",
      " #   Column                  Non-Null Count   Dtype \n",
      "---  ------                  --------------   ----- \n",
      " 0   index_autonumeric       678882 non-null  Int64 \n",
      " 1   id_eleccio              678882 non-null  string\n",
      " 2   nom_eleccio             678882 non-null  string\n",
      " 3   id_nivell_territorial   678882 non-null  string\n",
      " 4   nom_nivell_territorial  678882 non-null  string\n",
      " 5   territori_codi          678882 non-null  string\n",
      " 6   territori_nom           678882 non-null  string\n",
      " 7   districte               624021 non-null  Int64 \n",
      " 8   seccio                  633605 non-null  Int64 \n",
      " 9   cens_electoral          678882 non-null  Int64 \n",
      " 10  votants                 678882 non-null  Int64 \n",
      " 11  abstencio               678882 non-null  Int64 \n",
      " 12  vots_nuls               678882 non-null  Int64 \n",
      " 13  vots_blancs             678882 non-null  Int64 \n",
      " 14  vots_candidatures       678882 non-null  Int64 \n",
      " 15  vots_valids             678882 non-null  Int64 \n",
      " 16  hora_primer_avan        678882 non-null  string\n",
      " 17  hora_segon_avan         678882 non-null  string\n",
      " 18  mesa                    341739 non-null  string\n",
      " 19  vots_primer_avan        527188 non-null  Int64 \n",
      " 20  vots_segon_avan         527188 non-null  Int64 \n",
      " 21  padro                   46737 non-null   Int64 \n",
      " 22  escons                  45783 non-null   Int64 \n",
      " 23  nombre_meses            45783 non-null   Int64 \n",
      " 24  type                    678882 non-null  string\n",
      " 25  year                    678882 non-null  int32 \n",
      " 26  sequential              678882 non-null  string\n",
      "dtypes: Int64(15), int32(1), string(11)\n",
      "memory usage: 152.1 MB\n"
     ]
    }
   ],
   "source": [
    "df = df[df['type'].isin(['M', 'E', 'A', 'G'])]\n",
    "\n",
    "df.info()"
   ]
  },
  {
   "cell_type": "markdown",
   "metadata": {},
   "source": [
    "## Check for missing values"
   ]
  },
  {
   "cell_type": "markdown",
   "metadata": {},
   "source": [
    "Now, we want to count the number of missing values in each column:"
   ]
  },
  {
   "cell_type": "code",
   "execution_count": 71,
   "metadata": {},
   "outputs": [
    {
     "data": {
      "text/plain": [
       "nombre_meses              93.256118\n",
       "escons                    93.256118\n",
       "padro                     93.115593\n",
       "mesa                      49.661502\n",
       "vots_segon_avan           22.344678\n",
       "vots_primer_avan          22.344678\n",
       "districte                  8.081080\n",
       "seccio                     6.669348\n",
       "index_autonumeric          0.000000\n",
       "vots_valids                0.000000\n",
       "year                       0.000000\n",
       "type                       0.000000\n",
       "hora_segon_avan            0.000000\n",
       "hora_primer_avan           0.000000\n",
       "vots_blancs                0.000000\n",
       "vots_candidatures          0.000000\n",
       "id_eleccio                 0.000000\n",
       "vots_nuls                  0.000000\n",
       "abstencio                  0.000000\n",
       "votants                    0.000000\n",
       "cens_electoral             0.000000\n",
       "territori_nom              0.000000\n",
       "territori_codi             0.000000\n",
       "nom_nivell_territorial     0.000000\n",
       "id_nivell_territorial      0.000000\n",
       "nom_eleccio                0.000000\n",
       "sequential                 0.000000\n",
       "dtype: float64"
      ]
     },
     "execution_count": 71,
     "metadata": {},
     "output_type": "execute_result"
    }
   ],
   "source": [
    "# Calculate the percentage of missing values in each column and sort them\n",
    "df.isnull().mean().sort_values(ascending=False) * 100"
   ]
  },
  {
   "cell_type": "markdown",
   "metadata": {},
   "source": [
    "Based on the previous table, we can see that `escons`, `nombre_meses` and `padro` have lots of empty values.\n",
    "\n",
    "Also, we can see that `mesa` and `vots_segon_avan` and `vots_primer_avan` have a significant number of empty values.\n",
    "\n",
    "We will study them to see if we can fill them with some value or if we need to remove them."
   ]
  },
  {
   "cell_type": "markdown",
   "metadata": {},
   "source": [
    "### Missing values in `escons`"
   ]
  },
  {
   "cell_type": "code",
   "execution_count": 72,
   "metadata": {},
   "outputs": [
    {
     "data": {
      "text/html": [
       "<div>\n",
       "<style scoped>\n",
       "    .dataframe tbody tr th:only-of-type {\n",
       "        vertical-align: middle;\n",
       "    }\n",
       "\n",
       "    .dataframe tbody tr th {\n",
       "        vertical-align: top;\n",
       "    }\n",
       "\n",
       "    .dataframe thead th {\n",
       "        text-align: right;\n",
       "    }\n",
       "</style>\n",
       "<table border=\"1\" class=\"dataframe\">\n",
       "  <thead>\n",
       "    <tr style=\"text-align: right;\">\n",
       "      <th></th>\n",
       "      <th>index_autonumeric</th>\n",
       "      <th>id_eleccio</th>\n",
       "      <th>nom_eleccio</th>\n",
       "      <th>id_nivell_territorial</th>\n",
       "      <th>nom_nivell_territorial</th>\n",
       "      <th>territori_codi</th>\n",
       "      <th>territori_nom</th>\n",
       "      <th>districte</th>\n",
       "      <th>seccio</th>\n",
       "      <th>cens_electoral</th>\n",
       "      <th>...</th>\n",
       "      <th>hora_segon_avan</th>\n",
       "      <th>mesa</th>\n",
       "      <th>vots_primer_avan</th>\n",
       "      <th>vots_segon_avan</th>\n",
       "      <th>padro</th>\n",
       "      <th>escons</th>\n",
       "      <th>nombre_meses</th>\n",
       "      <th>type</th>\n",
       "      <th>year</th>\n",
       "      <th>sequential</th>\n",
       "    </tr>\n",
       "  </thead>\n",
       "  <tbody>\n",
       "    <tr>\n",
       "      <th>548</th>\n",
       "      <td>99504</td>\n",
       "      <td>A19951</td>\n",
       "      <td>Eleccions al Parlament de Catalunya 1995</td>\n",
       "      <td>DM</td>\n",
       "      <td>Districte Municipal</td>\n",
       "      <td>25165</td>\n",
       "      <td>Peramola</td>\n",
       "      <td>1</td>\n",
       "      <td>0</td>\n",
       "      <td>336</td>\n",
       "      <td>...</td>\n",
       "      <td>18:00:00</td>\n",
       "      <td>&lt;NA&gt;</td>\n",
       "      <td>167</td>\n",
       "      <td>232</td>\n",
       "      <td>&lt;NA&gt;</td>\n",
       "      <td>&lt;NA&gt;</td>\n",
       "      <td>&lt;NA&gt;</td>\n",
       "      <td>A</td>\n",
       "      <td>1995</td>\n",
       "      <td>1</td>\n",
       "    </tr>\n",
       "    <tr>\n",
       "      <th>549</th>\n",
       "      <td>99503</td>\n",
       "      <td>A19951</td>\n",
       "      <td>Eleccions al Parlament de Catalunya 1995</td>\n",
       "      <td>DM</td>\n",
       "      <td>Districte Municipal</td>\n",
       "      <td>25164</td>\n",
       "      <td>Penelles</td>\n",
       "      <td>1</td>\n",
       "      <td>0</td>\n",
       "      <td>477</td>\n",
       "      <td>...</td>\n",
       "      <td>18:00:00</td>\n",
       "      <td>&lt;NA&gt;</td>\n",
       "      <td>113</td>\n",
       "      <td>275</td>\n",
       "      <td>&lt;NA&gt;</td>\n",
       "      <td>&lt;NA&gt;</td>\n",
       "      <td>&lt;NA&gt;</td>\n",
       "      <td>A</td>\n",
       "      <td>1995</td>\n",
       "      <td>1</td>\n",
       "    </tr>\n",
       "    <tr>\n",
       "      <th>550</th>\n",
       "      <td>99502</td>\n",
       "      <td>A19951</td>\n",
       "      <td>Eleccions al Parlament de Catalunya 1995</td>\n",
       "      <td>DM</td>\n",
       "      <td>Districte Municipal</td>\n",
       "      <td>25163</td>\n",
       "      <td>Coma i la Pedra, la</td>\n",
       "      <td>1</td>\n",
       "      <td>0</td>\n",
       "      <td>218</td>\n",
       "      <td>...</td>\n",
       "      <td>18:00:00</td>\n",
       "      <td>&lt;NA&gt;</td>\n",
       "      <td>61</td>\n",
       "      <td>117</td>\n",
       "      <td>&lt;NA&gt;</td>\n",
       "      <td>&lt;NA&gt;</td>\n",
       "      <td>&lt;NA&gt;</td>\n",
       "      <td>A</td>\n",
       "      <td>1995</td>\n",
       "      <td>1</td>\n",
       "    </tr>\n",
       "    <tr>\n",
       "      <th>551</th>\n",
       "      <td>99501</td>\n",
       "      <td>A19951</td>\n",
       "      <td>Eleccions al Parlament de Catalunya 1995</td>\n",
       "      <td>DM</td>\n",
       "      <td>Districte Municipal</td>\n",
       "      <td>25161</td>\n",
       "      <td>Conca de Dalt</td>\n",
       "      <td>1</td>\n",
       "      <td>0</td>\n",
       "      <td>400</td>\n",
       "      <td>...</td>\n",
       "      <td>18:00:00</td>\n",
       "      <td>&lt;NA&gt;</td>\n",
       "      <td>95</td>\n",
       "      <td>185</td>\n",
       "      <td>&lt;NA&gt;</td>\n",
       "      <td>&lt;NA&gt;</td>\n",
       "      <td>&lt;NA&gt;</td>\n",
       "      <td>A</td>\n",
       "      <td>1995</td>\n",
       "      <td>1</td>\n",
       "    </tr>\n",
       "    <tr>\n",
       "      <th>552</th>\n",
       "      <td>99500</td>\n",
       "      <td>A19951</td>\n",
       "      <td>Eleccions al Parlament de Catalunya 1995</td>\n",
       "      <td>DM</td>\n",
       "      <td>Districte Municipal</td>\n",
       "      <td>25158</td>\n",
       "      <td>Palau d'Anglesola, el</td>\n",
       "      <td>1</td>\n",
       "      <td>0</td>\n",
       "      <td>1321</td>\n",
       "      <td>...</td>\n",
       "      <td>18:00:00</td>\n",
       "      <td>&lt;NA&gt;</td>\n",
       "      <td>285</td>\n",
       "      <td>770</td>\n",
       "      <td>&lt;NA&gt;</td>\n",
       "      <td>&lt;NA&gt;</td>\n",
       "      <td>&lt;NA&gt;</td>\n",
       "      <td>A</td>\n",
       "      <td>1995</td>\n",
       "      <td>1</td>\n",
       "    </tr>\n",
       "    <tr>\n",
       "      <th>...</th>\n",
       "      <td>...</td>\n",
       "      <td>...</td>\n",
       "      <td>...</td>\n",
       "      <td>...</td>\n",
       "      <td>...</td>\n",
       "      <td>...</td>\n",
       "      <td>...</td>\n",
       "      <td>...</td>\n",
       "      <td>...</td>\n",
       "      <td>...</td>\n",
       "      <td>...</td>\n",
       "      <td>...</td>\n",
       "      <td>...</td>\n",
       "      <td>...</td>\n",
       "      <td>...</td>\n",
       "      <td>...</td>\n",
       "      <td>...</td>\n",
       "      <td>...</td>\n",
       "      <td>...</td>\n",
       "      <td>...</td>\n",
       "      <td>...</td>\n",
       "    </tr>\n",
       "    <tr>\n",
       "      <th>929151</th>\n",
       "      <td>101498</td>\n",
       "      <td>A19951</td>\n",
       "      <td>Eleccions al Parlament de Catalunya 1995</td>\n",
       "      <td>DM</td>\n",
       "      <td>Districte Municipal</td>\n",
       "      <td>25170</td>\n",
       "      <td>Bellaguarda</td>\n",
       "      <td>1</td>\n",
       "      <td>0</td>\n",
       "      <td>316</td>\n",
       "      <td>...</td>\n",
       "      <td>18:00:00</td>\n",
       "      <td>&lt;NA&gt;</td>\n",
       "      <td>39</td>\n",
       "      <td>141</td>\n",
       "      <td>&lt;NA&gt;</td>\n",
       "      <td>&lt;NA&gt;</td>\n",
       "      <td>&lt;NA&gt;</td>\n",
       "      <td>A</td>\n",
       "      <td>1995</td>\n",
       "      <td>1</td>\n",
       "    </tr>\n",
       "    <tr>\n",
       "      <th>930231</th>\n",
       "      <td>100525</td>\n",
       "      <td>A19951</td>\n",
       "      <td>Eleccions al Parlament de Catalunya 1995</td>\n",
       "      <td>DM</td>\n",
       "      <td>Districte Municipal</td>\n",
       "      <td>25169</td>\n",
       "      <td>Pobla de Cérvoles, la</td>\n",
       "      <td>1</td>\n",
       "      <td>0</td>\n",
       "      <td>188</td>\n",
       "      <td>...</td>\n",
       "      <td>18:00:00</td>\n",
       "      <td>&lt;NA&gt;</td>\n",
       "      <td>48</td>\n",
       "      <td>119</td>\n",
       "      <td>&lt;NA&gt;</td>\n",
       "      <td>&lt;NA&gt;</td>\n",
       "      <td>&lt;NA&gt;</td>\n",
       "      <td>A</td>\n",
       "      <td>1995</td>\n",
       "      <td>1</td>\n",
       "    </tr>\n",
       "    <tr>\n",
       "      <th>930232</th>\n",
       "      <td>100524</td>\n",
       "      <td>A19951</td>\n",
       "      <td>Eleccions al Parlament de Catalunya 1995</td>\n",
       "      <td>DM</td>\n",
       "      <td>Districte Municipal</td>\n",
       "      <td>25168</td>\n",
       "      <td>Poal, el</td>\n",
       "      <td>1</td>\n",
       "      <td>0</td>\n",
       "      <td>537</td>\n",
       "      <td>...</td>\n",
       "      <td>18:00:00</td>\n",
       "      <td>&lt;NA&gt;</td>\n",
       "      <td>200</td>\n",
       "      <td>370</td>\n",
       "      <td>&lt;NA&gt;</td>\n",
       "      <td>&lt;NA&gt;</td>\n",
       "      <td>&lt;NA&gt;</td>\n",
       "      <td>A</td>\n",
       "      <td>1995</td>\n",
       "      <td>1</td>\n",
       "    </tr>\n",
       "    <tr>\n",
       "      <th>930233</th>\n",
       "      <td>100523</td>\n",
       "      <td>A19951</td>\n",
       "      <td>Eleccions al Parlament de Catalunya 1995</td>\n",
       "      <td>DM</td>\n",
       "      <td>Districte Municipal</td>\n",
       "      <td>25167</td>\n",
       "      <td>Pinós</td>\n",
       "      <td>1</td>\n",
       "      <td>0</td>\n",
       "      <td>295</td>\n",
       "      <td>...</td>\n",
       "      <td>18:00:00</td>\n",
       "      <td>&lt;NA&gt;</td>\n",
       "      <td>83</td>\n",
       "      <td>152</td>\n",
       "      <td>&lt;NA&gt;</td>\n",
       "      <td>&lt;NA&gt;</td>\n",
       "      <td>&lt;NA&gt;</td>\n",
       "      <td>A</td>\n",
       "      <td>1995</td>\n",
       "      <td>1</td>\n",
       "    </tr>\n",
       "    <tr>\n",
       "      <th>930234</th>\n",
       "      <td>100522</td>\n",
       "      <td>A19951</td>\n",
       "      <td>Eleccions al Parlament de Catalunya 1995</td>\n",
       "      <td>DM</td>\n",
       "      <td>Districte Municipal</td>\n",
       "      <td>25166</td>\n",
       "      <td>Pinell de Solsonès</td>\n",
       "      <td>1</td>\n",
       "      <td>0</td>\n",
       "      <td>216</td>\n",
       "      <td>...</td>\n",
       "      <td>18:00:00</td>\n",
       "      <td>&lt;NA&gt;</td>\n",
       "      <td>57</td>\n",
       "      <td>128</td>\n",
       "      <td>&lt;NA&gt;</td>\n",
       "      <td>&lt;NA&gt;</td>\n",
       "      <td>&lt;NA&gt;</td>\n",
       "      <td>A</td>\n",
       "      <td>1995</td>\n",
       "      <td>1</td>\n",
       "    </tr>\n",
       "  </tbody>\n",
       "</table>\n",
       "<p>633099 rows × 27 columns</p>\n",
       "</div>"
      ],
      "text/plain": [
       "        index_autonumeric id_eleccio  \\\n",
       "548                 99504     A19951   \n",
       "549                 99503     A19951   \n",
       "550                 99502     A19951   \n",
       "551                 99501     A19951   \n",
       "552                 99500     A19951   \n",
       "...                   ...        ...   \n",
       "929151             101498     A19951   \n",
       "930231             100525     A19951   \n",
       "930232             100524     A19951   \n",
       "930233             100523     A19951   \n",
       "930234             100522     A19951   \n",
       "\n",
       "                                     nom_eleccio id_nivell_territorial  \\\n",
       "548     Eleccions al Parlament de Catalunya 1995                    DM   \n",
       "549     Eleccions al Parlament de Catalunya 1995                    DM   \n",
       "550     Eleccions al Parlament de Catalunya 1995                    DM   \n",
       "551     Eleccions al Parlament de Catalunya 1995                    DM   \n",
       "552     Eleccions al Parlament de Catalunya 1995                    DM   \n",
       "...                                          ...                   ...   \n",
       "929151  Eleccions al Parlament de Catalunya 1995                    DM   \n",
       "930231  Eleccions al Parlament de Catalunya 1995                    DM   \n",
       "930232  Eleccions al Parlament de Catalunya 1995                    DM   \n",
       "930233  Eleccions al Parlament de Catalunya 1995                    DM   \n",
       "930234  Eleccions al Parlament de Catalunya 1995                    DM   \n",
       "\n",
       "       nom_nivell_territorial territori_codi          territori_nom  \\\n",
       "548       Districte Municipal          25165               Peramola   \n",
       "549       Districte Municipal          25164               Penelles   \n",
       "550       Districte Municipal          25163    Coma i la Pedra, la   \n",
       "551       Districte Municipal          25161          Conca de Dalt   \n",
       "552       Districte Municipal          25158  Palau d'Anglesola, el   \n",
       "...                       ...            ...                    ...   \n",
       "929151    Districte Municipal          25170            Bellaguarda   \n",
       "930231    Districte Municipal          25169  Pobla de Cérvoles, la   \n",
       "930232    Districte Municipal          25168               Poal, el   \n",
       "930233    Districte Municipal          25167                  Pinós   \n",
       "930234    Districte Municipal          25166     Pinell de Solsonès   \n",
       "\n",
       "        districte  seccio  cens_electoral  ...  hora_segon_avan  mesa  \\\n",
       "548             1       0             336  ...         18:00:00  <NA>   \n",
       "549             1       0             477  ...         18:00:00  <NA>   \n",
       "550             1       0             218  ...         18:00:00  <NA>   \n",
       "551             1       0             400  ...         18:00:00  <NA>   \n",
       "552             1       0            1321  ...         18:00:00  <NA>   \n",
       "...           ...     ...             ...  ...              ...   ...   \n",
       "929151          1       0             316  ...         18:00:00  <NA>   \n",
       "930231          1       0             188  ...         18:00:00  <NA>   \n",
       "930232          1       0             537  ...         18:00:00  <NA>   \n",
       "930233          1       0             295  ...         18:00:00  <NA>   \n",
       "930234          1       0             216  ...         18:00:00  <NA>   \n",
       "\n",
       "        vots_primer_avan  vots_segon_avan  padro  escons nombre_meses type  \\\n",
       "548                  167              232   <NA>    <NA>         <NA>    A   \n",
       "549                  113              275   <NA>    <NA>         <NA>    A   \n",
       "550                   61              117   <NA>    <NA>         <NA>    A   \n",
       "551                   95              185   <NA>    <NA>         <NA>    A   \n",
       "552                  285              770   <NA>    <NA>         <NA>    A   \n",
       "...                  ...              ...    ...     ...          ...  ...   \n",
       "929151                39              141   <NA>    <NA>         <NA>    A   \n",
       "930231                48              119   <NA>    <NA>         <NA>    A   \n",
       "930232               200              370   <NA>    <NA>         <NA>    A   \n",
       "930233                83              152   <NA>    <NA>         <NA>    A   \n",
       "930234                57              128   <NA>    <NA>         <NA>    A   \n",
       "\n",
       "        year  sequential  \n",
       "548     1995           1  \n",
       "549     1995           1  \n",
       "550     1995           1  \n",
       "551     1995           1  \n",
       "552     1995           1  \n",
       "...      ...         ...  \n",
       "929151  1995           1  \n",
       "930231  1995           1  \n",
       "930232  1995           1  \n",
       "930233  1995           1  \n",
       "930234  1995           1  \n",
       "\n",
       "[633099 rows x 27 columns]"
      ]
     },
     "execution_count": 72,
     "metadata": {},
     "output_type": "execute_result"
    }
   ],
   "source": [
    "df[df[\"escons\"].isnull()]"
   ]
  },
  {
   "cell_type": "markdown",
   "metadata": {},
   "source": [
    "We calculate the percentage of missing ``escons`` values by ``id_nivell_territorial``. The `NA` values represent 0.0% of the total:"
   ]
  },
  {
   "cell_type": "code",
   "execution_count": 73,
   "metadata": {},
   "outputs": [
    {
     "data": {
      "text/html": [
       "<div>\n",
       "<style scoped>\n",
       "    .dataframe tbody tr th:only-of-type {\n",
       "        vertical-align: middle;\n",
       "    }\n",
       "\n",
       "    .dataframe tbody tr th {\n",
       "        vertical-align: top;\n",
       "    }\n",
       "\n",
       "    .dataframe thead th {\n",
       "        text-align: right;\n",
       "    }\n",
       "</style>\n",
       "<table border=\"1\" class=\"dataframe\">\n",
       "  <thead>\n",
       "    <tr style=\"text-align: right;\">\n",
       "      <th></th>\n",
       "      <th>id_nivell_territorial</th>\n",
       "      <th>nom_nivell_territorial</th>\n",
       "    </tr>\n",
       "  </thead>\n",
       "  <tbody>\n",
       "    <tr>\n",
       "      <th>548</th>\n",
       "      <td>DM</td>\n",
       "      <td>Districte Municipal</td>\n",
       "    </tr>\n",
       "    <tr>\n",
       "      <th>588</th>\n",
       "      <td>ME</td>\n",
       "      <td>Mesa</td>\n",
       "    </tr>\n",
       "    <tr>\n",
       "      <th>7876</th>\n",
       "      <td>SE</td>\n",
       "      <td>Secció</td>\n",
       "    </tr>\n",
       "    <tr>\n",
       "      <th>8459</th>\n",
       "      <td>CA</td>\n",
       "      <td>Catalunya</td>\n",
       "    </tr>\n",
       "    <tr>\n",
       "      <th>14911</th>\n",
       "      <td>PR</td>\n",
       "      <td>Província</td>\n",
       "    </tr>\n",
       "    <tr>\n",
       "      <th>14915</th>\n",
       "      <td>VE</td>\n",
       "      <td>Vegueria</td>\n",
       "    </tr>\n",
       "    <tr>\n",
       "      <th>14925</th>\n",
       "      <td>CO</td>\n",
       "      <td>Comarca</td>\n",
       "    </tr>\n",
       "    <tr>\n",
       "      <th>22989</th>\n",
       "      <td>MU</td>\n",
       "      <td>Municipi</td>\n",
       "    </tr>\n",
       "    <tr>\n",
       "      <th>112991</th>\n",
       "      <td>PR</td>\n",
       "      <td>Provincia</td>\n",
       "    </tr>\n",
       "    <tr>\n",
       "      <th>120016</th>\n",
       "      <td>ME</td>\n",
       "      <td>Municipi</td>\n",
       "    </tr>\n",
       "    <tr>\n",
       "      <th>227179</th>\n",
       "      <td>CL</td>\n",
       "      <td>Col·legi</td>\n",
       "    </tr>\n",
       "  </tbody>\n",
       "</table>\n",
       "</div>"
      ],
      "text/plain": [
       "       id_nivell_territorial nom_nivell_territorial\n",
       "548                       DM    Districte Municipal\n",
       "588                       ME                   Mesa\n",
       "7876                      SE                 Secció\n",
       "8459                      CA              Catalunya\n",
       "14911                     PR              Província\n",
       "14915                     VE               Vegueria\n",
       "14925                     CO                Comarca\n",
       "22989                     MU               Municipi\n",
       "112991                    PR              Provincia\n",
       "120016                    ME               Municipi\n",
       "227179                    CL               Col·legi"
      ]
     },
     "execution_count": 73,
     "metadata": {},
     "output_type": "execute_result"
    }
   ],
   "source": [
    "df[[\"id_nivell_territorial\", \"nom_nivell_territorial\"]].drop_duplicates()"
   ]
  },
  {
   "cell_type": "code",
   "execution_count": 74,
   "metadata": {},
   "outputs": [
    {
     "data": {
      "text/plain": [
       "id_nivell_territorial\n",
       "CA      2.083333\n",
       "CL    100.000000\n",
       "CO      0.152439\n",
       "DM    100.000000\n",
       "ME    100.000000\n",
       "MU      2.172104\n",
       "PR      2.083333\n",
       "SE    100.000000\n",
       "VE     23.232323\n",
       "Name: count, dtype: float64"
      ]
     },
     "execution_count": 74,
     "metadata": {},
     "output_type": "execute_result"
    }
   ],
   "source": [
    "100 * df[df[\"escons\"].isnull()].value_counts(\"id_nivell_territorial\") / df.value_counts(\n",
    "    \"id_nivell_territorial\"\n",
    ")"
   ]
  },
  {
   "cell_type": "markdown",
   "metadata": {},
   "source": [
    "We can see that for ``Mesa``, ``Col·legi``, ``Districte Municipal`` and ``Secció`` the percentage of missing values is 100.0%. On the other territorial levels, the percentage of missing values is near 0.0%."
   ]
  },
  {
   "cell_type": "markdown",
   "metadata": {},
   "source": [
    "We can also study the percentage of missing values by election type (`type`):"
   ]
  },
  {
   "cell_type": "code",
   "execution_count": 75,
   "metadata": {},
   "outputs": [
    {
     "data": {
      "text/plain": [
       "type\n",
       "G    93.117926\n",
       "A    93.382706\n",
       "M    92.577261\n",
       "E    94.132990\n",
       "Name: count, dtype: float64"
      ]
     },
     "execution_count": 75,
     "metadata": {},
     "output_type": "execute_result"
    }
   ],
   "source": [
    "100 * df[df[\"escons\"].isnull()].value_counts(\"type\") / df.value_counts(\"type\")"
   ]
  },
  {
   "cell_type": "markdown",
   "metadata": {},
   "source": [
    "We will filter out the territorial levels with 100.0% of missing values:"
   ]
  },
  {
   "cell_type": "code",
   "execution_count": 76,
   "metadata": {},
   "outputs": [
    {
     "name": "stdout",
     "output_type": "stream",
     "text": [
      "id_nivell_territorial\n",
      "VE    23.232323\n",
      "MU     2.172104\n",
      "CA     2.083333\n",
      "PR     2.083333\n",
      "CO     0.152439\n",
      "Name: count, dtype: Float64\n",
      "type\n",
      "E    11.988964\n",
      "G     0.127218\n",
      "A     0.115723\n",
      "M     0.064167\n",
      "Name: count, dtype: Float64\n",
      "year\n",
      "2009    95.285858\n",
      "2012     0.795229\n",
      "2019     0.570578\n",
      "2021     0.496032\n",
      "2011     0.350350\n",
      "2016     0.099305\n",
      "2017     0.099206\n",
      "2015     0.066335\n",
      "Name: count, dtype: float64\n",
      "territori_nom\n",
      "CERA Tarragona      100.0\n",
      "CERA Lleida         100.0\n",
      "CERA Girona         100.0\n",
      "CERA Catalunya      100.0\n",
      "CERA Barcelona      100.0\n",
      "                   ...   \n",
      "Gironella         2.12766\n",
      "Gisclareny        2.12766\n",
      "Godall            2.12766\n",
      "Golmés            2.12766\n",
      "Tarragona         1.06383\n",
      "Name: count, Length: 956, dtype: Float64\n"
     ]
    }
   ],
   "source": [
    "df_filtered = df[~df[\"id_nivell_territorial\"].isin([\"CL\", \"DM\", \"ME\", \"SE\"])]\n",
    "print(\n",
    "    (\n",
    "        100\n",
    "        * df_filtered[df_filtered[\"escons\"].isnull()].value_counts(\n",
    "            \"id_nivell_territorial\"\n",
    "        )\n",
    "        / df_filtered[\"id_nivell_territorial\"].value_counts()\n",
    "    ).sort_values(ascending=False)\n",
    ")\n",
    "print(\n",
    "    (\n",
    "        100\n",
    "        * df_filtered[df_filtered[\"escons\"].isnull()].value_counts(\"type\")\n",
    "        / df_filtered[\"type\"].value_counts()\n",
    "    ).sort_values(ascending=False)\n",
    ")\n",
    "print(\n",
    "    (\n",
    "        100\n",
    "        * df_filtered[df_filtered[\"escons\"].isnull()].value_counts(\"year\")\n",
    "        / df_filtered[\"year\"].value_counts()\n",
    "    )\n",
    "    .sort_values(ascending=False)\n",
    "    .dropna()\n",
    ")\n",
    "print(\n",
    "    (\n",
    "        100\n",
    "        * df_filtered[df_filtered[\"escons\"].isnull()].value_counts(\"territori_nom\")\n",
    "        / df_filtered[\"territori_nom\"].value_counts()\n",
    "    )\n",
    "    .sort_values(ascending=False)\n",
    "    .dropna()\n",
    ")"
   ]
  },
  {
   "cell_type": "markdown",
   "metadata": {},
   "source": [
    "Most of the missing values are from ``CERA *`` and ``Residents Absents`` on the ``territori_nom`` column. This is logic because these \"territories\" are not physical places, but groups of people and therefore they don't have a number of seats to be elected."
   ]
  },
  {
   "cell_type": "code",
   "execution_count": 94,
   "metadata": {},
   "outputs": [],
   "source": [
    "territori_nom_escons_null = (\n",
    "    (\n",
    "        100\n",
    "        * df_filtered[df_filtered[\"escons\"].isnull()].value_counts(\"territori_nom\")\n",
    "        / df_filtered[\"territori_nom\"].value_counts()\n",
    "    )\n",
    "    .sort_values(ascending=False)\n",
    "    .dropna()\n",
    ")\n",
    "eleccions_escons_null = (\n",
    "    (\n",
    "        100\n",
    "        * df_filtered[df_filtered[\"escons\"].isnull()].value_counts(\"type\")\n",
    "        / df_filtered[\"type\"].value_counts()\n",
    "    )\n",
    "    .sort_values(ascending=False)\n",
    "    .dropna()\n",
    ")\n",
    "generals_escons_null = (\n",
    "    df_filtered[(df_filtered[\"escons\"].isnull()) & (df_filtered[\"type\"] == \"G\")]\n",
    ")\n",
    "autonomiques_escons_null = (\n",
    "    df_filtered[(df_filtered[\"escons\"].isnull()) & (df_filtered[\"type\"] == \"A\")]\n",
    ")\n",
    "europees_escons_null = (\n",
    "    df_filtered[(df_filtered[\"escons\"].isnull()) & (df_filtered[\"type\"] == \"E\")]\n",
    ")\n",
    "print(\n",
    "    (\n",
    "        100\n",
    "        * europees_escons_null[europees_escons_null[\"escons\"].isnull()].value_counts(\"territori_nom\")\n",
    "        / europees_escons_null[\"territori_nom\"].value_counts()\n",
    "    )\n",
    "    .sort_values(ascending=False)\n",
    ")"
   ]
  },
  {
   "cell_type": "markdown",
   "metadata": {},
   "source": [
    "Vegueries doesn't have seats to be elected, so on the catalan elections they have missing values for seats.\n",
    "\n",
    "On the european elections, any municipality has seats to be elected, so they have missing values for seats."
   ]
  },
  {
   "cell_type": "markdown",
   "metadata": {},
   "source": [
    "### Missing values in `nombre_meses`"
   ]
  },
  {
   "cell_type": "markdown",
   "metadata": {},
   "source": [
    "### Missing values in `padro`"
   ]
  },
  {
   "cell_type": "markdown",
   "metadata": {},
   "source": [
    "### Missing values in `mesa`"
   ]
  },
  {
   "cell_type": "markdown",
   "metadata": {},
   "source": [
    "### Missing values in `vots_segon_avan` and `vots_primer_avan`"
   ]
  },
  {
   "cell_type": "markdown",
   "metadata": {},
   "source": [
    "### Missing values in `districte`"
   ]
  },
  {
   "cell_type": "markdown",
   "metadata": {},
   "source": [
    "### Missing values in `seccio`"
   ]
  }
 ],
 "metadata": {
  "kernelspec": {
   "display_name": ".venv",
   "language": "python",
   "name": "python3"
  },
  "language_info": {
   "codemirror_mode": {
    "name": "ipython",
    "version": 3
   },
   "file_extension": ".py",
   "mimetype": "text/x-python",
   "name": "python",
   "nbconvert_exporter": "python",
   "pygments_lexer": "ipython3",
   "version": "3.11.2"
  }
 },
 "nbformat": 4,
 "nbformat_minor": 2
}
